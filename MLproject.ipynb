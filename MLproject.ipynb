{
  "cells": [
    {
      "cell_type": "code",
      "execution_count": null,
      "metadata": {
        "id": "m9UfjKsi7hzD"
      },
      "outputs": [],
      "source": [
        "import sys\n",
        "import transformers\n",
        "import pandas as pd\n",
        "import numpy as np\n",
        "import glob\n",
        "import nltk\n",
        "import torch\n",
        "import math\n",
        "import random\n",
        "import re\n",
        "import argparse\n",
        "import os"
      ]
    },
    {
      "cell_type": "code",
      "execution_count": null,
      "metadata": {
        "colab": {
          "base_uri": "https://localhost:8080/"
        },
        "id": "5-MLfcz4LSue",
        "outputId": "0de1dc9f-8a15-4f36-f656-dadf26a2e739"
      },
      "outputs": [
        {
          "output_type": "stream",
          "name": "stdout",
          "text": [
            "Mounted at /content/drive\n"
          ]
        }
      ],
      "source": [
        "from google.colab import drive\n",
        "drive.mount('/content/drive')"
      ]
    },
    {
      "cell_type": "code",
      "execution_count": null,
      "metadata": {
        "colab": {
          "base_uri": "https://localhost:8080/",
          "height": 321
        },
        "id": "Z73MeJo6S0Id",
        "outputId": "4af691f4-e790-4e0d-ff4a-5851f4c4a7a5"
      },
      "outputs": [
        {
          "ename": "KeyboardInterrupt",
          "evalue": "",
          "output_type": "error",
          "traceback": [
            "\u001b[0;31m---------------------------------------------------------------------------\u001b[0m",
            "\u001b[0;31mKeyboardInterrupt\u001b[0m                         Traceback (most recent call last)",
            "\u001b[0;32m<ipython-input-7-c08997cf3645>\u001b[0m in \u001b[0;36m<cell line: 27>\u001b[0;34m()\u001b[0m\n\u001b[1;32m     25\u001b[0m \u001b[0;34m\u001b[0m\u001b[0m\n\u001b[1;32m     26\u001b[0m     \u001b[0;32mreturn\u001b[0m \u001b[0mdocuments\u001b[0m\u001b[0;34m,\u001b[0m \u001b[0msummaries\u001b[0m\u001b[0;34m\u001b[0m\u001b[0;34m\u001b[0m\u001b[0m\n\u001b[0;32m---> 27\u001b[0;31m \u001b[0mdocuments\u001b[0m\u001b[0;34m,\u001b[0m \u001b[0msummaries\u001b[0m \u001b[0;34m=\u001b[0m \u001b[0mload_documents_and_summaries\u001b[0m\u001b[0;34m(\u001b[0m\u001b[0mdoc_dir\u001b[0m\u001b[0;34m,\u001b[0m \u001b[0msummary_dir\u001b[0m\u001b[0;34m)\u001b[0m\u001b[0;34m\u001b[0m\u001b[0;34m\u001b[0m\u001b[0m\n\u001b[0m",
            "\u001b[0;32m<ipython-input-7-c08997cf3645>\u001b[0m in \u001b[0;36mload_documents_and_summaries\u001b[0;34m(doc_dir, summary_dir)\u001b[0m\n\u001b[1;32m     17\u001b[0m             \u001b[0;32mwith\u001b[0m \u001b[0mopen\u001b[0m\u001b[0;34m(\u001b[0m\u001b[0mos\u001b[0m\u001b[0;34m.\u001b[0m\u001b[0mpath\u001b[0m\u001b[0;34m.\u001b[0m\u001b[0mjoin\u001b[0m\u001b[0;34m(\u001b[0m\u001b[0mdoc_dir\u001b[0m\u001b[0;34m,\u001b[0m \u001b[0mfile\u001b[0m\u001b[0;34m)\u001b[0m\u001b[0;34m,\u001b[0m \u001b[0;34m'r'\u001b[0m\u001b[0;34m,\u001b[0m \u001b[0mencoding\u001b[0m\u001b[0;34m=\u001b[0m\u001b[0;34m'utf-8'\u001b[0m\u001b[0;34m)\u001b[0m \u001b[0;32mas\u001b[0m \u001b[0mdoc_file\u001b[0m\u001b[0;34m:\u001b[0m\u001b[0;34m\u001b[0m\u001b[0;34m\u001b[0m\u001b[0m\n\u001b[1;32m     18\u001b[0m                 \u001b[0mdocument_content\u001b[0m \u001b[0;34m=\u001b[0m \u001b[0mdoc_file\u001b[0m\u001b[0;34m.\u001b[0m\u001b[0mread\u001b[0m\u001b[0;34m(\u001b[0m\u001b[0;34m)\u001b[0m\u001b[0;34m\u001b[0m\u001b[0;34m\u001b[0m\u001b[0m\n\u001b[0;32m---> 19\u001b[0;31m             \u001b[0;32mwith\u001b[0m \u001b[0mopen\u001b[0m\u001b[0;34m(\u001b[0m\u001b[0mos\u001b[0m\u001b[0;34m.\u001b[0m\u001b[0mpath\u001b[0m\u001b[0;34m.\u001b[0m\u001b[0mjoin\u001b[0m\u001b[0;34m(\u001b[0m\u001b[0msummary_dir\u001b[0m\u001b[0;34m,\u001b[0m \u001b[0mfile\u001b[0m\u001b[0;34m)\u001b[0m\u001b[0;34m,\u001b[0m \u001b[0;34m'r'\u001b[0m\u001b[0;34m,\u001b[0m \u001b[0mencoding\u001b[0m\u001b[0;34m=\u001b[0m\u001b[0;34m'utf-8'\u001b[0m\u001b[0;34m)\u001b[0m \u001b[0;32mas\u001b[0m \u001b[0msummary_file\u001b[0m\u001b[0;34m:\u001b[0m\u001b[0;34m\u001b[0m\u001b[0;34m\u001b[0m\u001b[0m\n\u001b[0m\u001b[1;32m     20\u001b[0m                 \u001b[0msummary_content\u001b[0m \u001b[0;34m=\u001b[0m \u001b[0msummary_file\u001b[0m\u001b[0;34m.\u001b[0m\u001b[0mread\u001b[0m\u001b[0;34m(\u001b[0m\u001b[0;34m)\u001b[0m\u001b[0;34m\u001b[0m\u001b[0;34m\u001b[0m\u001b[0m\n\u001b[1;32m     21\u001b[0m \u001b[0;34m\u001b[0m\u001b[0m\n",
            "\u001b[0;32m/usr/lib/python3.10/codecs.py\u001b[0m in \u001b[0;36m__init__\u001b[0;34m(self, errors)\u001b[0m\n\u001b[1;32m    307\u001b[0m     \u001b[0mbyte\u001b[0m \u001b[0msequences\u001b[0m\u001b[0;34m.\u001b[0m\u001b[0;34m\u001b[0m\u001b[0;34m\u001b[0m\u001b[0m\n\u001b[1;32m    308\u001b[0m     \"\"\"\n\u001b[0;32m--> 309\u001b[0;31m     \u001b[0;32mdef\u001b[0m \u001b[0m__init__\u001b[0m\u001b[0;34m(\u001b[0m\u001b[0mself\u001b[0m\u001b[0;34m,\u001b[0m \u001b[0merrors\u001b[0m\u001b[0;34m=\u001b[0m\u001b[0;34m'strict'\u001b[0m\u001b[0;34m)\u001b[0m\u001b[0;34m:\u001b[0m\u001b[0;34m\u001b[0m\u001b[0;34m\u001b[0m\u001b[0m\n\u001b[0m\u001b[1;32m    310\u001b[0m         \u001b[0mIncrementalDecoder\u001b[0m\u001b[0;34m.\u001b[0m\u001b[0m__init__\u001b[0m\u001b[0;34m(\u001b[0m\u001b[0mself\u001b[0m\u001b[0;34m,\u001b[0m \u001b[0merrors\u001b[0m\u001b[0;34m)\u001b[0m\u001b[0;34m\u001b[0m\u001b[0;34m\u001b[0m\u001b[0m\n\u001b[1;32m    311\u001b[0m         \u001b[0;31m# undecoded input that is kept between calls to decode()\u001b[0m\u001b[0;34m\u001b[0m\u001b[0;34m\u001b[0m\u001b[0m\n",
            "\u001b[0;31mKeyboardInterrupt\u001b[0m: "
          ]
        }
      ],
      "source": [
        "'''\n",
        "import os\n",
        "doc_dir = '/content/drive/MyDrive/abs/train/judgement'\n",
        "summary_dir = '/content/drive/MyDrive/abs/train/summary'\n",
        "\n",
        "def load_documents_and_summaries(doc_dir, summary_dir):\n",
        "    documents = []\n",
        "    summaries = []\n",
        "\n",
        "\n",
        "    document_files = set(f for f in os.listdir(doc_dir) if f.endswith('.txt'))\n",
        "    summary_files = set(f for f in os.listdir(summary_dir) if f.endswith('.txt'))\n",
        "\n",
        "\n",
        "    for file in document_files:\n",
        "        if file in summary_files:\n",
        "\n",
        "            with open(os.path.join(doc_dir, file), 'r', encoding='utf-8') as doc_file:\n",
        "                document_content = doc_file.read()\n",
        "            with open(os.path.join(summary_dir, file), 'r', encoding='utf-8') as summary_file:\n",
        "                summary_content = summary_file.read()\n",
        "\n",
        "\n",
        "            documents.append(document_content)\n",
        "            summaries.append(summary_content)\n",
        "\n",
        "    return documents, summaries\n",
        "documents, summaries = load_documents_and_summaries(doc_dir, summary_dir)\n",
        "'''"
      ]
    },
    {
      "cell_type": "code",
      "execution_count": null,
      "metadata": {
        "id": "hov7wwlehdQw"
      },
      "outputs": [],
      "source": [
        "'''import csv\n",
        "\n",
        "data = list(zip(documents, summaries))\n",
        "\n",
        "filename = 'dataset.csv'\n",
        "\n",
        "# Write to the CSV file\n",
        "with open(filename, mode='w', newline='') as file:\n",
        "    writer = csv.writer(file)\n",
        "    writer.writerow(['Header1', 'Header2'])  # Writing headers if needed\n",
        "    writer.writerows(data)\n",
        "\n",
        "print(f\"Data written to {filename}\")\n",
        "'''"
      ]
    },
    {
      "cell_type": "code",
      "execution_count": null,
      "metadata": {
        "id": "eGsVUftzQqbd"
      },
      "outputs": [],
      "source": [
        "import pandas as pd\n"
      ]
    },
    {
      "cell_type": "code",
      "execution_count": null,
      "metadata": {
        "id": "ve7VMY8XT-IV"
      },
      "outputs": [],
      "source": [
        "df=pd.read_csv('/content/drive/My Drive/dataset.csv')"
      ]
    },
    {
      "cell_type": "code",
      "execution_count": null,
      "metadata": {
        "colab": {
          "base_uri": "https://localhost:8080/",
          "height": 81
        },
        "id": "z9ZX-pBzUBaZ",
        "outputId": "468f3798-7cfc-436e-cbb6-8e29ed757a30"
      },
      "outputs": [
        {
          "output_type": "execute_result",
          "data": {
            "text/plain": [
              "                                           Documents  \\\n",
              "0  minal Appeals No. 76 82 of 1965.\\nAppeals from...   \n",
              "\n",
              "                                           Summaries  \n",
              "0  Section 18 of the Suppression of Immoral Traff...  "
            ],
            "text/html": [
              "\n",
              "  <div id=\"df-b8364bd2-e2fe-423c-8895-c637695cea2b\" class=\"colab-df-container\">\n",
              "    <div>\n",
              "<style scoped>\n",
              "    .dataframe tbody tr th:only-of-type {\n",
              "        vertical-align: middle;\n",
              "    }\n",
              "\n",
              "    .dataframe tbody tr th {\n",
              "        vertical-align: top;\n",
              "    }\n",
              "\n",
              "    .dataframe thead th {\n",
              "        text-align: right;\n",
              "    }\n",
              "</style>\n",
              "<table border=\"1\" class=\"dataframe\">\n",
              "  <thead>\n",
              "    <tr style=\"text-align: right;\">\n",
              "      <th></th>\n",
              "      <th>Documents</th>\n",
              "      <th>Summaries</th>\n",
              "    </tr>\n",
              "  </thead>\n",
              "  <tbody>\n",
              "    <tr>\n",
              "      <th>0</th>\n",
              "      <td>minal Appeals No. 76 82 of 1965.\\nAppeals from...</td>\n",
              "      <td>Section 18 of the Suppression of Immoral Traff...</td>\n",
              "    </tr>\n",
              "  </tbody>\n",
              "</table>\n",
              "</div>\n",
              "    <div class=\"colab-df-buttons\">\n",
              "\n",
              "  <div class=\"colab-df-container\">\n",
              "    <button class=\"colab-df-convert\" onclick=\"convertToInteractive('df-b8364bd2-e2fe-423c-8895-c637695cea2b')\"\n",
              "            title=\"Convert this dataframe to an interactive table.\"\n",
              "            style=\"display:none;\">\n",
              "\n",
              "  <svg xmlns=\"http://www.w3.org/2000/svg\" height=\"24px\" viewBox=\"0 -960 960 960\">\n",
              "    <path d=\"M120-120v-720h720v720H120Zm60-500h600v-160H180v160Zm220 220h160v-160H400v160Zm0 220h160v-160H400v160ZM180-400h160v-160H180v160Zm440 0h160v-160H620v160ZM180-180h160v-160H180v160Zm440 0h160v-160H620v160Z\"/>\n",
              "  </svg>\n",
              "    </button>\n",
              "\n",
              "  <style>\n",
              "    .colab-df-container {\n",
              "      display:flex;\n",
              "      gap: 12px;\n",
              "    }\n",
              "\n",
              "    .colab-df-convert {\n",
              "      background-color: #E8F0FE;\n",
              "      border: none;\n",
              "      border-radius: 50%;\n",
              "      cursor: pointer;\n",
              "      display: none;\n",
              "      fill: #1967D2;\n",
              "      height: 32px;\n",
              "      padding: 0 0 0 0;\n",
              "      width: 32px;\n",
              "    }\n",
              "\n",
              "    .colab-df-convert:hover {\n",
              "      background-color: #E2EBFA;\n",
              "      box-shadow: 0px 1px 2px rgba(60, 64, 67, 0.3), 0px 1px 3px 1px rgba(60, 64, 67, 0.15);\n",
              "      fill: #174EA6;\n",
              "    }\n",
              "\n",
              "    .colab-df-buttons div {\n",
              "      margin-bottom: 4px;\n",
              "    }\n",
              "\n",
              "    [theme=dark] .colab-df-convert {\n",
              "      background-color: #3B4455;\n",
              "      fill: #D2E3FC;\n",
              "    }\n",
              "\n",
              "    [theme=dark] .colab-df-convert:hover {\n",
              "      background-color: #434B5C;\n",
              "      box-shadow: 0px 1px 3px 1px rgba(0, 0, 0, 0.15);\n",
              "      filter: drop-shadow(0px 1px 2px rgba(0, 0, 0, 0.3));\n",
              "      fill: #FFFFFF;\n",
              "    }\n",
              "  </style>\n",
              "\n",
              "    <script>\n",
              "      const buttonEl =\n",
              "        document.querySelector('#df-b8364bd2-e2fe-423c-8895-c637695cea2b button.colab-df-convert');\n",
              "      buttonEl.style.display =\n",
              "        google.colab.kernel.accessAllowed ? 'block' : 'none';\n",
              "\n",
              "      async function convertToInteractive(key) {\n",
              "        const element = document.querySelector('#df-b8364bd2-e2fe-423c-8895-c637695cea2b');\n",
              "        const dataTable =\n",
              "          await google.colab.kernel.invokeFunction('convertToInteractive',\n",
              "                                                    [key], {});\n",
              "        if (!dataTable) return;\n",
              "\n",
              "        const docLinkHtml = 'Like what you see? Visit the ' +\n",
              "          '<a target=\"_blank\" href=https://colab.research.google.com/notebooks/data_table.ipynb>data table notebook</a>'\n",
              "          + ' to learn more about interactive tables.';\n",
              "        element.innerHTML = '';\n",
              "        dataTable['output_type'] = 'display_data';\n",
              "        await google.colab.output.renderOutput(dataTable, element);\n",
              "        const docLink = document.createElement('div');\n",
              "        docLink.innerHTML = docLinkHtml;\n",
              "        element.appendChild(docLink);\n",
              "      }\n",
              "    </script>\n",
              "  </div>\n",
              "\n",
              "\n",
              "    </div>\n",
              "  </div>\n"
            ],
            "application/vnd.google.colaboratory.intrinsic+json": {
              "type": "dataframe",
              "variable_name": "df",
              "summary": "{\n  \"name\": \"df\",\n  \"rows\": 2463,\n  \"fields\": [\n    {\n      \"column\": \"Documents\",\n      \"properties\": {\n        \"dtype\": \"string\",\n        \"num_unique_values\": 2436,\n        \"samples\": [\n          \"iminal Appeal No. 65 of 1966, Appeal by special leave from the judgment and order dated September 20, 1965 of the Allahabad High Court in Criminal Misc.\\nContempt Application No. 76 of 1964.\\nR. K. Garg and section C. Agarwal, for the appellants.\\nThe respondent did not appear.\\nThe Judgment of the Court was delivered by Vaidialingam, J.\\nThis appeal, by special leave, is directed against the judgment and order of the Allahabad High Court.\\ndated September 20, 1965, passed in Criminal Miscellaneous Contempt Application No. 76 of 1964, finding the appellant 177 guilty, of having committed contempt of Court, and sentencing each of them, to pay a fine of Rs. 5001 .\\nThey have also been directed to pay the costs, in the contempt proceedings.\\nThe first appellant died, during the pendency of this appeal.\\nAs a fine has been imposed, against him, in addition to the liability to pay costs, his widow has been brought on record, as his legal representative, and allowed to continue these proceedings.\\nThe circumstances, under which the contempt proceedings came to be initiated, in the High Court, may be briefly indicated.\\nThe second respondent, herein, Sri V. P. Singh, is an advocate, practising at Azamgarh, and he was a member of the Congress Organisation, at the material time.\\nHe stood for election, for membership of the Prarambhik (primary) Congress Committee, of Tarwa, in the District of Azamgarh, held on April 10, 1964.\\nHis opponent was one Badri Singh.\\nIn that election.\\nBadri Singh .was declared elected.\\nThe second respondent filed, on April 16, 1964, a suit, No. 132 of 1964, in the Court of the City Munsif.\\nAzamgarh, for having the election of Badri Singh, declared void and inoperative.\\nHe had alleged various irregularities, regarding the conduct of the said election.\\nAlong with the suit, he had also filed an application, for injunction, restraining the District Election Officer, and other Officers, from holding elections for membership of the District Congress Committee.\\nHe had also asked for an injunction, restraining Badri Singh, from taking part in the elections, for membership of the District Congress Committee.\\nThe City Munsif had granted the interim injunction, on April 18, 1964.\\nBadri Singh, on being served with this interim order, filed an application, dated April 21, 1964, before the City Munsif, praying for vacating the order of interim injunction.\\nAt the time, when the election that was challenged, by the 2nd respondent, took place, Sri Ajit Prasad Jain was the President of the Uttar Pradesh Congress Committee, Shri Govind Sahai was the General Secretary of the said Committee and Sri Rameshwar Narain Singh was the General Secretary of the District Congress Committee, Azamgarh.\\nIt appears that the Working Committee of the Indian National Congress bad passed a resolution.\\ndated December 4/5, 1960, the substance of which was that any member of the Congress, having any grievance, in respect of any action taken, or decision given, by a Congress Organization.\\nshould take advantage of the tribunals provided, to seek redress by way of appeal or reference, and that such matters should not be taken to law Courts.\\nThat resolution further provided that initiating of such litigation, and securing of ex parte interlocutory orders, against the Congress Committee and Congress authorities.\\n178 was highly detrimental to the discipline of the Organisation, and its smooth working.\\nThe resolution wound up, by saying that the Working, Committee resolved that any member, who instituted a suit or other proceeding in law Courts against any Congress Committee or Official, did so at the risk of being considered guility of gross indiscipline and of being summarily, and without any further notice, removed from membership of the Congress, by order of the Provincial Congress Committees concerned, or the Working Committee.\\nIn view of this resolution, Sri Gulzari Lal Nanda, who is stated to have been delegated the authority of the Working Committee, in respect of organisational elections in Uttar Pradesh, issued a directive, dated April 20, 1964, to the President, Uttar Pradesh Congress Committee, Sri Ajit Prasad Jain, to take immediate action against those members, who had gone to Courts, in regard to Congress organisational elections, anywhere in Uttar Pradesh.\\nAccordingly, Sri Jain, on April 21, 1964, sent out circular letters to all the District Returning Officers in Uttar Pradesh, expelling those Congressmen, from membership of the Congress, who had filed suits, in Courts, concerning organizational elections.\\nSri Govind Sahai and Sri Rameshwar Narain Singh, the appellants herein, also sent, each of them, a letter to the District Returning Officer, expelling the second respondent, and removing his name, from the membership of the Congress.\\nThis decision was duly com municated, to the second respondent.\\nTo resume the narrative, regarding the proceedings, connect ed with the suit, the application for vacating the injunction, filed by Badri Singh, came up for final hearing, before the City Munsif, on April 25, 1964, when the second appellant, filed an affidavit, mentioning the fact that the second respondent, herein, who was the plaintiff in the suit, had been expelled, from the Congress Organisation.\\nIn view of the fact that the very foundation, for initiating action, vanished, the City Munsif dismissed the injunction application, on April 27, 1964, on the ground that the second respondent was no longer a member of the Congress Organisation.\\nThe second respondent moved an application, before the City Munsif, on May 9, 1964, for taking proceedings in contempt, against the appellant and Sri Ajit Prasad Jain, but that application was dismissed on May 30, 1964, on the ground that the present appellants were not parties to the suit.\\nThe second respondent filed Criminal Miscellaneous Contempt Application No. 76 of 1964, in the High Court.\\nAfter setting out the circumstances, under which he filed the suit, and the order of expulsion, passed against him, the second respondent alleged that the act of the appellants, along with Sri Ajit Prasad Jain, had directly interfered with the normal course of justice, by hampering the progress of the suit.\\n179 Sri Ajit Prasad Jain, and the appellants, filed written statements, containing identical pleas.\\nTheir contention was that the second respondent was bound by the rules and regulations, of the Indian National Congress, and that they had full right and justification, for expelling him, and removing his name, from the membership of the Congress.\\nThat action, expelling the second respondent, they contended, had been taken on the strength of the resolution of the Congress Working Committee, referred to earlier.\\nThey had further contended that their object, in enforcing the Circular, dated December 4/5, 1950, was only to enforce discipline in the Congress, and not with a view to render the second respondent 's suit infructuous, or interfere with the Court 's proceedings.\\nThey ultimately pleaded that none of them were guility of any contempt of Court.\\nSo far as Sri Ajit Prasad Jain is concerned, it is seen that.\\nafter filing his written statement, he was appointed Governor of Kerala.\\nThe High Court, in view of article 361, clauses (2) and (3), held that the proceedings could not be continued against that party, and hence discharged the rule.\\nRegarding the appellants, the High Court held that their conduct directly tended to interfere with the suit proceedings, pending in Court, initiated by the second respondent, and, as such, amounted to contempt of Court, of the City Munsif, Azamgarh.\\nIn view of the fact that no expression of regret was made, by them, the High Court sentenced each of the appellants, to pay a fine of Rs. 5001 and also pay costs of the State,, as well as the second respondent, herein.\\nMr. R. K. Garg, learned counsel for the appellants, urged that the second respondent was a member of the Congress Organisation, and he was bound by the Resolutions, passed by the same.\\nThe appellants had only acted, in accordance with the directions, given by the appropriate officers of the Congress organisation, and they were bound to obey the instructions, given to them.\\nWhen, in the course of the discharge of their duties, they had been directed to enforce the resolution, of the Congress dated December 415, 1950, they issued the Circulars, expelling the second respondent, from the Congress.\\nTheir object, in expelling the second respondent, was not in any manner intended to interfere with the proceedings, pending in the suit.\\nThe fact that the injunction application was dismissed, because it became infructuous, by the second respondent having ceased to be a member of the Congress Organisation, was certainly not a circumstance which could be put against the appellants, in the matter of issuing the circular, concerned.\\nThere has been no appearance, on behalf of the respondents.\\nAfter giving due consideration, to the contentious, urged by the 180 learned counsel, for the appellants, we are satisfied that the High Court has rightly found the appellants guilty of contempt of Court.\\nThe original first appellant, Sri Govind Sahai, and the second appellant, had each sent letters to the District Returning Officer, expelling the second respondent, and removing his name, from the membership of the Congress.\\nThere is no dispute, about this fact.\\nIt is also not disputed that the second appellant filed an affidavit, in Suit No. 132 of 1964, drawing the attention of the Court, to the order of expulsion, from membership, passed as against the second respondent, and it is substantially in view of this that the application, for temporary injunction, was dismissed.\\nWe are of opinion ', that these acts are of each a nature, as to interfere with, or prejudice the second respondent in the proceedings, connected with this suit.\\nOswald, in his book 'Contempt of Court ', Third Edition, says, at p. 6; \\\"To speak generally, Contempt of Court may be said to be constituted by any conduct that tends to bring the authority and administration of.\\nthe law into disrespect or disregard, or to interfere with or prejudice parties litigant or their witnesses during the litigation.\\n\\\" This statement, has been quoted, with approval, by Das, J., who delivered the majority judgment, in the decision, reported as Pratap Singh vs Gurbaksh Singh(1).\\nMore or less, under similar circumstances, this Court, in the said decision, has held that certain actions, taken by the officers therein, amounted to contempt of Court.\\nFrom the facts, noted in that decision, it emerges that an Officer of the Forest Department, against whom an order for recovery of certain amounts, had been made, had instituted a suit for having that order declared null and void.\\nWhen the summons in the suit, was served on the State Government, the Under Secretary to the Government, in the concerned Department, sent a memorandum, to the Chief Conservator of Forests, drawing his attention, to a Circular letter, issued by the Government, on January 25, 1953.\\nIn that Circular letter, the Government had indicated that any attempt, by a Government servant, to seek decision, in a Court of law, in respect of matters, arising out of employment, or conditions of service, without exhausting the normal official channels of redress, was considered to be contrary to official propriety and subversive of discipline, and such conduct would justify the initiation of disciplinary action, against the government servant.\\nThe Under Secretary, in his communication to the Chief Conservator of Forests, had stated that the (1) [1962] Supp.2 S.C.R.838, 848.\\n181 officer, who had instituted the suit, had not exhausted his departmental remedies, and, therefore, he had rendered himself liable to disciplinary action, as per the Government Circular letter, of January 25, 1953.\\nThe Under Secretary further added that the Chief Conservator should intimate what action he proposed to take, against the particular officer.\\nOn receipt of this letter, disciplinary proceedings were initiated, against the officer, who had filed the suit.\\nPromptly, that officer filed an application, before the High Court, for taking action for contempt, against the officers, mentioned therein.\\nThe defence was that the action, taken, was perfectly competent, and it did not amount to contempt of Court.\\nThe High Court negatived the defence contention and held that the officers, who had initiated disciplinary proceedings, were guilty of contempt of Court.\\nThis Court, on appeal, approved of the decision of the High Court.\\nIn that decision, Das, J., and Subba Rao, J., (as he then was), took the view that the action, of the officers, who initiated the disciplinary proceedings, against the person, who had filed a suit, amounted to contempt; whereas, Raghubar Dayal, J., held to the contrary on facts.\\nBut, Raghubar Dayal, J., also agreed with the proposition that, if any pressure is put on a party, in order to make it act in a particular manner, with respect to a pending action, that would amount to contempt of Court, in which the matter be pending.\\nBut, the learned Judge was of the view that, inasmuch as disciplinary proceedings had been initiated, in view of the Government Circular letter, dated January 25, 1953, there was no question of contempt.\\nWith respect, we are in agreement with the majority view, in the above decision.\\nIn the instant case, the passing of the orders of expulsion, by the two appellants, against the second respondent, and the filing of a supporting affidavit, in the suit by the second appellant, clearly indicate that it was a deliberate attempt, by the appellants, to interfere with, or prejudice the second respondent, in the conduct of the litigation, instituted by him.\\nIt is no answer that the action, by way of expulsion, was taken on the basis of the Resolution, of the All India Congress Working Committee, and to enforce discipline, in the Congress Organization.\\nAs emphasized by Das, J., in Pratap Singh 's Case(.), 'any conduct, which interferes with, or prejudices parties litigant, during the litigation, is undoubtedly Contempt of Court '.\\nThe High Court, in this case, was justified in holding the appellants guilty of contempt.\\nWe agree with the said conclusion.\\nBefore closing the discussion, on this matter, we may state that Mr. Garg referred us, to the decision in Webster V. Bake (1) [1962] Supp 2 S.C.R. 838 (2) 182 well Rural Council(1), and urged that, on the principles, laid down therein, the appellants were not guilty of contempt.\\nThe consideration of this English decision, need not detain us much, because it has been adverted to , by Das, J., in Pratap Singh 's Case(1), and distinguished.\\nTherefore, Websters Case(2) does not apply, to the facts of the instant case.\\nThe result s that this appeal fails, and is dismissed.\\nY.P. Appeal dismissed.\\n(1) [1962] Supp. 2 S.C.R. 838.\\n\",\n          \"Appeal No. 231/1955.\\nAppeal from the Judgment and Decree dated February 16, 1954, of the Patna High Court in Title Suit No. 105/1953.\\n446 N. C. Chatterjee, Sanjeev Choudhuri and Ganpat Rai, for the appellant.\\nC. K. Daphtary, Solicitor General of India, P. K. Chatterjee and T. M. Sen, for respondent No. 1.\\n* Lal Narayan Sinha, Bajrang Sahai and R. C. Prasad, for respondent No. 2. 1960.\\nAugust 31.\\nThe Judgment of the Court was delivered by WANCHOO J.\\nThis is an appeal from a decree of the Patna High Court.\\nThe appellant is a Public Limited Company with its registered office at Calcutta.\\nA mining lease was granted to it by the Raja of Ramgarh on December 29, 1947, for a period of 999 years in respect of 3026 villages situate within the Ramgarh Estate and the appellant was put in possession thereof.\\nOn February 1, 1950, the appellant granted a sub lease of two of the villages comprised in its grant to one Bhagat Singh for a term of 15 years.\\nIn the meantime the Mines and Minerals (Regulation and Development) Act (LIII of 1948), (hereinafter called the Act), had come into force along with the Mineral Concession Rules, 1949 (hereinafter called the Rules), in the area in which the two villages lay.\\nBhagat Singh then applied to the Deputy Commissioner, Hazaribagh, for the grant of a certificate of approval under the Rules.\\nThereupon the Deputy Commissioner, taking the view that the sub lease granted was in contravention of the Act and the Rules, filed a complaint on September 25, 1951, before a magistrate against two directors and the secretary of the appellant charging them with the breach of r. 45 of the Rules and also rr.\\n47 and 49 (now r. 51) read with r. 51 (now r. 53) and section 9 of the Act.\\nWhile the criminal case was going on, the appellant filed a suit challenging the validity and constitutionality of the Act and the Rules.\\nA number of grounds were taken in support of this challenge but it is not necessary now to set out all of them, as learned counsel for the appellant has confined his arguments only to two points, namely, (i) a sub lease is not covered by the definition of the term ' mining lease ' in section 3(d) of the 447 Act and therefore the Act and the Rules do not apply to a sub lease at all, and (ii) as these Rules were made under sections 5 and 6 of the Act and not under section 7 they have no application to a sub lease granted by a lessor, even after the coming into force of the Act and the Rules, where the lessor 's own lease was of a date anterior to the coming into force of the Act and the Rules.\\nThe suit was resisted by the respondents and their defence was that the term ' mining lease ' included a sub lease and that the Rules framed under Bs.\\n5 and 6 of the Act were applicable to all sub leases granted after the Act and the Rules had come into force.\\nThe High Court repelled the contentions raised by the appellant against the validity and constitutionality of the Act and the Rules.\\nIt further held that the term 'mining lease ' as defined in section 3(d) of the Act included a sub lease and therefore the Act and the Rules applied to sub leases granted after the Act and the Rules came into force and it was immaterial that the lease granted to the appellant was anterior in time to the coming into force of the Act and the Rules.\\nOn this view, the suit was dismissed.\\nThereupon the appellant applied for a certificate which was granted and that is how the matter has come up before us.\\nThe main question that falls for consideration is whether the term 'mining lease ' as defined in section 3(d) of the Act includes a sub lease.\\nClause (d) of section 3 is in these terms: \\\" mining lease ' means a lease granted for the purpose of searching for, winning, working, getting, making merchantable, carrying away, or disposing of mineral oils or for purposes connected therewith, and includes an exploring or a prospecting licence; \\\".\\nThere is no specific mention of a sub lease in it.\\nBut if one takes the plain meaning of the words used in section 3(d), it is clear that the term 'mining lease ' means any kind of lease granted for the purpose of searching for, winning, working, getting, making merchantable, 448 carrying away or disposing of minerals or for purposes connected therewith.\\nIt is significant that the definition does not require that the lessor must be the proprietor; and so on a fair reading it would include a lease executed by the proprietor as much as a lease executed by the lessee from such a proprietor.\\nIf we turn to the definition of 'lease ' in section 105 of the , we find that a lease of immovable property is a transfer of a right to enjoy such property made for a certain time, express or implied or in perpetuity in consideration of a price paid or promised, or of money, a share of crops, service or any other thing of value to be rendered periodically or on specified occasions to the transferor by the transferee who accepts the transfer on such terms.\\nWhat a lease therefore requires is a transferor and a transferee and a transfer of immovable property on the terms and conditions mentioned in section 105.\\nHow the transferor gets his title to make a lease is immaterial so long as the transaction is of the nature defined in section 105.\\nApplying therefore the plain words of section 3(d) of the Act and the definition of lease as contained in section 105 of the , it is perfectly clear that there is a transferor in this case, (namely, the appellant) and a transferee (namely, Bhagat Singh) who has accepted the transfer; the transaction is with respect to immovable property and creates a right to enjoy such property for a certain term and for consideration on the conditions mentioned in it.\\nThough, therefore, the document may be termed a sub lease in view of the fact that the transferor is not the owner of the property transfer red but is itself a lessee, the transaction between the appellant and Bhagat Singh is nothing but a mining lease.\\nThe terms ' sub lease ', ' under lease ' and \\\"derivative lease ' are used conveniently to indicate not only that the transfer is a lease but also that the transferor is not the owner of the property but is a lessee ; but the transfer as between a lessee and a sub lessee is nonetheless a lease provided it satisfies the definition of section 105.\\nWe may add that Ch.\\nV of the , which deals with leases of immovable 449 property has nowhere made any distinction between a lease and a sub lease and all the provisions of that Chapter which apply to a lease also apply to a sublease.\\nIt is only when dealing with the rights and liabilities of the lessee that section 108(j) of the lays down that the lessee may transfer absolutely or by way of mortgage or sub lease the whole or any part of his interest in the property, and that is where one finds mention of a sub lease, namely, that it is a lease by a person who is himself a lessee.\\nBut the fact that the lessor is himself a lessee and the transaction between him and the person in whose favour he makes the transfer by way of lease is called a sub lease does not in any way change the nature of the transfer as between them.\\nTherefore on the plain words of section 3(d) read with section 105 of the there can be no doubt that the term 'mining lease ' includes a sub lease. ' Learned counsel for the appellant referred in this connection to a number of statutes wherein a sub lease has been expressly stated to be included in the term 'lease '.\\nIn the Mines and Minerals (Regulation and Development) Act, LXVII of 1957, which has replaced the Act, the term 'mining lease ' has been defined in section 3(c) as meaning a lease granted for the purpose of undertaking mining operations and includes a sublease.\\nThe 1957 Act was enacted after the judgment of the High Court in this case and the legislature apparently thought it fit ex abundanti cautela to say that a sub lease is included within the term ' mining lease '.\\nIn the corresponding English Act also as well as the English Law of Property, 1925, a lease has been defined to include a sub lease.\\nThe fact however that in some laws a lease is defined to include a sub.\\nlease, does not mean that a lease cannot otherwise include a sub lease.\\nAn example to the contrary is the , where the definition of the word 1 lease ' clearly includes a sub lease.\\nLearned counsel for the appellant also relied on certain decisions in which it was held that a lease did not include a sub lease.\\nThose decisions, however, turn on the particular terms of the enactment there under 450 consideration and are of no assistance in determining the question whether the term 'mining lease ' in the Act includes a mining sub lease.\\nOrdinarily, a lease will include a sub lease unless there is anything to the contrary in the particular law.\\nWe may in this connection refer to the observations of Jessel, M. R., in Camberwell and South London Building Society vs Holloway (1) at p. 759: \\\" The word `lease ' in law is a well known legal term of well defined import.\\nNo lawyer has ever suggested that the title of the lessor makes any difference in the description of the instrument, whether the lease is granted by a freeholder or a copyholder with the licence of the Lord or by a man who himself is a leaseholder.\\nIt being well granted for a term of years it is called a lease.\\nIt is quite true that where the grantor of the lease holds for a term, the second instrument is called either an under lease or a derivative lease, but it is still a lease. . .\\\".\\nWe see nothing in the Act to indicate that the term ' mining lease ' as defined in a. 3(d) does not include a mining sub lease.\\nOn the other hand, looking to the purpose and object with which the Act was passed, it seems to us quite clear that a sub lease must be included within the term 'mining lease ' as it obviously is within the plain words of section 3 (d).\\nThat the Act was passed in the public interest is shown by the fact that it provides for the regulation of mines and oil fields and for the development of minerals.\\nThe intention was that the mineral wealth of the country should be conserved and should be worked properly without waste and by persons qualified in that kind of work.\\nWith that object in view section 5 inter alia provides for making rules as to the conditions on which mining leases may be granted and the maximum or minimum area and the period 'for which such lease may be granted as also the terms on which leases in respect of contiguous areas may be amalgamated, and the fixing of the maximum and minimum rent payable by a lessee (1) , 759 451 whether the mine is worked or not.\\nSection 6 provides for framing of rules for the conservation and development of minerals, the manner in which any mineral or any area as respects which the grant of mining lease is prohibited may be developed and the development of any mineral resources in any area by prescribing or regulating the use of engines, machinery or other equipment, and so on.\\nThese provisions for the conservation, development and regulation of mining areas and minerals would be more or less completely frustrated if a mining sub lease was not included in the definition of the term 'mining lease ', for then all that would be necessary for a per.\\nson who wanted to avoid the law would be to interpose an intermediary between himself and the owner and get a sub lease from him which would be free from the regulatory control of the Act and the Rules. 'We are therefore of opinion that looking at the plain words of section 3(d) and the object and the purpose for which the Act was passed, it is clear that a mining sub lease is included within the definition of the term 'mining lease ' and there is nothing in the Act which militates against this.\\nWe therefore hold that a mining sub lease made after the coming into force of the Act and the Rules is included in the term 'mining lease ' as defined in section 3 (d) and is subject to the Act and the Rules.\\nThe argument in this connection is that a. 4 of the Act provides that no mining lease shall be granted after the commencement of the Act otherwise than in accordance with the rules framed under the Act and any mining lease granted otherwise shall be void and of 'no effect.\\nSections 5 and 6 give power to the Central Government to make rules for purposes already set out above and refer to mining leases granted under section 4 Then comes section 7, which lays down that the Central Government may by notification in the official gazette make rules for the purpose of modifying or altering the terms and conditions of any mining lease 58 452 granted prior to the commencement of the Act so as to bring such lease into conformity with the rules framed under Be.\\n5 and 6.\\nIt is urged that where a mining lease has been granted before the Act and the Rules came into force, it is only the rules framed under section 7 which will affect any sub lease granted by such a lessee even though the sub lease is after the date on which the Act and the Rules came into force.\\nSection 7 in our opinion was enacted for an entirely different purpose, as sub section\\n(2) thereof will show.\\nIt is however not necessary to go into this matter further, for once it is held that a, sub lease is included in the term 'mining lease ', the rules made under sections 5 and 6 would apply to such a sub lease, if it is made after the Act and the Rules came into force.\\nIn the present case, the sub lease was granted after the Act and the Rules came into force in the area with which the sub lease is concerned and therefore the sub lease would be governed by the Act and the Rules.\\nThere is no question in this case of modifying or altering the terms and conditions of any mining lease granted prior to the commencement of the Act, for the Act and the Rules are being enforced with respect to a sub lease which is a mining lease, within the definition of that term in section 3(d), made 'after the Act and the Rules came into force.\\nNo change is being made by the Rules in the terms and conditions of the mining lease granted to the appellant and all that has happened is that the appellant 's directors and secretary, are being prosecuted for granting a sub lease (which is a mining lease) against the provisions of the Act and the Rules after the Act came into force.\\nThere is no force therefore in this contention of the appellant and it must be repelled.\\nThere is no force in this appeal and it is hereby dismissed with costs.\\n, One set of hearing costs only.\\nAppeal dismissed.\\n\",\n          \"Civil Appeal No. 132 of 1951.\\nAppeal by Special Leave from the Judgment and Decree dated 17th May, 1950, of the High Court of Judicature at Calcutta (Harries C.J. and Sinha J.) in Appeal No. 41 of 1950 arising out of the Order of 766 Banerjee J. dated 19th December, 1949, in Suit No. 132 of 1948.\\nM.C. Setalvad, Attorney General for India (B. Sen, with him) for the appellant.\\nNaziruddin Ahmad (Nuruddin Ahmad, with him) or respond ent No. 1.\\nS.N. Mukherjee for respondent No.2 1952.\\nMay 21.\\nThe Judgment of the Court was delivered by CHANDRASEKHARA AIYAR J.\\nThis Court granted special leave to appeal in this case on the Government agreeing to pay the costs of the respondents in respect of the appeal in any event.\\nThe decree holder was a lady named Hira Devi.\\nThe judg ment debtor was one Ram Grahit Singh, who retired on 31st January, \\\"1 '947, as a Head Clerk in the Dead Letter Office, Calcutta.\\nA money decree was obtained against him on 30th July, 1948.\\nOn 1st February, 1949, a receiver was appointed for collecting the moneys standing to the credit of the judgment debtor in a Provident Fund with the Postal authori ties.\\nThe Union of India intervened with an application dated 20th September, 1949, for setting aside the order appointing the receiver.\\nMr. Justice Banerjee dismissed the application of the Union of India, holding that a receiver could be appointed for collecting the Fund.\\nOn appeal, Trevor Harries C.J. and Sinha J. upheld his view.\\nFrom the facts stated in the petition filed by the Union of India before the High Court, it appears that a sum of Rs. 1,394 13 1 represents arrears of pay and allowances .due to the judgment debtor and a sum Of Rs. 1,563, is the compulso ry deposit in his Provident Fund account.\\nDifferent consid erations will apply to the two sums, though in the lower court the parties seem to have proceeded on the footing that the entire sum was a \\\"compulsory deposit\\\" within the meaning of the provident Funds Act, 1925.\\nThe main question to be decided.\\nis whether a receiver can be appointed in execution in respect of provident Fund money due to the judgment debtor.\\n767 Compulsory deposit and other sums in or derived from any fund to which the Provident Funds Act XIX of 1925 applies are exempt from attachment and sale under section 60 (k), Civil Procedure Code.\\n\\\"Compulsory deposit\\\" is thus defined in section 2 (a) of the Provident Funds Act XIX of 1925: Compulsory deposit means a subscription to, or deposit in a Provident Fund which under the rules of the Fund, is not, until the happening of some specified contingency repayable on demand otherwise than for the purpose of the payment of premia in respect of a policy of life insurance (or the Payment Of subscriptions or premia in respect of a family pension fund), and includes any contribution and any interest or increment which has accrued under the rules of the fund on any such subscription, deposit, contribution, and also any such subscription, deposit, contribution, interest or increment remaining to the credit of the sub scriber or depositor after the happening of any such contin gency.\\n\\\" Such a deposit cannot be assigned or charged and is not liable to any attachment.\\nSection 3 (1)of the said Act provides : 3.\\n(1)\\\" A compulsory deposit in any Government or Rail way Provident Fund shall not in any way be capable of being assigned or charged and shall not be liable to attachment under any decree or order of any Civil, Revenue or Criminal Court in respect of any debt or liability incurred by the subscriber or depositor, and neither the Official Assignee nor any receiver appointed under the shall be entitled to, or have any claim on any such compulsory deposit.\\n\\\" It is obvious that the prohibition against the assign ment or the attachment of such compulsory deposits is based on grounds of public policy.\\nWhere the interdiction is absolute, to allow a judgment creditor to get at the fund indirectly by means of the appointment of a receiver would be to circumvent the statute.\\nThat such a frustration of the very object of 768 the legislation should not be permitted was laid down by the Court of Appeal as early as 1886 in the case of Lucas vs Harris (1), where the question arose with reference to a pension payable to two officers of Her Majesty 's Indian Army.\\nSection 141 of the Army Act, 1881 provided: \\\"Every assignment of, and every charge on, and every agreement to assign or charge any . . pension pay able to any officer or soldier of Her Majesty 's forces, or any pension payable to any such officer . . or to any person in respect of any military service, shall except so far as the same is made in pursuance of a royal warrant for the benefit of the family of the person entitled thereto, or as may be authorised by any Act lot the time being in force, be void.\\nIn that case, the appointment of a receiver to collect the pension was in question.\\nLindley, L.J., observed: In considering whether a receiver of a retired officer 's pension ought to be appointed, not only the language but the object of section 141 of the Army Act.\\n1881 must be looked to; and the object of the section would, in my opinion, be defeated, and not advanced, if a receiver were appointed.\\\" Lord Justice Lopes reiterated the same thing in these words : \\\"It is beyond dispute that the object of the legislature was to secure for officers who had served their country, a provision which would keep them from want and would enable them to retain a respectable social position.\\ni do not see how this object could be effected unless those pensions were made absolutely inalienable.\\npreventing not only the person himself assigning his interest in the pension.\\nbut also preventing the pension being seized or attached under a garnishee order, or by an execution or other process of law.\\nUnless protection is given to this extent the object which the legislature had in view is frustrated, and a strange anomaly would exist.\\nA person with a (1) 18 (Q.B D. 127.\\n769 pension would not be able to utilise his pension to pay a debt beforehand, but immediately his creditor had obtained judgment might be deprived of his pension by attachment, equitable execution, or some other legal process.\\nIt is impossible to suppose that the legislature could have in tended such an anomaly.\\n\\\" Section 51 of the Civil Procedure Code no doubt recognises five modes of execution of a decree and one of them is the appointment of a receiver.\\nInstead of executing the decree by attachment and sale, the Court may appoint a receiver but this can only be in a case where a receiver can be appointed.\\nThe Provident Fund money is exempt from at tachment and is inalienable.\\nNormally, no execution can lie against such a sum.\\nThe learned Judges in the Court below rested their view on the authority of the decision of the Privy Council in Rajindra Narain Singh vs Sundara Bibi(1).\\nThis decision has caused all the difficulty and has created a current of thought that even though the property may not itself be liable to attachment, a receiver can be appointed to take possession of the same and to apply the income or proceeds in a particular manner including the payment of the debts of the judgment debtor.\\nIt is necessary.\\ntherefore, to examine the facts of the case carefully and find out whether the proposition sought to be deduced from it can be justified as a principle of general application apart from the particular circumstances.\\nThe original decision of the Allahabad High Court from which the appeal was taken before the Judicial Committee is reported in Sundar Bibi vs Raj Indranarain Singh(2).\\nIn a suit between two brothers, there was a com promise to the effect that the Judgment debtor shall possess and enjoy the immoveable properties mentioned in the list and estimated to yield a net profit of Rs. 8,000 a year without power of transfer during the lifetime of his broth er, Lal Bahadur Singh, he undertaking to pay certain public exactions and other dues (1)1925) 52 I.A. 262.\\n(2) (1921)43 All.\\n617 770 to his brother, Lal Bahadur Singh, amounting in all to Rs. 7,870 11 6, in four equal instalments per annum, each to be paid a month before the Government revenue falls due.\\nThe arrangement was stated to be \\\"in lieu of his mainte nance\\\".\\nWhen the judgment debtor 's interest in the proper ties was sought to be attached and sold, he raised the objection that they were exempt from attachment and sale by reason of clause (n) of Section 60 of the Code which speaks of \\\"a right to future maintenance\\\".\\nThe High Court held that the words employed in sub clause (n) contemplated R bare right of maintenance and nothing more a right enforce able by law and payable in the future and that inasmuch as in the case before them the properties had been assigned to the judgment debtor in lieu of his maintenance, it was not such a right, which alone was exempt from attachment and sate.\\nThey thought that it was a fit case for the appoint ment of a receiver and remitted the execution petition to the subordinate judge for the appointment of a receiver after determining the allowance payable to the judgment debtor for his maintenance.\\nWith this conclusion of the High Court the Judicial Committee concurred.\\nBut they also expressed the view that they did not agree with the High Court on the subject of the actual legal position of the right of maintenance conferred upon the judgment debtor.\\nTaking the prayer of the judgment creditor to be that the right of maintenance be proceeded against, their Lordships observed that the right was in point of law not attachable and not saleable.\\nIf it was an assignment of properties for maintenance, the amount of which was not fixed, it was open to the judgment creditor to get a receiver appointed subject to the condition that whatever may remain after making provision for the maintenance of the judgment debtor should be made available for the satisfaction of the decree debt.\\nThe right to main tenance could not be attached or sold.\\nIn so far as the decree holder sought to attach this right and deprive the judgment debtor of, his maintenance, he was not entitled to do 771 so, but where his application for the appointment of a receiver was more comprehensive and sought to get at any remaining income after satisfying the maintenance claim, the appointment of a receiver for the purpose was justified.\\nThe decision of the Privy Council does not appear to lay down anything beyond this.\\nIn our opinion, it is not an authority for the general proposition that even though there is a statutory prohibition against attachment and alienation of a particular species of property, it can be reached by another mode of execution, viz., the appointment of a re ceiver.\\nOn the other hand, it was pointed out in the case of Nawab Bahadur of Murshidabad vs Karnani Industrial Bank Limited(1) that as the Nawab had a disposing power over the rents and profits assigned to him for the maintenance of his title and dignity without any power of alienation of the properties, no question of public policy arose and that a receiver of the rents and profits was rightly appointed.\\nThis line of reasoning indicates clearly that in cases where there is no disposing power and the statute imposes an absolute bar on alienation or attachment on grounds of public policy, execution should not be levied.\\nUnderstood as mentioned above, Rajindra Narain Singh 's case creates no difficulty.\\nWe shall now refer to the decisions that followed or distinguished the same.\\nIn The Secretary of State for India in Council vs Bai Somi and Another(2), the maintenance of Rs. 96 per annum was made under a compromise decree a charge on the house which was to belong to the defendant. 'the court fee due to Government was sought to be recovered by attachment of the house.\\nThe right to attach was negatived; the house could not be at tached as it belonged to the defendant; and the plaintiff 's right to maintenance could not be attached under section 60, clause (1).\\nIn dealing with a prayer made by the Govern ment for the first time in the High Court for an order appointing a receiver of the plaintiff 's maintenance, Beaumont C.J. and (1) (1931) 58 I.A. 215.\\n(2) 100 772 another learned Judge held that even this could not be done.\\nThe Chief Justice said , 'If these exempted payments can be reached in execution by the appointment of a receiver by way of equitable execution, the protection afforded by the section is to a great extent lost.\\\" They steered clear of Rajindra Narain Singh 's case by stating that there was in the judgment of the Board no clear expression of opinion and there was doubt whether the allowance then in question was maintenance or not.\\nThe Madras High Court in The Secre tary of State for India in Council vs Sarvepalli Venkata Lakshmamma(1) has dealt with a question similar to the one in The Secretary of State for India in Council vs Bai Somi and Another(2) but it merely referred to the ruling in Rajindra Narain Singh 's case without dealing with the facts or the reasoning.\\nIt throws no light.\\nThe case in Janaki nath vs Pramatha Nath (3) was a decision by a single Judge and stands on the same footing as the Madras case.\\nThere is nothing else on this subject in the judgment than the short observation, \\\"the Provident Funds Act does not in my opinion prohibit the appointment of a receiver of the sum lying to the credit of the deceased in the Provident Fund.\\n\\\" Possibly the view was taken that on the death of the employee and in the absence of any dependent or nominee becoming entitled to the fund under the rules, it became money payable to the heirs of the deceased and lost its original nature of being a compulsory deposit.\\nThe case of Dominion of India, repre senting E. 1.\\nAdministration and Another vs Ashutosh Das and Others(4) refers no doubt to Rajindra Narain Singh 's case but does not discuss it in any detail.\\nRoxburgh J. merely states \\\"surely it is an improper use of that equita ble remedy to employ it to avoid a very definite bar created by statute law to achieving the very object for which the receiver is appointed.\\n\\\" The decision in Ramprasad vs Moti ram(5) related to the attachment and sale in execution of a (1) (4) (2) (5) (1946) 25 Pat. 705.\\n(3) 773 money decree of the interest of a khoposhdar in a khorposh grant which was heritable and transferable.\\nIt affords us no assistance.\\nThe learned counsel for the respondents relied on three decisions of the Privy Council as lending him support.\\nOne is Nawab Bahadur of Murshidabad 's case(1) already referred to.\\nVibhudapriya Thirtha Swamiar vs Lakshmindra Thirtha Swamiar(2) and Niladri Sahu vs Mahant Chaturbhuj Das and Others(3) are the other two eases and they relate to maths and alienations by way of mortgage of endowed properties by the respective mahants for alleged necessity of the institu tions.\\nThey bear no analogy to the present ease.\\nThe mahants had a beneficial interest in the properties after being provided with maintenance.\\nA receiver could be ap pointed in respect of such beneficial interest so that the decrees obtained may be satisfied.\\nWith great respect to the learned Judges of the Court below, we are of the opinion that execution cannot be sought against the Provident Fund money by way of appointment of a receiver.\\nThis conclusion does not, however, apply to the arrears of salary and allowance due to the judgment debtor as they stand upon a different legal footing.\\nSalary is not attach able to the extent provided in Section 60, clause (1), Civil Procedure Code, but there is no such exemption as regards arrears of salary.\\nThe learned Attorney General conceded that this portion of the amount can be proceeded against in execution.\\nThe Provident Fund amount was not paid to the subscriber after the date of his retirement in January 1947.\\nThis, however, does not make it any the less a compulsory deposit within the meaning of the Act.\\nWhatever doubt may have existed under the earlier Act of 1897 the decisions cited for the respondent, Miller vs B.B. & C.I. Railway(4) and Raj (1) (1931) 58 I.A. 215.\\n(3) (1926) 53 I.A. 253.\\n(2) (1927) 54 I.A. 228.\\n(4) 774 Kumar Mukharjee vs W.G. Godfrey(1) are under that Act, the meaning has now been made clear by the definition in section 2 of the present Act; any deposit \\\"remaining to the credit of the subscriber or depositor after the happening of any such contingency\\\" is also a compulsory deposit; and the contingency may be retirement from service.\\nIn the result, the appeal is allowed and the order of the lower court dated 1st February, 1949, appointing a receiver is set aside as regards the Provident Fund amount of Rs. 1,563 lying to the credit of the judgment debtor.\\nUnder the condition granting special leave, the Government will pay the 1st respondent 's costs of this appeal.\\nAppeal allowed.\\nAgent for the respondent No. 1: Naunit Lal.\\nAgent for the respondent No. 2: P.K. Chatterjee.\\n\"\n        ],\n        \"semantic_type\": \"\",\n        \"description\": \"\"\n      }\n    },\n    {\n      \"column\": \"Summaries\",\n      \"properties\": {\n        \"dtype\": \"string\",\n        \"num_unique_values\": 2433,\n        \"samples\": [\n          \"The respondent was a medical practitioner in Uttar Pradesh and maintained a dispensary from which medicines were issued to his patients according to his prescriptions.\\nAccording to notification No. S.T. 3504/X, dated May 10, 1956 issued under section 3A of the U.P. Sales Tax Act, 1948, tax in respect of sale of medicines and pharmaceuticals manufactured in the State was payable at single point on the sale effected by the manufacture.\\nThe Sales Tax Officer held that dispensing of medicines was manufacture ' within the meaning of the aforesaid notification and assessed the respondent to sales tax for the year 1956 57 on the turnover of medicines dispensed.\\nThe order was confirmed by the appellate and revisional authorities, but the High Court decided in favour of the respondent.\\nThe State appealed.\\nHELD: When as prescribed by a medical practitioner, a mixture of different drugs is prepared by the medical practitioner or by his employees specially for the use of a patient in the treatment of an ailment or discomfort diagnosed by the medical practitioner by his professional skill, and which mixture is normally incapable of being passed 'from hand to hand as a commercial commodity, the medical practitioner supplying the medicines cannot be said to be a manufacturer of the mixture and the mixture cannot be said to be manufactured within the meaning of the notification.\\n[712 G H] In the absence of clearer phraseology the Court would not in a taxing provision be willing to give an interpretation whereby a medical practitioner supplying to his patients medicines and pharmaceutical preparations separately is not liable to tax, but when under his direction they are mixed by his employees for the special use of a patient under his treatment and to achieve a specific purpose, the turnover from the resultant mixture is taxable.\\n[713 D]\\n\",\n          \"The petitioners challenged the constitutional validity of the U.P. Sugarcane (Regulation of Supply and Purchase) Act of 1953, and two notifications issued by the State Government on September 27, 1954 and November 9, 1955, the former under sub sec.\\n1(a) read with sub sec.\\n2(b) of section 16 of the impugned Act providing that where not less than three fourths of the canegrowers within the area of operation of a Canegrowers ' Co operative Society were members thereof, the occupier of the factory to which that area is assigned should not purchase or enter into an agreement to purchase cane except through that society and the latter under section 15 of the Act assigning to different sugarcane factories specified cane purchasing centers for supply to them of sugarcane for the crushing season of 1955 56.\\nThey contended that the impugned Act was ultra vires the 394 State Legislature, the subject matter of legislation being within the exclusive jurisdiction of Parliament, and repugnant to Act LXV of 1951 and Act X of 1955 passed by Parliament and that sections 15 and 16(1)(a) and (2)(b) and the two notifications infringed their fundamental rights under articles 14, 19(1)(c), (f) and (g) and 31 and violated the provisions of article 301 of the Constitution.\\nHeld, (1) that the impugned Act and the notifications issued thereunder were intra vires the State Legislature, did not infringe any fundamental rights of the petitioners nor violated the provisions of article 301 of the Constitution and the petitions must be dismissed; (2)that the Central Acts in respect of sugar and sugarcane and the notifications thereunder having been enacted and made by the Central Government in exercise of concurrent jurisdiction under Entry 33 of List III of the Seventh Schedule to the Constitution as amended by the Constitution (Third Amendment) Act of 1954, the State Legislature was not deprived of its jurisdiction thereunder and no question of legislative incompetence of the U.P. Legislature or its trespassing upon the exclusive jurisdiction of the centre in enacting the impugned Act could arise; (3) that the provisions of the impugned Act compared to those of the Central Acts clearly showed that the impugned Act was solely concerned with the regulation of the supply and purchase of sugarcane and in no way trenched upon the exclusive jurisdiction of the Centre with regard to sugar and the U.P. Legislature was, therefore, quite competent to enact it; (4) that no question of repugnancy under article 254 of the Constitution could arise where Parliamentary Legislation and State Legislation occupied different fields and dealt with separate and distinct matters even though of a cognate and allied character, and that where, as in the present case, there was no inconsistency in the actual terms of the acts enacted by Parliament and the State Legislature, the test of repugnancy would be whether Parliament and the State Legislature, in legislating under an entry in the Concurrent List, exercised their powers over the same subject matter or whether the laws enacted by Parliament were intended to be exhaustive so as to cover the entire field; (5) that the provisions of section 18 G of Act LXV of 1951 did not cover sugarcane nor indicate the intention of the Parliament to cover the entire field of such legislation; the expression \\\"any article or class of articles relatable to any scheduled industry\\\" used in sections 18 G, 15 and 16 of the Act did not refer to raw materials but only to finished products of the scheduled industries the supply and distribution of which section 18 G was intended to regulate, its whole object being the equitable distribution and availability of manufactured articles at fair prices and not to invest the Central Government with the power to legislate in regard to sugarcane; 395 (6) that even assuming that sugarcane was such an article and fell within the purview of section 18 G of the Act, no order having been issued by the Central Government thereunder, no question of repugnancy could arise, as repugnancy must exist as a fact and not as a mere possibility and the existence of such an order would be an essential pre requisite for it; (7) that as the provisions of Act X of 1955, and those ' of the impugned Act and the U.P. Sugarcane Regulation of Supply and Purchase Order, 1951, made thereunder, relating to sugarcane were mutually exclusive and did not impinge upon each other and the one legislature did not trench upon the field of the other, the Centre remaining silent where the State spoke and the State remaining silent where the Centre spoke, there could be no inconsistency between them and no provision of the impugned Act and the Rules made thereunder was invalidated by any of the provisions of Act LXV of 1951 as amended by Act XXVI of 1953 or Act X of 1955 and the Sugarcane Control Order, 1955, issued thereunder; Clyde Engineering Company, Limited vs Cowburn ([1926] , Ex Parte McLean ([1930] ; , Stock Motor Plough Ltd. vs Forsyth ([1932] ; , G. P. Stewart vs B.K. Boy Chaudhury (A.I.R. and Shyamakant Lal vs Rambhajan Singh ([1939] F.C.R. 188), referred to.\\n(8) that the power of repeal conferred on Parliament by the proviso to article 254(2) of the Constitution was a limited power and could be exercised only by enacting a law relating to the matter dealt with by the state law and the state law must be one of the kind indicated in the body of article 254(2) itself, and as the impugned Act did not fall within that category the proviso did not apply and the impugned Act, the notifications made thereunder and the U. P. Sugarcane Regulation of Supply and Purchase Order, 1954, stood unrepealed by section 16(1)(b) of Act X of 1955 and cl.\\n7(1) of the Sugarcane Control Order, 1955 made thereunder; Zaverbhai Amaidas vs The State of Bombay ([1955] 1 S.C.R. 799), referred to.\\n(9) that the power of repeal conferred by the proviso to article 254(2) could be exercised by Parliament alone and could not be delegated to an executive authority and, consequently, the Central Government acquired no power of repeal under cl. 7 of the Sugarcane Control Order, 1955; (10) that the contention that the impugned Act infringed the fundamental right guaranteed by article 14 inasmuch as very wide powers were given to the Cane Commissioner which could be used in a discriminatory manner was without any foundation since his powers under section 15 of the impugned Act were well defined and the Act and Rules framed thereunder gave the canegrowers or a Canegrowers ' Co operative Society or the occupier of a factory the right to appeal to the State Government against any order passed by him 396 and thus provided a sufficient safeguard against any arbitrary exercise of those powers; (11) that equally unfounded was the contention that the im pugned Act and the notification dated September 27, 1954, violated the fundamental right guaranteed by article 19(1)(c) of the Constitution.\\nAlthough the right to form an association was a fundamental right, it did not necessarily follow that its negative, i.e. the right not to form an association must also be so, as all rights which an Indian citizen had were not fundamental rights.\\nNo canegrower was compelled to become a member of the Canegrowers ' Co operative Society or prevented from resigning therefrom or selling his crops elsewhere and, consequently, the impugned Act and the notification did not violate his fundamental right; (12) that the powers given to the Cane Commissioner by section 15 of the impugned Act to declare reserved or assigned areas were well defined and controlled by higher authorities and by no means absolute and unguided and were not, therefore, bit by article 19(1)(f) and (g) and the notification dated November 9, 1955, could not, therefore, be impugned on that ground; (13) that the restriction imposed by the notification dated September 27, 1954, on canegrowers in regard to sale of sugarcane to occupiers of factories in areas where the membership of the Canegrowers ' Co operative Society was not less than 75 per cent.\\nof the total number of canegrowers was a reasonable restriction in the public interest, designed for the benefit of a large majority of canegrowers, and as such came within the protection of article 19(6) and did not violate article 19(1)(f) and (g) of the Constitution; (14) that the impugned notifications, being intra vires the State Legislature, could not also be challenged under article 31 as none of the petitioners was deprived of his property, if any, save by authority of law.\\nMessrs Dwarka Prasad Laxmi Narain vs The State of Uttar Pradesh and two others ([1954] S.C.R. 803), referred to.\\n(15) Nor could it be contended that the impugned Act and the notifications contravened the provisions of article 301 of the Constitution in view of the provision of article 304(b) which made it permissible for the State Legislature to impose reasonable restrictions in the public interest.\\nCommonwealth of Australia vs Bank of New South Wales ([1950] A.C. 235) and Hughes and Vale Proprietary Ltd. vs State of New South Wales and others ([1955] A.C. 241), referred to.\\n\",\n          \"The appellant employed workmen in his bidi factory who had to work at the factory and were not at liberty to work at their houses; their attendance were noted in the factory and they had to work within the factory hours, though they were not bound to work for the entire period and could come and go away when they liked; but if they came after midday they were not supplied with tobacco and thus not allowed to work even though the factory closed at 7 p.m.; further they could be removed from service if absent for 8 days.\\nPayment was made on piece rates according to the amount of work done, and the bidis which did not come upto the proper standard could be rejected.\\nThe respondent workmen applied for leave for 15 days and did not go to work, for which period the appellants did not pay their wages; in consequence the concerned workmen applied to the Payment of Wages Authority for payment of wages to them.\\nThe appellant 's contention that the respondent workmen were not his workmen within the meaning of the , was rejected and the claim for payment of wages was allowed.\\nThe question therefore was whether the appellants were workmen within the meaning of the .\\nHeld, that the nature of extent of control varies in different industries and cannot by its very nature be precisely defined.\\nWhen the operation was of a simple nature and could not be supervised all the time and the control was at the end of day by the method of rejecting the work done which did not come up to proper standard, then, it was the right to supervise and not so much the mode in which it was exercised which would determine whether a person was a workman or an independent contractor.\\nThe mere fact that a worker was a piece rate worker would not necessarily take him out of the category of a worker within the meaning of section 2(1) Of the .\\nIn the instant case the respondent workmen could not be said to be independent contractors and were workmen within the meaning of section 2(1) of the .\\nHeld, further, that the leave provided for under section 79 of the arose as a matter of right when a worker had put 21 162 in a minimum number of working days and he was entitled to it.\\nThe fact that the workman remained absent for a longer period had no bearing on his right to leave.\\nState vs Shankar Balaji Waje, A.I.R. 1960 Bom.\\n296, approved.\\nDharangadhara Chemical Works Ltd. vs State of Saurashtra, ; and Shri Chintaman Rao vs The State of Madhya Pradesh, ; , referred to.\\n\"\n        ],\n        \"semantic_type\": \"\",\n        \"description\": \"\"\n      }\n    }\n  ]\n}"
            }
          },
          "metadata": {},
          "execution_count": 11
        }
      ],
      "source": [
        "df.head(1)"
      ]
    },
    {
      "cell_type": "code",
      "execution_count": null,
      "metadata": {
        "colab": {
          "base_uri": "https://localhost:8080/"
        },
        "id": "R2s-K2FCUD1I",
        "outputId": "03401373-9027-484b-9417-9106fb20921a"
      },
      "outputs": [
        {
          "output_type": "stream",
          "name": "stdout",
          "text": [
            "Requirement already satisfied: datasets in /usr/local/lib/python3.10/dist-packages (3.0.1)\n",
            "Requirement already satisfied: transformers in /usr/local/lib/python3.10/dist-packages (4.44.2)\n",
            "Requirement already satisfied: filelock in /usr/local/lib/python3.10/dist-packages (from datasets) (3.16.1)\n",
            "Requirement already satisfied: numpy>=1.17 in /usr/local/lib/python3.10/dist-packages (from datasets) (1.25.2)\n",
            "Requirement already satisfied: pyarrow>=15.0.0 in /usr/local/lib/python3.10/dist-packages (from datasets) (17.0.0)\n",
            "Requirement already satisfied: dill<0.3.9,>=0.3.0 in /usr/local/lib/python3.10/dist-packages (from datasets) (0.3.8)\n",
            "Requirement already satisfied: pandas in /usr/local/lib/python3.10/dist-packages (from datasets) (2.2.3)\n",
            "Requirement already satisfied: requests>=2.32.2 in /usr/local/lib/python3.10/dist-packages (from datasets) (2.32.3)\n",
            "Requirement already satisfied: tqdm>=4.66.3 in /usr/local/lib/python3.10/dist-packages (from datasets) (4.66.5)\n",
            "Requirement already satisfied: xxhash in /usr/local/lib/python3.10/dist-packages (from datasets) (3.5.0)\n",
            "Requirement already satisfied: multiprocess in /usr/local/lib/python3.10/dist-packages (from datasets) (0.70.16)\n",
            "Requirement already satisfied: fsspec<=2024.6.1,>=2023.1.0 in /usr/local/lib/python3.10/dist-packages (from fsspec[http]<=2024.6.1,>=2023.1.0->datasets) (2024.6.1)\n",
            "Requirement already satisfied: aiohttp in /usr/local/lib/python3.10/dist-packages (from datasets) (3.10.10)\n",
            "Requirement already satisfied: huggingface-hub>=0.22.0 in /usr/local/lib/python3.10/dist-packages (from datasets) (0.25.2)\n",
            "Requirement already satisfied: packaging in /usr/local/lib/python3.10/dist-packages (from datasets) (24.1)\n",
            "Requirement already satisfied: pyyaml>=5.1 in /usr/local/lib/python3.10/dist-packages (from datasets) (6.0.2)\n",
            "Requirement already satisfied: regex!=2019.12.17 in /usr/local/lib/python3.10/dist-packages (from transformers) (2024.9.11)\n",
            "Requirement already satisfied: safetensors>=0.4.1 in /usr/local/lib/python3.10/dist-packages (from transformers) (0.4.5)\n",
            "Requirement already satisfied: tokenizers<0.20,>=0.19 in /usr/local/lib/python3.10/dist-packages (from transformers) (0.19.1)\n",
            "Requirement already satisfied: aiohappyeyeballs>=2.3.0 in /usr/local/lib/python3.10/dist-packages (from aiohttp->datasets) (2.4.3)\n",
            "Requirement already satisfied: aiosignal>=1.1.2 in /usr/local/lib/python3.10/dist-packages (from aiohttp->datasets) (1.3.1)\n",
            "Requirement already satisfied: attrs>=17.3.0 in /usr/local/lib/python3.10/dist-packages (from aiohttp->datasets) (24.2.0)\n",
            "Requirement already satisfied: frozenlist>=1.1.1 in /usr/local/lib/python3.10/dist-packages (from aiohttp->datasets) (1.4.1)\n",
            "Requirement already satisfied: multidict<7.0,>=4.5 in /usr/local/lib/python3.10/dist-packages (from aiohttp->datasets) (6.1.0)\n",
            "Requirement already satisfied: yarl<2.0,>=1.12.0 in /usr/local/lib/python3.10/dist-packages (from aiohttp->datasets) (1.15.3)\n",
            "Requirement already satisfied: async-timeout<5.0,>=4.0 in /usr/local/lib/python3.10/dist-packages (from aiohttp->datasets) (4.0.3)\n",
            "Requirement already satisfied: typing-extensions>=3.7.4.3 in /usr/local/lib/python3.10/dist-packages (from huggingface-hub>=0.22.0->datasets) (4.12.2)\n",
            "Requirement already satisfied: charset-normalizer<4,>=2 in /usr/local/lib/python3.10/dist-packages (from requests>=2.32.2->datasets) (3.4.0)\n",
            "Requirement already satisfied: idna<4,>=2.5 in /usr/local/lib/python3.10/dist-packages (from requests>=2.32.2->datasets) (3.10)\n",
            "Requirement already satisfied: urllib3<3,>=1.21.1 in /usr/local/lib/python3.10/dist-packages (from requests>=2.32.2->datasets) (2.2.3)\n",
            "Requirement already satisfied: certifi>=2017.4.17 in /usr/local/lib/python3.10/dist-packages (from requests>=2.32.2->datasets) (2024.8.30)\n",
            "Requirement already satisfied: python-dateutil>=2.8.2 in /usr/local/lib/python3.10/dist-packages (from pandas->datasets) (2.9.0.post0)\n",
            "Requirement already satisfied: pytz>=2020.1 in /usr/local/lib/python3.10/dist-packages (from pandas->datasets) (2024.2)\n",
            "Requirement already satisfied: tzdata>=2022.7 in /usr/local/lib/python3.10/dist-packages (from pandas->datasets) (2024.2)\n",
            "Requirement already satisfied: six>=1.5 in /usr/local/lib/python3.10/dist-packages (from python-dateutil>=2.8.2->pandas->datasets) (1.16.0)\n",
            "Requirement already satisfied: propcache>=0.2.0 in /usr/local/lib/python3.10/dist-packages (from yarl<2.0,>=1.12.0->aiohttp->datasets) (0.2.0)\n"
          ]
        }
      ],
      "source": [
        "pip install  datasets transformers"
      ]
    },
    {
      "cell_type": "code",
      "execution_count": null,
      "metadata": {
        "colab": {
          "base_uri": "https://localhost:8080/"
        },
        "id": "TBXn9t5_C7oz",
        "outputId": "2c83bcbb-6979-4d3a-a4c1-c49e4e779757"
      },
      "outputs": [
        {
          "output_type": "stream",
          "name": "stdout",
          "text": [
            "Collecting pyarrow==5.0.0\n",
            "  Using cached pyarrow-5.0.0.tar.gz (739 kB)\n",
            "  Installing build dependencies ... \u001b[?25l\u001b[?25hcanceled\u001b[31mERROR: Operation cancelled by user\u001b[0m\u001b[31m\n",
            "\u001b[0m"
          ]
        }
      ],
      "source": [
        "!pip install pyarrow==5.0.0\n"
      ]
    },
    {
      "cell_type": "code",
      "execution_count": null,
      "metadata": {
        "colab": {
          "base_uri": "https://localhost:8080/",
          "height": 1000
        },
        "id": "YrZQ6-DoDBd2",
        "outputId": "b97a161f-ebbd-4c49-aaee-afaa8904e14a"
      },
      "outputs": [
        {
          "output_type": "stream",
          "name": "stdout",
          "text": [
            "Collecting datasets\n",
            "  Using cached datasets-3.0.1-py3-none-any.whl.metadata (20 kB)\n",
            "Collecting filelock (from datasets)\n",
            "  Using cached filelock-3.16.1-py3-none-any.whl.metadata (2.9 kB)\n",
            "Collecting numpy>=1.17 (from datasets)\n",
            "  Using cached numpy-2.1.2-cp310-cp310-manylinux_2_17_x86_64.manylinux2014_x86_64.whl.metadata (60 kB)\n",
            "Collecting pyarrow>=15.0.0 (from datasets)\n",
            "  Using cached pyarrow-17.0.0-cp310-cp310-manylinux_2_28_x86_64.whl.metadata (3.3 kB)\n",
            "Collecting dill<0.3.9,>=0.3.0 (from datasets)\n",
            "  Using cached dill-0.3.8-py3-none-any.whl.metadata (10 kB)\n",
            "Collecting pandas (from datasets)\n",
            "  Using cached pandas-2.2.3-cp310-cp310-manylinux_2_17_x86_64.manylinux2014_x86_64.whl.metadata (89 kB)\n",
            "Collecting requests>=2.32.2 (from datasets)\n",
            "  Using cached requests-2.32.3-py3-none-any.whl.metadata (4.6 kB)\n",
            "Collecting tqdm>=4.66.3 (from datasets)\n",
            "  Using cached tqdm-4.66.5-py3-none-any.whl.metadata (57 kB)\n",
            "Collecting xxhash (from datasets)\n",
            "  Using cached xxhash-3.5.0-cp310-cp310-manylinux_2_17_x86_64.manylinux2014_x86_64.whl.metadata (12 kB)\n",
            "Collecting multiprocess (from datasets)\n",
            "  Using cached multiprocess-0.70.17-py310-none-any.whl.metadata (7.2 kB)\n",
            "Collecting fsspec<=2024.6.1,>=2023.1.0 (from fsspec[http]<=2024.6.1,>=2023.1.0->datasets)\n",
            "  Using cached fsspec-2024.6.1-py3-none-any.whl.metadata (11 kB)\n",
            "Collecting aiohttp (from datasets)\n",
            "  Using cached aiohttp-3.10.10-cp310-cp310-manylinux_2_17_x86_64.manylinux2014_x86_64.whl.metadata (7.6 kB)\n",
            "Collecting huggingface-hub>=0.22.0 (from datasets)\n",
            "  Using cached huggingface_hub-0.25.2-py3-none-any.whl.metadata (13 kB)\n",
            "Collecting packaging (from datasets)\n",
            "  Using cached packaging-24.1-py3-none-any.whl.metadata (3.2 kB)\n",
            "Collecting pyyaml>=5.1 (from datasets)\n",
            "  Using cached PyYAML-6.0.2-cp310-cp310-manylinux_2_17_x86_64.manylinux2014_x86_64.whl.metadata (2.1 kB)\n",
            "Collecting aiohappyeyeballs>=2.3.0 (from aiohttp->datasets)\n",
            "  Using cached aiohappyeyeballs-2.4.3-py3-none-any.whl.metadata (6.1 kB)\n",
            "Collecting aiosignal>=1.1.2 (from aiohttp->datasets)\n",
            "  Using cached aiosignal-1.3.1-py3-none-any.whl.metadata (4.0 kB)\n",
            "Collecting attrs>=17.3.0 (from aiohttp->datasets)\n",
            "  Using cached attrs-24.2.0-py3-none-any.whl.metadata (11 kB)\n",
            "Collecting frozenlist>=1.1.1 (from aiohttp->datasets)\n",
            "  Using cached frozenlist-1.4.1-cp310-cp310-manylinux_2_5_x86_64.manylinux1_x86_64.manylinux_2_17_x86_64.manylinux2014_x86_64.whl.metadata (12 kB)\n",
            "Collecting multidict<7.0,>=4.5 (from aiohttp->datasets)\n",
            "  Using cached multidict-6.1.0-cp310-cp310-manylinux_2_17_x86_64.manylinux2014_x86_64.whl.metadata (5.0 kB)\n",
            "Collecting yarl<2.0,>=1.12.0 (from aiohttp->datasets)\n",
            "  Using cached yarl-1.15.3-cp310-cp310-manylinux_2_17_x86_64.manylinux2014_x86_64.whl.metadata (57 kB)\n",
            "Collecting async-timeout<5.0,>=4.0 (from aiohttp->datasets)\n",
            "  Using cached async_timeout-4.0.3-py3-none-any.whl.metadata (4.2 kB)\n",
            "Collecting typing-extensions>=3.7.4.3 (from huggingface-hub>=0.22.0->datasets)\n",
            "  Using cached typing_extensions-4.12.2-py3-none-any.whl.metadata (3.0 kB)\n",
            "Collecting charset-normalizer<4,>=2 (from requests>=2.32.2->datasets)\n",
            "  Using cached charset_normalizer-3.4.0-cp310-cp310-manylinux_2_17_x86_64.manylinux2014_x86_64.whl.metadata (34 kB)\n",
            "Collecting idna<4,>=2.5 (from requests>=2.32.2->datasets)\n",
            "  Using cached idna-3.10-py3-none-any.whl.metadata (10 kB)\n",
            "Collecting urllib3<3,>=1.21.1 (from requests>=2.32.2->datasets)\n",
            "  Using cached urllib3-2.2.3-py3-none-any.whl.metadata (6.5 kB)\n",
            "Collecting certifi>=2017.4.17 (from requests>=2.32.2->datasets)\n",
            "  Using cached certifi-2024.8.30-py3-none-any.whl.metadata (2.2 kB)\n",
            "INFO: pip is looking at multiple versions of multiprocess to determine which version is compatible with other requirements. This could take a while.\n",
            "Collecting multiprocess (from datasets)\n",
            "  Using cached multiprocess-0.70.16-py310-none-any.whl.metadata (7.2 kB)\n",
            "Collecting python-dateutil>=2.8.2 (from pandas->datasets)\n",
            "  Using cached python_dateutil-2.9.0.post0-py2.py3-none-any.whl.metadata (8.4 kB)\n",
            "Collecting pytz>=2020.1 (from pandas->datasets)\n",
            "  Using cached pytz-2024.2-py2.py3-none-any.whl.metadata (22 kB)\n",
            "Collecting tzdata>=2022.7 (from pandas->datasets)\n",
            "  Using cached tzdata-2024.2-py2.py3-none-any.whl.metadata (1.4 kB)\n",
            "Collecting six>=1.5 (from python-dateutil>=2.8.2->pandas->datasets)\n",
            "  Using cached six-1.16.0-py2.py3-none-any.whl.metadata (1.8 kB)\n",
            "Collecting propcache>=0.2.0 (from yarl<2.0,>=1.12.0->aiohttp->datasets)\n",
            "  Using cached propcache-0.2.0-cp310-cp310-manylinux_2_17_x86_64.manylinux2014_x86_64.whl.metadata (7.7 kB)\n",
            "Using cached datasets-3.0.1-py3-none-any.whl (471 kB)\n",
            "Using cached dill-0.3.8-py3-none-any.whl (116 kB)\n",
            "Using cached fsspec-2024.6.1-py3-none-any.whl (177 kB)\n",
            "Using cached aiohttp-3.10.10-cp310-cp310-manylinux_2_17_x86_64.manylinux2014_x86_64.whl (1.2 MB)\n",
            "Using cached huggingface_hub-0.25.2-py3-none-any.whl (436 kB)\n",
            "Using cached numpy-2.1.2-cp310-cp310-manylinux_2_17_x86_64.manylinux2014_x86_64.whl (16.3 MB)\n",
            "Using cached packaging-24.1-py3-none-any.whl (53 kB)\n",
            "Using cached pyarrow-17.0.0-cp310-cp310-manylinux_2_28_x86_64.whl (39.9 MB)\n",
            "Using cached PyYAML-6.0.2-cp310-cp310-manylinux_2_17_x86_64.manylinux2014_x86_64.whl (751 kB)\n",
            "Using cached requests-2.32.3-py3-none-any.whl (64 kB)\n",
            "Using cached tqdm-4.66.5-py3-none-any.whl (78 kB)\n",
            "Using cached filelock-3.16.1-py3-none-any.whl (16 kB)\n",
            "Using cached multiprocess-0.70.16-py310-none-any.whl (134 kB)\n",
            "Using cached pandas-2.2.3-cp310-cp310-manylinux_2_17_x86_64.manylinux2014_x86_64.whl (13.1 MB)\n",
            "Using cached xxhash-3.5.0-cp310-cp310-manylinux_2_17_x86_64.manylinux2014_x86_64.whl (194 kB)\n",
            "Using cached aiohappyeyeballs-2.4.3-py3-none-any.whl (14 kB)\n",
            "Using cached aiosignal-1.3.1-py3-none-any.whl (7.6 kB)\n",
            "Using cached async_timeout-4.0.3-py3-none-any.whl (5.7 kB)\n",
            "Using cached attrs-24.2.0-py3-none-any.whl (63 kB)\n",
            "Using cached certifi-2024.8.30-py3-none-any.whl (167 kB)\n",
            "Using cached charset_normalizer-3.4.0-cp310-cp310-manylinux_2_17_x86_64.manylinux2014_x86_64.whl (144 kB)\n",
            "Using cached frozenlist-1.4.1-cp310-cp310-manylinux_2_5_x86_64.manylinux1_x86_64.manylinux_2_17_x86_64.manylinux2014_x86_64.whl (239 kB)\n",
            "Using cached idna-3.10-py3-none-any.whl (70 kB)\n",
            "Using cached multidict-6.1.0-cp310-cp310-manylinux_2_17_x86_64.manylinux2014_x86_64.whl (124 kB)\n",
            "Using cached python_dateutil-2.9.0.post0-py2.py3-none-any.whl (229 kB)\n",
            "Using cached pytz-2024.2-py2.py3-none-any.whl (508 kB)\n",
            "Using cached typing_extensions-4.12.2-py3-none-any.whl (37 kB)\n",
            "Using cached tzdata-2024.2-py2.py3-none-any.whl (346 kB)\n",
            "Using cached urllib3-2.2.3-py3-none-any.whl (126 kB)\n",
            "Using cached yarl-1.15.3-cp310-cp310-manylinux_2_17_x86_64.manylinux2014_x86_64.whl (310 kB)\n",
            "Using cached propcache-0.2.0-cp310-cp310-manylinux_2_17_x86_64.manylinux2014_x86_64.whl (208 kB)\n",
            "Using cached six-1.16.0-py2.py3-none-any.whl (11 kB)\n",
            "Installing collected packages: pytz, xxhash, urllib3, tzdata, typing-extensions, tqdm, six, pyyaml, propcache, packaging, numpy, idna, fsspec, frozenlist, filelock, dill, charset-normalizer, certifi, attrs, async-timeout, aiohappyeyeballs, requests, python-dateutil, pyarrow, multiprocess, multidict, aiosignal, yarl, pandas, huggingface-hub, aiohttp, datasets\n",
            "  Attempting uninstall: pytz\n",
            "    Found existing installation: pytz 2024.2\n",
            "    Uninstalling pytz-2024.2:\n",
            "      Successfully uninstalled pytz-2024.2\n",
            "  Attempting uninstall: xxhash\n",
            "    Found existing installation: xxhash 3.5.0\n",
            "    Uninstalling xxhash-3.5.0:\n",
            "      Successfully uninstalled xxhash-3.5.0\n",
            "  Attempting uninstall: urllib3\n",
            "    Found existing installation: urllib3 2.2.3\n",
            "    Uninstalling urllib3-2.2.3:\n",
            "      Successfully uninstalled urllib3-2.2.3\n",
            "  Attempting uninstall: tzdata\n",
            "    Found existing installation: tzdata 2024.2\n",
            "    Uninstalling tzdata-2024.2:\n",
            "      Successfully uninstalled tzdata-2024.2\n",
            "  Attempting uninstall: typing-extensions\n",
            "    Found existing installation: typing_extensions 4.12.2\n",
            "    Uninstalling typing_extensions-4.12.2:\n",
            "      Successfully uninstalled typing_extensions-4.12.2\n",
            "  Attempting uninstall: tqdm\n",
            "    Found existing installation: tqdm 4.66.5\n",
            "    Uninstalling tqdm-4.66.5:\n",
            "      Successfully uninstalled tqdm-4.66.5\n",
            "  Attempting uninstall: six\n",
            "    Found existing installation: six 1.16.0\n",
            "    Uninstalling six-1.16.0:\n",
            "      Successfully uninstalled six-1.16.0\n",
            "  Attempting uninstall: pyyaml\n",
            "    Found existing installation: PyYAML 6.0.2\n",
            "    Uninstalling PyYAML-6.0.2:\n",
            "      Successfully uninstalled PyYAML-6.0.2\n",
            "  Attempting uninstall: propcache\n",
            "    Found existing installation: propcache 0.2.0\n",
            "    Uninstalling propcache-0.2.0:\n",
            "      Successfully uninstalled propcache-0.2.0\n",
            "  Attempting uninstall: packaging\n",
            "    Found existing installation: packaging 24.1\n",
            "    Uninstalling packaging-24.1:\n",
            "      Successfully uninstalled packaging-24.1\n",
            "  Attempting uninstall: numpy\n",
            "    Found existing installation: numpy 1.25.2\n",
            "    Uninstalling numpy-1.25.2:\n",
            "      Successfully uninstalled numpy-1.25.2\n",
            "  Attempting uninstall: idna\n",
            "    Found existing installation: idna 3.10\n",
            "    Uninstalling idna-3.10:\n",
            "      Successfully uninstalled idna-3.10\n",
            "  Attempting uninstall: fsspec\n",
            "    Found existing installation: fsspec 2024.6.1\n",
            "    Uninstalling fsspec-2024.6.1:\n",
            "      Successfully uninstalled fsspec-2024.6.1\n",
            "  Attempting uninstall: frozenlist\n",
            "    Found existing installation: frozenlist 1.4.1\n",
            "    Uninstalling frozenlist-1.4.1:\n",
            "      Successfully uninstalled frozenlist-1.4.1\n",
            "  Attempting uninstall: filelock\n",
            "    Found existing installation: filelock 3.16.1\n",
            "    Uninstalling filelock-3.16.1:\n",
            "      Successfully uninstalled filelock-3.16.1\n",
            "  Attempting uninstall: dill\n",
            "    Found existing installation: dill 0.3.8\n",
            "    Uninstalling dill-0.3.8:\n",
            "      Successfully uninstalled dill-0.3.8\n",
            "  Attempting uninstall: charset-normalizer\n",
            "    Found existing installation: charset-normalizer 3.4.0\n",
            "    Uninstalling charset-normalizer-3.4.0:\n",
            "      Successfully uninstalled charset-normalizer-3.4.0\n",
            "  Attempting uninstall: certifi\n",
            "    Found existing installation: certifi 2024.8.30\n",
            "    Uninstalling certifi-2024.8.30:\n",
            "      Successfully uninstalled certifi-2024.8.30\n",
            "  Attempting uninstall: attrs\n",
            "    Found existing installation: attrs 24.2.0\n",
            "    Uninstalling attrs-24.2.0:\n",
            "      Successfully uninstalled attrs-24.2.0\n",
            "  Attempting uninstall: async-timeout\n",
            "    Found existing installation: async-timeout 4.0.3\n",
            "    Uninstalling async-timeout-4.0.3:\n",
            "      Successfully uninstalled async-timeout-4.0.3\n",
            "  Attempting uninstall: aiohappyeyeballs\n",
            "    Found existing installation: aiohappyeyeballs 2.4.3\n",
            "    Uninstalling aiohappyeyeballs-2.4.3:\n",
            "      Successfully uninstalled aiohappyeyeballs-2.4.3\n",
            "  Attempting uninstall: requests\n",
            "    Found existing installation: requests 2.32.3\n",
            "    Uninstalling requests-2.32.3:\n",
            "      Successfully uninstalled requests-2.32.3\n",
            "  Attempting uninstall: python-dateutil\n",
            "    Found existing installation: python-dateutil 2.9.0.post0\n",
            "    Uninstalling python-dateutil-2.9.0.post0:\n",
            "      Successfully uninstalled python-dateutil-2.9.0.post0\n",
            "  Attempting uninstall: pyarrow\n",
            "    Found existing installation: pyarrow 17.0.0\n",
            "    Uninstalling pyarrow-17.0.0:\n",
            "      Successfully uninstalled pyarrow-17.0.0\n",
            "  Attempting uninstall: multiprocess\n",
            "    Found existing installation: multiprocess 0.70.16\n",
            "    Uninstalling multiprocess-0.70.16:\n",
            "      Successfully uninstalled multiprocess-0.70.16\n",
            "  Attempting uninstall: multidict\n",
            "    Found existing installation: multidict 6.1.0\n",
            "    Uninstalling multidict-6.1.0:\n",
            "      Successfully uninstalled multidict-6.1.0\n",
            "  Attempting uninstall: aiosignal\n",
            "    Found existing installation: aiosignal 1.3.1\n",
            "    Uninstalling aiosignal-1.3.1:\n",
            "      Successfully uninstalled aiosignal-1.3.1\n",
            "  Attempting uninstall: yarl\n",
            "    Found existing installation: yarl 1.15.3\n",
            "    Uninstalling yarl-1.15.3:\n",
            "      Successfully uninstalled yarl-1.15.3\n",
            "  Attempting uninstall: pandas\n",
            "    Found existing installation: pandas 2.2.3\n",
            "    Uninstalling pandas-2.2.3:\n",
            "      Successfully uninstalled pandas-2.2.3\n",
            "  Attempting uninstall: huggingface-hub\n",
            "    Found existing installation: huggingface-hub 0.25.2\n",
            "    Uninstalling huggingface-hub-0.25.2:\n",
            "      Successfully uninstalled huggingface-hub-0.25.2\n",
            "  Attempting uninstall: aiohttp\n",
            "    Found existing installation: aiohttp 3.10.10\n",
            "    Uninstalling aiohttp-3.10.10:\n",
            "      Successfully uninstalled aiohttp-3.10.10\n",
            "  Attempting uninstall: datasets\n",
            "    Found existing installation: datasets 3.0.1\n",
            "    Uninstalling datasets-3.0.1:\n",
            "      Successfully uninstalled datasets-3.0.1\n",
            "\u001b[31mERROR: pip's dependency resolver does not currently take into account all the packages that are installed. This behaviour is the source of the following dependency conflicts.\n",
            "cudf-cu12 24.6.1 requires numpy<2.0a0,>=1.23, but you have numpy 2.1.2 which is incompatible.\n",
            "cudf-cu12 24.6.1 requires pandas<2.2.3dev0,>=2.0, but you have pandas 2.2.3 which is incompatible.\n",
            "cudf-cu12 24.6.1 requires pyarrow<16.2.0a0,>=16.1.0, but you have pyarrow 17.0.0 which is incompatible.\n",
            "cupy-cuda12x 12.2.0 requires numpy<1.27,>=1.20, but you have numpy 2.1.2 which is incompatible.\n",
            "gensim 4.3.3 requires numpy<2.0,>=1.18.5, but you have numpy 2.1.2 which is incompatible.\n",
            "google-colab 1.0.0 requires pandas==2.2.2, but you have pandas 2.2.3 which is incompatible.\n",
            "numba 0.60.0 requires numpy<2.1,>=1.22, but you have numpy 2.1.2 which is incompatible.\n",
            "pytensor 2.25.5 requires numpy<2,>=1.17.0, but you have numpy 2.1.2 which is incompatible.\n",
            "rmm-cu12 24.6.0 requires numpy<2.0a0,>=1.23, but you have numpy 2.1.2 which is incompatible.\n",
            "tensorflow 2.17.0 requires numpy<2.0.0,>=1.23.5; python_version <= \"3.11\", but you have numpy 2.1.2 which is incompatible.\n",
            "thinc 8.2.5 requires numpy<2.0.0,>=1.19.0; python_version >= \"3.9\", but you have numpy 2.1.2 which is incompatible.\u001b[0m\u001b[31m\n",
            "\u001b[0mSuccessfully installed aiohappyeyeballs-2.4.3 aiohttp-3.10.10 aiosignal-1.3.1 async-timeout-4.0.3 attrs-24.2.0 certifi-2024.8.30 charset-normalizer-3.4.0 datasets-3.0.1 dill-0.3.8 filelock-3.16.1 frozenlist-1.4.1 fsspec-2024.6.1 huggingface-hub-0.25.2 idna-3.10 multidict-6.1.0 multiprocess-0.70.16 numpy-2.1.2 packaging-24.1 pandas-2.2.3 propcache-0.2.0 pyarrow-17.0.0 python-dateutil-2.9.0.post0 pytz-2024.2 pyyaml-6.0.2 requests-2.32.3 six-1.16.0 tqdm-4.66.5 typing-extensions-4.12.2 tzdata-2024.2 urllib3-2.2.3 xxhash-3.5.0 yarl-1.15.3\n"
          ]
        },
        {
          "output_type": "display_data",
          "data": {
            "application/vnd.colab-display-data+json": {
              "pip_warning": {
                "packages": [
                  "_multiprocess",
                  "aiohttp",
                  "aiosignal",
                  "async_timeout",
                  "certifi",
                  "charset_normalizer",
                  "datasets",
                  "dateutil",
                  "dill",
                  "frozenlist",
                  "huggingface_hub",
                  "multidict",
                  "multiprocess",
                  "propcache",
                  "pyarrow",
                  "pytz",
                  "requests",
                  "six",
                  "tqdm",
                  "xxhash",
                  "yaml",
                  "yarl"
                ]
              },
              "id": "4e456860ee024097925d125673eb3e41"
            }
          },
          "metadata": {}
        }
      ],
      "source": [
        "!pip install --upgrade --force-reinstall datasets\n"
      ]
    },
    {
      "cell_type": "code",
      "execution_count": null,
      "metadata": {
        "colab": {
          "base_uri": "https://localhost:8080/"
        },
        "id": "RwTCg9fuSZRC",
        "outputId": "dd9043a2-a505-4d8c-c530-023b85b9cdd4"
      },
      "outputs": [
        {
          "output_type": "stream",
          "name": "stdout",
          "text": [
            "Requirement already satisfied: pyarrow in /usr/local/lib/python3.10/dist-packages (17.0.0)\n",
            "Requirement already satisfied: numpy>=1.16.6 in /usr/local/lib/python3.10/dist-packages (from pyarrow) (2.1.2)\n"
          ]
        }
      ],
      "source": [
        "!pip install --upgrade pyarrow\n",
        "import datasets\n",
        "from datasets import load_dataset\n",
        "dataset = load_dataset('csv', data_files='/content/drive/My Drive/dataset.csv')"
      ]
    },
    {
      "cell_type": "code",
      "execution_count": null,
      "metadata": {
        "colab": {
          "base_uri": "https://localhost:8080/"
        },
        "id": "hvCUV9oqSz6x",
        "outputId": "14d62db6-8fa5-44de-ab23-87cec6d94bb5"
      },
      "outputs": [
        {
          "output_type": "execute_result",
          "data": {
            "text/plain": [
              "DatasetDict({\n",
              "    train: Dataset({\n",
              "        features: ['Documents', 'Summaries'],\n",
              "        num_rows: 2463\n",
              "    })\n",
              "})"
            ]
          },
          "metadata": {},
          "execution_count": 47
        }
      ],
      "source": [
        "dataset"
      ]
    },
    {
      "cell_type": "code",
      "execution_count": null,
      "metadata": {
        "colab": {
          "base_uri": "https://localhost:8080/"
        },
        "id": "wJTDat5zS1ln",
        "outputId": "f444d380-ad24-4280-dbfb-36198bc195d2"
      },
      "outputs": [
        {
          "output_type": "stream",
          "name": "stdout",
          "text": [
            "Training samples: 1970\n",
            "Testing samples: 493\n"
          ]
        }
      ],
      "source": [
        "split_dataset = dataset['train'].train_test_split(test_size=0.2, seed=42)\n",
        "\n",
        "\n",
        "train_dataset = split_dataset['train']\n",
        "test_dataset = split_dataset['test']\n",
        "\n",
        "print(f\"Training samples: {len(train_dataset)}\")\n",
        "print(f\"Testing samples: {len(test_dataset)}\")\n"
      ]
    },
    {
      "cell_type": "code",
      "source": [
        "test_dataset[0]"
      ],
      "metadata": {
        "colab": {
          "base_uri": "https://localhost:8080/"
        },
        "id": "l5twkw48z027",
        "outputId": "f35949ac-8724-4044-ee16-b85f25761369"
      },
      "execution_count": null,
      "outputs": [
        {
          "output_type": "execute_result",
          "data": {
            "text/plain": [
              "{'Documents': 'iminal Appeal No. 30 of 1961.\\nAppeal from the judgment and order dated September 6, 1960 of the Calcutta High Court in Cr.\\nRevision No. 647 of 1960.\\nB. Sen, P. K. Chatterjee and P. K. Bose, for the appellant.\\nD. C. Roy and P. K. Mukherjee, for the respondent.\\nApril 12.\\nThe Judgment of the Court was delivered by KAPUR, J.\\nThis is an appeal against the judgment and order of the High Court of Calcutta quashing the investigation started against the respondent in regard to offences under section 420, Indian Penal Code, and section 120B read with section 420 of the Indian Penal Code.\\nOn March 26, 1960, Sub Inspector.\\nB. L. Gbose of Police Inforcement Branch filed a written report before the Officer in charge Chakdha P. section, alleging that the respondent in conspiracy with three others 54 had cheated the Government of West Bengal of a sum of Rs. 20,000.\\nThe respondent at the time was an Assistant cum Executive Engineer, Kancbrapara Development Area, Kalyani Division.\\nOn the basis of this report a First Information Report was drawn up and the police started investigation.\\nOn April 4, 1960, the respondent surrendered in the court of the Judicial Magistrate at Ranaghat and was released on bail for a sum of Rs. 1,000/ .\\nThe respondent then on May 9, 1960, filed a petition under sections 439 and 561A of the Criminal Procedure Code and prayed for a rule against the District Magistrate, Nadia, to show cause why the judicial case pending in the court of the Senior Magistrate Ranagaghat arising out of the Chakdah Police Station Case No. 33 dated March 26, 1960, be not quashed.\\nThe High Court held : \"In our view, the statutory power of investigation given to the police under Chapter XIV is not available in respect of an offence triable under the West Bengal Criminal Law Amendment (Special Courts) Act 1949, and that being so, the investigation concerned is without jurisdiction.\\nIn so saying, we are consicious of the observations of their Lord ships of the Privy Council in Nazir Ahmad \\'s case, 71 Indian Appeals, 203\".\\nand therefore quashed the police investigation of the case holding it to be without jurisdiction.\\nIt is against this judgment and order that the state has come in appeal to this Court on a certificate granted by the High Court under article 134 (1) (c) At the time the respondent filed the petition in the High Court only a written report was made to the police by the Sub Inspector of police Enforcement Branch and on the basis of that report a :First Information Report was recorded by the 55 Officer in charge of the Police Station and investigation had started.\\nThere was no case pending at the time excepting that the respondent had appeared before the Court, had surrendered and had \\' been admitted to bail.\\nThe powers of investigation into cognizable offences are contained in Chapter XIV of the Code of Criminal Procedure.\\nSection 154 which is in that Chapter deals with information in cognizable offences and section 156 with investigation into such offences and under these sections the police has the statutory right to investigate into the circumstances of any alleged cognizable offence without authority from a Magi strate and this statutory power of the police to investigate cannot be interfered with by the exercise of power under section 439 or under the inherent power of the court under section 561A of Criminal Procedure Code.\\nAs to the powers of the Judiciary in regard to statutory right of the police to investigate, the Privy Council in King Emperor vs Khwaja Nazir Ahmad (1) observed as follows: \"The functions of the judiciary and the police are complementary, not overlapping, and the combination of individual liberty with a due observance of law and order is only to be obtained by leaving each to exercise its own function, always, a course, subject to the right of the court to intervene in an appropriate case when moved under section 491 of the Criminal Procedure Code to give directions in the nature of habeas, corpus.\\nIn such a case as the present, however, the court \\'s functions begin when a charge is preferred before it, and not until then.\\nIt has sometimes been thought that a. 561A has given increased powers to the Court which it did not possess before that section was enacted.\\nBut this is not so, the section gives no now powers, it (1)(1944),L. R. 71.\\n1. A. 203, 212.\\n56 only provides that those which the court already inherently possesses shall be preserved and is inserted as their Lordships think, lest it should be considered that the only powers possessed by the court are those expressly conferred by the Criminal Procedure Code and that no inherent powers had survived the passing of that Act\".\\nWith this interpretation, which has been put on the statutory duties and.\\npowers of the police and of the powers of the Court, we are in accord.\\nThe High Court was in error therefore in interfering with the powers of the police in investigating into the offence which was alleged in the information sent to the Officer in charge of the police station.\\nWe therefore allow this appeal and set aside the order of the High Court.\\nThe investigation will now proceed in accordance with law.\\nAppeal allowed.\\n',\n",
              " 'Summaries': \"A Sub Inspcctor of Police, Enforcement Branch, filed a report before the Police Officer in charge of a Police Station alleging that the respondent along with three others committed offences under ss.420, 120B read with s.420 Indian Penal Code.\\nThereupon a First Information Report was drawn up and investigation was started.\\nThe respondent surrendered before the judicial Magistrate and he was released on bail.\\nSubsequently he filed an application in the High Court under sections 439 and 561 A of the Criminal Procedure Code to get the case pending before the judicial Magistrate arising out of the 53 case registered in the Police Station quashed.\\nThis appli cation was granted by the High Court.\\nThe appellant the State of West Bengal then filed an appeal before the Supreme Court by certificate granted by the High Court under article 134 (1) (c) of the Constitution.\\nHeld, that the statutory powers given to the Police under sections 154 and 156 of the Code of Criminal Procedure to investigate into the circumstances of an alleged cognizable offence without authority from a Magistrate cannot be interfered with by the exercise of powers under s.439 of the Code of Criminal Procedure or under the inherent powers conferred by section 561A of the Code of Criminal Procedure.\\nThe High Court was therefore in error in allowing the respondent 's application.\\nKing Emperor vs Khwaja Nazir Ahmad, (1944) L.R. 71 I.A. 203 allowed.\\n\"}"
            ]
          },
          "metadata": {},
          "execution_count": 50
        }
      ]
    },
    {
      "cell_type": "code",
      "execution_count": null,
      "metadata": {
        "colab": {
          "base_uri": "https://localhost:8080/"
        },
        "id": "pUX1btznU_6v",
        "outputId": "40ff4737-0786-49d8-c700-59fdbea33698"
      },
      "outputs": [
        {
          "output_type": "execute_result",
          "data": {
            "text/plain": [
              "DatasetDict({\n",
              "    train: Dataset({\n",
              "        features: ['Documents', 'Summaries'],\n",
              "        num_rows: 1970\n",
              "    })\n",
              "    test: Dataset({\n",
              "        features: ['Documents', 'Summaries'],\n",
              "        num_rows: 493\n",
              "    })\n",
              "})"
            ]
          },
          "metadata": {},
          "execution_count": 18
        }
      ],
      "source": [
        "split_dataset"
      ]
    },
    {
      "cell_type": "code",
      "execution_count": null,
      "metadata": {
        "colab": {
          "base_uri": "https://localhost:8080/"
        },
        "id": "mUJy7wohVOz8",
        "outputId": "c83b9208-0aed-458c-e814-9f00a965dad2"
      },
      "outputs": [
        {
          "output_type": "stream",
          "name": "stdout",
          "text": [
            "Requirement already satisfied: transformers in /usr/local/lib/python3.10/dist-packages (4.44.2)\n",
            "Requirement already satisfied: datasets in /usr/local/lib/python3.10/dist-packages (3.0.1)\n",
            "Requirement already satisfied: filelock in /usr/local/lib/python3.10/dist-packages (from transformers) (3.16.1)\n",
            "Requirement already satisfied: huggingface-hub<1.0,>=0.23.2 in /usr/local/lib/python3.10/dist-packages (from transformers) (0.25.2)\n",
            "Requirement already satisfied: numpy>=1.17 in /usr/local/lib/python3.10/dist-packages (from transformers) (2.1.2)\n",
            "Requirement already satisfied: packaging>=20.0 in /usr/local/lib/python3.10/dist-packages (from transformers) (24.1)\n",
            "Requirement already satisfied: pyyaml>=5.1 in /usr/local/lib/python3.10/dist-packages (from transformers) (6.0.2)\n",
            "Requirement already satisfied: regex!=2019.12.17 in /usr/local/lib/python3.10/dist-packages (from transformers) (2024.9.11)\n",
            "Requirement already satisfied: requests in /usr/local/lib/python3.10/dist-packages (from transformers) (2.32.3)\n",
            "Requirement already satisfied: safetensors>=0.4.1 in /usr/local/lib/python3.10/dist-packages (from transformers) (0.4.5)\n",
            "Requirement already satisfied: tokenizers<0.20,>=0.19 in /usr/local/lib/python3.10/dist-packages (from transformers) (0.19.1)\n",
            "Requirement already satisfied: tqdm>=4.27 in /usr/local/lib/python3.10/dist-packages (from transformers) (4.66.5)\n",
            "Requirement already satisfied: pyarrow>=15.0.0 in /usr/local/lib/python3.10/dist-packages (from datasets) (17.0.0)\n",
            "Requirement already satisfied: dill<0.3.9,>=0.3.0 in /usr/local/lib/python3.10/dist-packages (from datasets) (0.3.8)\n",
            "Requirement already satisfied: pandas in /usr/local/lib/python3.10/dist-packages (from datasets) (2.2.3)\n",
            "Requirement already satisfied: xxhash in /usr/local/lib/python3.10/dist-packages (from datasets) (3.5.0)\n",
            "Requirement already satisfied: multiprocess in /usr/local/lib/python3.10/dist-packages (from datasets) (0.70.16)\n",
            "Requirement already satisfied: fsspec<=2024.6.1,>=2023.1.0 in /usr/local/lib/python3.10/dist-packages (from fsspec[http]<=2024.6.1,>=2023.1.0->datasets) (2024.6.1)\n",
            "Requirement already satisfied: aiohttp in /usr/local/lib/python3.10/dist-packages (from datasets) (3.10.10)\n",
            "Requirement already satisfied: aiohappyeyeballs>=2.3.0 in /usr/local/lib/python3.10/dist-packages (from aiohttp->datasets) (2.4.3)\n",
            "Requirement already satisfied: aiosignal>=1.1.2 in /usr/local/lib/python3.10/dist-packages (from aiohttp->datasets) (1.3.1)\n",
            "Requirement already satisfied: attrs>=17.3.0 in /usr/local/lib/python3.10/dist-packages (from aiohttp->datasets) (24.2.0)\n",
            "Requirement already satisfied: frozenlist>=1.1.1 in /usr/local/lib/python3.10/dist-packages (from aiohttp->datasets) (1.4.1)\n",
            "Requirement already satisfied: multidict<7.0,>=4.5 in /usr/local/lib/python3.10/dist-packages (from aiohttp->datasets) (6.1.0)\n",
            "Requirement already satisfied: yarl<2.0,>=1.12.0 in /usr/local/lib/python3.10/dist-packages (from aiohttp->datasets) (1.15.3)\n",
            "Requirement already satisfied: async-timeout<5.0,>=4.0 in /usr/local/lib/python3.10/dist-packages (from aiohttp->datasets) (4.0.3)\n",
            "Requirement already satisfied: typing-extensions>=3.7.4.3 in /usr/local/lib/python3.10/dist-packages (from huggingface-hub<1.0,>=0.23.2->transformers) (4.12.2)\n",
            "Requirement already satisfied: charset-normalizer<4,>=2 in /usr/local/lib/python3.10/dist-packages (from requests->transformers) (3.4.0)\n",
            "Requirement already satisfied: idna<4,>=2.5 in /usr/local/lib/python3.10/dist-packages (from requests->transformers) (3.10)\n",
            "Requirement already satisfied: urllib3<3,>=1.21.1 in /usr/local/lib/python3.10/dist-packages (from requests->transformers) (2.2.3)\n",
            "Requirement already satisfied: certifi>=2017.4.17 in /usr/local/lib/python3.10/dist-packages (from requests->transformers) (2024.8.30)\n",
            "Requirement already satisfied: python-dateutil>=2.8.2 in /usr/local/lib/python3.10/dist-packages (from pandas->datasets) (2.9.0.post0)\n",
            "Requirement already satisfied: pytz>=2020.1 in /usr/local/lib/python3.10/dist-packages (from pandas->datasets) (2024.2)\n",
            "Requirement already satisfied: tzdata>=2022.7 in /usr/local/lib/python3.10/dist-packages (from pandas->datasets) (2024.2)\n",
            "Requirement already satisfied: six>=1.5 in /usr/local/lib/python3.10/dist-packages (from python-dateutil>=2.8.2->pandas->datasets) (1.16.0)\n",
            "Requirement already satisfied: propcache>=0.2.0 in /usr/local/lib/python3.10/dist-packages (from yarl<2.0,>=1.12.0->aiohttp->datasets) (0.2.0)\n"
          ]
        }
      ],
      "source": [
        "pip install transformers datasets\n"
      ]
    },
    {
      "cell_type": "code",
      "execution_count": null,
      "metadata": {
        "id": "FixNXdTIghwr"
      },
      "outputs": [],
      "source": [
        "from transformers import BertTokenizer\n",
        "\n"
      ]
    },
    {
      "cell_type": "code",
      "execution_count": null,
      "metadata": {
        "colab": {
          "base_uri": "https://localhost:8080/"
        },
        "id": "wevVtIoZgkFm",
        "outputId": "6bf2fb20-d52d-46c1-adbf-d80f2f918eb5"
      },
      "outputs": [
        {
          "output_type": "stream",
          "name": "stderr",
          "text": [
            "/usr/local/lib/python3.10/dist-packages/transformers/tokenization_utils_base.py:1601: FutureWarning: `clean_up_tokenization_spaces` was not set. It will be set to `True` by default. This behavior will be depracted in transformers v4.45, and will be then set to `False` by default. For more details check this issue: https://github.com/huggingface/transformers/issues/31884\n",
            "  warnings.warn(\n"
          ]
        }
      ],
      "source": [
        "from transformers import AutoTokenizer\n",
        "\n",
        "tokenizer = AutoTokenizer.from_pretrained('nlpaueb/legal-bert-base-uncased')\n"
      ]
    },
    {
      "cell_type": "code",
      "execution_count": null,
      "metadata": {
        "id": "dyd5L7kpg8IG",
        "colab": {
          "base_uri": "https://localhost:8080/",
          "height": 296,
          "referenced_widgets": [
            "d61a23357e8a4625992a08a8afaf622d",
            "8c60b6aa032c4d34bf8a55cbe0a8c203",
            "99ce9e892a0f4a08b225fc7a9a2d4863",
            "ca0c917c33e842f68da787915696948c",
            "e86dc4cd7176463783ea49a0380dd5fd",
            "f89e6faa64d64141aea6fa22914659b8",
            "5471e3a3adf64dc5a8721437cbff242a",
            "93370dfb4d894863bde616ba5a3ca804",
            "a4fb5e3afd4f4362b5158fe9c935cd05",
            "a21c3349feaf4f688781223fa427d006",
            "40a3d64156b94771a2591a5556b24703",
            "d6249a115e9d481185fd4a5e457b8d08",
            "15b2ae7b2f90491391a3f6fcc2f75f3c",
            "6b4ec16526194d21895908e3584d2345",
            "fcf659d97d2f400a8ae47bb332fb5ea2",
            "525c1cc70c0644559194793b6abdb3c4",
            "10490755f18740b78cd586e2eecfe5e8",
            "3e8381874d174de7855e16ddbec4aa46",
            "9a4fce9c397f45aa8b5531adff4fe426",
            "3d3e60a1f3a446098a43a89fa9e7c5cb",
            "1b461099de984ec79442b3ed89189d40",
            "7b799a7e6d964a588e88d7f2ea84f557",
            "867b0ea463ae4cd7beff52d2bfc7fccc",
            "4a9ca16772ea4bfd958105db3aaeffb3",
            "1dbdfc1a33b14f7d99c94b461542ccc7",
            "23dad37965e64208b2780b395b456ef9",
            "2f37e43377464442b0d30aa002c55a3d",
            "61965b2f75184b99959119c15bf879ef",
            "30be0e36b6364a1a91e12bb7d3b9c115",
            "5a8b3809f7454b9f87ddaa51464b9efd",
            "24b5cd7a98f64e13bc52786fe0f98f5e",
            "27caf9eaffe4431584c67e061dbf4b19",
            "b7686990093741bca50d5bacd76033d9",
            "0374559fddf8420d87479d69ad7440e9",
            "e1eac4322a9c45ff903771f79637219c",
            "69fea59adaf5460eb5343f1e6e5e327c",
            "ddbffe9158d046e8b8dc73dd7a88a769",
            "bf6e1436b1d947219eff4a924d945145",
            "9560951d935045d5bc66beec6c0f8351",
            "7c25fec152124e028255b52df5089571",
            "d96ac654202e459c8f42668236af47a4",
            "bdca2a29a4424f658223b810355bfab9",
            "2fb57845be8c49b3b2b54f5e8a190abe",
            "0a8defc612c14e298f4884632582e3da",
            "a8b678ac548747ee8b781e1497b600ee",
            "22080656efb24981b923c7703e5940c5",
            "74deba0a41c24737b265f6536e0cd91f",
            "751ce9c80d7041aabaaabd52419b464a",
            "d495cf65b19241d9aca4d33526c8b8c6",
            "9be877e5a4b74f2c9d9733a56e40e2cb",
            "ae38d75147a9474ea12bf6a3515081fe",
            "600b4ca74e554b3f8a3b768e1f1290c6",
            "98bb63fa52e84d2581bf3a4aba80249a",
            "a661e4795f19417da5bea254d8afd150",
            "502cbe88a1df45a58db99590aae8f385",
            "8ad5e3f852894053837dab68a5ab3103",
            "bed049427cd445b7a8ba866555112dcf",
            "837c515fb9c749aca4b49a5f4e9f757e",
            "06f5cd35636c4dfca4d48c6b6814e489",
            "4cd8f0018e844aa5a8146c6aa2761640",
            "a0ab5eac70af458da92e5b779461b52c",
            "6d0bdf4b33f241179fe2d6a478307e9b",
            "c406352d92a84f8195f50ecbd95dd874",
            "9be8bc6142d6494f80479ddd617dd26d",
            "def612a8a59541cea1dfc7eb9f002bfd",
            "0b8283fbc482441f9ba6b610459cbe64",
            "6860d8639bdc4d60ae48b5fd216037a3",
            "2b0badc2719d4a579913e7e1bb5fbdca",
            "1952c2d8268248bdbd5cbc66da9d300a",
            "050cf7aa67b34aa1acce640906d58c91",
            "a1f6d25bae224ced83f51f056c7043a4",
            "5202cd72ebbd44d2ad4d928e3d75510b",
            "24f2473dda504fb08bae50880d59c558",
            "06cd91baf2234eb6bbb6becdb93ca77b",
            "351e9068220f45f3868215510d5f7961",
            "407f14647eea4b7eacd16dd057a72bf1",
            "a53813365eea4a0380510c0d14cc9e7d"
          ]
        },
        "outputId": "01282af0-bd22-4f46-bb17-4a8b7fad75d0"
      },
      "outputs": [
        {
          "output_type": "stream",
          "name": "stderr",
          "text": [
            "/usr/local/lib/python3.10/dist-packages/transformers/tokenization_utils_base.py:1601: FutureWarning: `clean_up_tokenization_spaces` was not set. It will be set to `True` by default. This behavior will be depracted in transformers v4.45, and will be then set to `False` by default. For more details check this issue: https://github.com/huggingface/transformers/issues/31884\n",
            "  warnings.warn(\n"
          ]
        },
        {
          "output_type": "display_data",
          "data": {
            "text/plain": [
              "pytorch_model.bin:   0%|          | 0.00/440M [00:00<?, ?B/s]"
            ],
            "application/vnd.jupyter.widget-view+json": {
              "version_major": 2,
              "version_minor": 0,
              "model_id": "d61a23357e8a4625992a08a8afaf622d"
            }
          },
          "metadata": {}
        },
        {
          "output_type": "display_data",
          "data": {
            "text/plain": [
              "config.json:   0%|          | 0.00/1.58k [00:00<?, ?B/s]"
            ],
            "application/vnd.jupyter.widget-view+json": {
              "version_major": 2,
              "version_minor": 0,
              "model_id": "d6249a115e9d481185fd4a5e457b8d08"
            }
          },
          "metadata": {}
        },
        {
          "output_type": "display_data",
          "data": {
            "text/plain": [
              "vocab.json:   0%|          | 0.00/899k [00:00<?, ?B/s]"
            ],
            "application/vnd.jupyter.widget-view+json": {
              "version_major": 2,
              "version_minor": 0,
              "model_id": "867b0ea463ae4cd7beff52d2bfc7fccc"
            }
          },
          "metadata": {}
        },
        {
          "output_type": "display_data",
          "data": {
            "text/plain": [
              "merges.txt:   0%|          | 0.00/456k [00:00<?, ?B/s]"
            ],
            "application/vnd.jupyter.widget-view+json": {
              "version_major": 2,
              "version_minor": 0,
              "model_id": "0374559fddf8420d87479d69ad7440e9"
            }
          },
          "metadata": {}
        },
        {
          "output_type": "display_data",
          "data": {
            "text/plain": [
              "tokenizer.json:   0%|          | 0.00/1.36M [00:00<?, ?B/s]"
            ],
            "application/vnd.jupyter.widget-view+json": {
              "version_major": 2,
              "version_minor": 0,
              "model_id": "a8b678ac548747ee8b781e1497b600ee"
            }
          },
          "metadata": {}
        },
        {
          "output_type": "display_data",
          "data": {
            "text/plain": [
              "model.safetensors:   0%|          | 0.00/1.63G [00:00<?, ?B/s]"
            ],
            "application/vnd.jupyter.widget-view+json": {
              "version_major": 2,
              "version_minor": 0,
              "model_id": "8ad5e3f852894053837dab68a5ab3103"
            }
          },
          "metadata": {}
        },
        {
          "output_type": "display_data",
          "data": {
            "text/plain": [
              "generation_config.json:   0%|          | 0.00/363 [00:00<?, ?B/s]"
            ],
            "application/vnd.jupyter.widget-view+json": {
              "version_major": 2,
              "version_minor": 0,
              "model_id": "6860d8639bdc4d60ae48b5fd216037a3"
            }
          },
          "metadata": {}
        }
      ],
      "source": [
        "from transformers import AutoTokenizer, BertModel, BartForConditionalGeneration\n",
        "\n",
        "bert_tokenizer = AutoTokenizer.from_pretrained('nlpaueb/legal-bert-base-uncased')\n",
        "bert_model = BertModel.from_pretrained('nlpaueb/legal-bert-base-uncased')\n",
        "\n",
        "bart_tokenizer = AutoTokenizer.from_pretrained('facebook/bart-large-cnn')\n",
        "bart_model = BartForConditionalGeneration.from_pretrained('facebook/bart-large-cnn')\n"
      ]
    },
    {
      "cell_type": "code",
      "execution_count": null,
      "metadata": {
        "id": "zUa-4XLC38fd"
      },
      "outputs": [],
      "source": [
        "import torch\n",
        "from torch.utils.data import Dataset\n",
        "\n",
        "class SummaryDataset(Dataset):\n",
        "    def __init__(self, encodings):\n",
        "        self.encodings = encodings\n",
        "\n",
        "    def __getitem__(self, idx):\n",
        "        return {\n",
        "            'input_ids': torch.tensor(self.encodings['input_ids'][idx]), #list to tensor\n",
        "            'attention_mask': torch.tensor(self.encodings['attention_mask'][idx]),\n",
        "            'labels': torch.tensor(self.encodings['labels'][idx])\n",
        "        }\n",
        "\n",
        "    def __len__(self):\n",
        "        return len(self.encodings['input_ids'])\n"
      ]
    },
    {
      "cell_type": "code",
      "execution_count": null,
      "metadata": {
        "id": "0vxfRWjO8Wxf"
      },
      "outputs": [],
      "source": [
        "from transformers import BartTokenizer\n",
        "\n",
        "tokenizer = BartTokenizer.from_pretrained(\"facebook/bart-large\")\n",
        "\n",
        "def tokenize_function(examples):\n",
        "    examples['Summaries'] = [str(summary) for summary in examples['Summaries']]\n",
        "\n",
        "    inputs = tokenizer(\n",
        "        examples[\"Documents\"],\n",
        "        padding=\"max_length\",\n",
        "        truncation=True,\n",
        "        max_length=512,\n",
        "        return_tensors=\"pt\"\n",
        "    )\n",
        "\n",
        "    targets = tokenizer(\n",
        "        examples[\"Summaries\"],\n",
        "        padding=\"max_length\",\n",
        "        truncation=True,\n",
        "        max_length=128,\n",
        "        return_tensors=\"pt\"\n",
        "    )\n",
        "\n",
        "\n",
        "    return {\n",
        "        'input_ids': inputs['input_ids'],\n",
        "        'attention_mask': inputs['attention_mask'],\n",
        "        'labels': targets['input_ids']\n",
        "    }\n",
        "\n",
        "tokenized_train_dataset = split_dataset[\"train\"].map(tokenize_function, batched=True)\n",
        "tokenized_test_dataset = split_dataset[\"test\"].map(tokenize_function, batched=True)\n",
        "\n"
      ]
    },
    {
      "cell_type": "code",
      "execution_count": null,
      "metadata": {
        "id": "3ufh6re38_ZN"
      },
      "outputs": [],
      "source": [
        "train_dataset = SummaryDataset(tokenized_train_dataset)\n",
        "test_dataset = SummaryDataset(tokenized_test_dataset)\n",
        "\n",
        "\n",
        "from torch.utils.data import DataLoader\n",
        "\n",
        "train_dataloader = DataLoader(train_dataset, batch_size=8, shuffle=True)\n",
        "test_dataloader = DataLoader(test_dataset, batch_size=8, shuffle=False)\n"
      ]
    },
    {
      "cell_type": "code",
      "source": [
        "'''# Get the first batch from the train_dataloader\n",
        "for batch in train_dataloader:\n",
        "    first_batch = batch\n",
        "    break\n",
        "\n",
        "# Now you can access the data in the first_batch dictionary\n",
        "print(first_batch['input_ids'])  # Example: Accessing input_ids\n",
        "print(first_batch['attention_mask'])  # Example: Accessing attention_mask\n",
        "print(first_batch['labels'])  # Example: Accessing labels'''"
      ],
      "metadata": {
        "colab": {
          "base_uri": "https://localhost:8080/",
          "height": 70
        },
        "id": "cmEA1iwDy3rL",
        "outputId": "c6d97c2c-c602-4ec7-bef6-eec1389c8eac"
      },
      "execution_count": null,
      "outputs": [
        {
          "output_type": "execute_result",
          "data": {
            "text/plain": [
              "\"# Get the first batch from the train_dataloader\\nfor batch in train_dataloader:\\n    first_batch = batch\\n    break\\n\\n# Now you can access the data in the first_batch dictionary\\nprint(first_batch['input_ids'])  # Example: Accessing input_ids\\nprint(first_batch['attention_mask'])  # Example: Accessing attention_mask\\nprint(first_batch['labels'])  # Example: Accessing labels\""
            ],
            "application/vnd.google.colaboratory.intrinsic+json": {
              "type": "string"
            }
          },
          "metadata": {},
          "execution_count": 42
        }
      ]
    },
    {
      "cell_type": "code",
      "source": [
        "from transformers import BartForConditionalGeneration, AdamW\n",
        "\n",
        "device = torch.device(\"cuda\" if torch.cuda.is_available() else \"cpu\")\n",
        "\n",
        "model = BartForConditionalGeneration.from_pretrained(\"facebook/bart-large\").to(device)\n",
        "optimizer = AdamW(model.parameters(), lr=5e-5)"
      ],
      "metadata": {
        "colab": {
          "base_uri": "https://localhost:8080/"
        },
        "id": "sHjpbRLckkVd",
        "outputId": "025c3f70-4818-4ad0-c783-efe57d37eca9"
      },
      "execution_count": null,
      "outputs": [
        {
          "output_type": "stream",
          "name": "stderr",
          "text": [
            "/usr/local/lib/python3.10/dist-packages/transformers/optimization.py:591: FutureWarning: This implementation of AdamW is deprecated and will be removed in a future version. Use the PyTorch implementation torch.optim.AdamW instead, or set `no_deprecation_warning=True` to disable this warning\n",
            "  warnings.warn(\n"
          ]
        }
      ]
    },
    {
      "cell_type": "code",
      "execution_count": null,
      "metadata": {
        "colab": {
          "base_uri": "https://localhost:8080/"
        },
        "id": "Gq2EFKUM8avl",
        "outputId": "85cb1cf2-b305-44ee-ab62-a2a30d7435f5"
      },
      "outputs": [
        {
          "metadata": {
            "tags": null
          },
          "name": "stderr",
          "output_type": "stream",
          "text": [
            "/usr/local/lib/python3.10/dist-packages/transformers/optimization.py:591: FutureWarning: This implementation of AdamW is deprecated and will be removed in a future version. Use the PyTorch implementation torch.optim.AdamW instead, or set `no_deprecation_warning=True` to disable this warning\n",
            "  warnings.warn(\n"
          ]
        },
        {
          "output_type": "stream",
          "name": "stdout",
          "text": [
            "Epoch 1, Average Loss: 2.640979542423356\n",
            "Training complete!\n"
          ]
        }
      ],
      "source": [
        "\n",
        "num_epochs = 1\n",
        "\n",
        "for epoch in range(num_epochs):\n",
        "    model.train()\n",
        "    total_loss = 0\n",
        "\n",
        "    for batch in train_dataloader:\n",
        "\n",
        "        input_ids = batch['input_ids'].to(device)\n",
        "        attention_mask = batch['attention_mask'].to(device)\n",
        "        labels = batch['labels'].to(device)\n",
        "\n",
        "\n",
        "        outputs = model(input_ids=input_ids, attention_mask=attention_mask, labels=labels)\n",
        "\n",
        "        loss = outputs.loss\n",
        "        loss.backward()\n",
        "        optimizer.step()\n",
        "        optimizer.zero_grad()\n",
        "        total_loss += loss.item()\n",
        "\n",
        "    avg_loss = total_loss / len(train_dataloader)\n",
        "    print(f\"Epoch {epoch + 1}, Average Loss: {avg_loss}\")\n",
        "\n",
        "print(\"Training complete!\")\n"
      ]
    },
    {
      "cell_type": "code",
      "source": [
        "def generate_summary(text):\n",
        "    inputs = tokenizer(text, max_length=1024, truncation=True, return_tensors=\"pt\").to(device)\n",
        "    summary_ids = model.generate(inputs['input_ids'], max_length=4000, num_beams=4, early_stopping=True)\n",
        "    summary = tokenizer.decode(summary_ids[0], skip_special_tokens=True)\n",
        "    return summary\n",
        "\n",
        "text = tokenized_train_dataset[0]['Documents']\n",
        "print(generate_summary(text))\n"
      ],
      "metadata": {
        "colab": {
          "base_uri": "https://localhost:8080/"
        },
        "id": "Xogk7MKie4n_",
        "outputId": "7371d551-ee34-4ee7-812e-d2f310d61da1"
      },
      "execution_count": null,
      "outputs": [
        {
          "output_type": "stream",
          "name": "stdout",
          "text": [
            "The appellant was the sole proprietor of a business known as \"section N. Dutt & Co. \" and issued two notices under section 80 of the Code of Civil Procedure for the supply of mangoes at Jiaganj Railway Station, every day from May 24, 1944, for ten days at the rate of 1,000 baskets per day.\n",
            "On May 30, 1944 the military authorities informed the contractor that the contract had been cancelled on account of the unsatisfactory nature of the supplies.\n",
            "Subsequently the appellant filed a claim for damages for over Rs. 84,000 on the ground that he had sustained a heavy loss due to the misconduct, gross negligence and carelessness on the part of the Bengal and Assam Railway administration.\n",
            "The suit was resisted by the Governor General in Council, but the Union of India (respondent) contended that the two notices were not valid and sufficient, and that the appellant was not entitled to maintain the suit as the notices under\n"
          ]
        }
      ]
    },
    {
      "cell_type": "code",
      "source": [
        "model.save_pretrained('/content/drive/MyDrive')\n",
        "tokenizer.save_pretrained('/content/drive/MyDrive')"
      ],
      "metadata": {
        "colab": {
          "base_uri": "https://localhost:8080/"
        },
        "id": "4Oxn-ctBxQcy",
        "outputId": "c65ca20f-e318-4430-d6e7-59d2346aa98d"
      },
      "execution_count": null,
      "outputs": [
        {
          "output_type": "stream",
          "name": "stderr",
          "text": [
            "Some non-default generation parameters are set in the model config. These should go into a GenerationConfig file (https://huggingface.co/docs/transformers/generation_strategies#save-a-custom-decoding-strategy-with-your-model) instead. This warning will be raised to an exception in v4.41.\n",
            "Non-default generation parameters: {'early_stopping': True, 'num_beams': 4, 'no_repeat_ngram_size': 3, 'forced_bos_token_id': 0, 'forced_eos_token_id': 2}\n"
          ]
        },
        {
          "output_type": "execute_result",
          "data": {
            "text/plain": [
              "('/content/drive/MyDrive/tokenizer_config.json',\n",
              " '/content/drive/MyDrive/special_tokens_map.json',\n",
              " '/content/drive/MyDrive/vocab.json',\n",
              " '/content/drive/MyDrive/merges.txt',\n",
              " '/content/drive/MyDrive/added_tokens.json')"
            ]
          },
          "metadata": {},
          "execution_count": 28
        }
      ]
    },
    {
      "cell_type": "code",
      "source": [
        "from transformers import BartForConditionalGeneration, BartTokenizer\n",
        "import torch\n",
        "\n",
        "save_directory = '/content/drive/MyDrive'\n",
        "\n",
        "\n",
        "tokenizer = BartTokenizer.from_pretrained(save_directory)\n",
        "\n",
        "\n",
        "model = BartForConditionalGeneration.from_pretrained(save_directory)\n",
        "\n",
        "device = torch.device(\"cuda\" if torch.cuda.is_available() else \"cpu\")\n",
        "model.to(device)\n"
      ],
      "metadata": {
        "id": "8Em5WrYjzJg3",
        "colab": {
          "base_uri": "https://localhost:8080/"
        },
        "outputId": "2906a9dd-3f46-46b9-d496-3dca9917a70b"
      },
      "execution_count": null,
      "outputs": [
        {
          "output_type": "execute_result",
          "data": {
            "text/plain": [
              "BartForConditionalGeneration(\n",
              "  (model): BartModel(\n",
              "    (shared): BartScaledWordEmbedding(50265, 1024, padding_idx=1)\n",
              "    (encoder): BartEncoder(\n",
              "      (embed_tokens): BartScaledWordEmbedding(50265, 1024, padding_idx=1)\n",
              "      (embed_positions): BartLearnedPositionalEmbedding(1026, 1024)\n",
              "      (layers): ModuleList(\n",
              "        (0-11): 12 x BartEncoderLayer(\n",
              "          (self_attn): BartSdpaAttention(\n",
              "            (k_proj): Linear(in_features=1024, out_features=1024, bias=True)\n",
              "            (v_proj): Linear(in_features=1024, out_features=1024, bias=True)\n",
              "            (q_proj): Linear(in_features=1024, out_features=1024, bias=True)\n",
              "            (out_proj): Linear(in_features=1024, out_features=1024, bias=True)\n",
              "          )\n",
              "          (self_attn_layer_norm): LayerNorm((1024,), eps=1e-05, elementwise_affine=True)\n",
              "          (activation_fn): GELUActivation()\n",
              "          (fc1): Linear(in_features=1024, out_features=4096, bias=True)\n",
              "          (fc2): Linear(in_features=4096, out_features=1024, bias=True)\n",
              "          (final_layer_norm): LayerNorm((1024,), eps=1e-05, elementwise_affine=True)\n",
              "        )\n",
              "      )\n",
              "      (layernorm_embedding): LayerNorm((1024,), eps=1e-05, elementwise_affine=True)\n",
              "    )\n",
              "    (decoder): BartDecoder(\n",
              "      (embed_tokens): BartScaledWordEmbedding(50265, 1024, padding_idx=1)\n",
              "      (embed_positions): BartLearnedPositionalEmbedding(1026, 1024)\n",
              "      (layers): ModuleList(\n",
              "        (0-11): 12 x BartDecoderLayer(\n",
              "          (self_attn): BartSdpaAttention(\n",
              "            (k_proj): Linear(in_features=1024, out_features=1024, bias=True)\n",
              "            (v_proj): Linear(in_features=1024, out_features=1024, bias=True)\n",
              "            (q_proj): Linear(in_features=1024, out_features=1024, bias=True)\n",
              "            (out_proj): Linear(in_features=1024, out_features=1024, bias=True)\n",
              "          )\n",
              "          (activation_fn): GELUActivation()\n",
              "          (self_attn_layer_norm): LayerNorm((1024,), eps=1e-05, elementwise_affine=True)\n",
              "          (encoder_attn): BartSdpaAttention(\n",
              "            (k_proj): Linear(in_features=1024, out_features=1024, bias=True)\n",
              "            (v_proj): Linear(in_features=1024, out_features=1024, bias=True)\n",
              "            (q_proj): Linear(in_features=1024, out_features=1024, bias=True)\n",
              "            (out_proj): Linear(in_features=1024, out_features=1024, bias=True)\n",
              "          )\n",
              "          (encoder_attn_layer_norm): LayerNorm((1024,), eps=1e-05, elementwise_affine=True)\n",
              "          (fc1): Linear(in_features=1024, out_features=4096, bias=True)\n",
              "          (fc2): Linear(in_features=4096, out_features=1024, bias=True)\n",
              "          (final_layer_norm): LayerNorm((1024,), eps=1e-05, elementwise_affine=True)\n",
              "        )\n",
              "      )\n",
              "      (layernorm_embedding): LayerNorm((1024,), eps=1e-05, elementwise_affine=True)\n",
              "    )\n",
              "  )\n",
              "  (lm_head): Linear(in_features=1024, out_features=50265, bias=False)\n",
              ")"
            ]
          },
          "metadata": {},
          "execution_count": 26
        }
      ]
    },
    {
      "cell_type": "code",
      "source": [
        "model.eval()\n",
        "\n",
        "generated_summaries = []\n",
        "actual_summaries = []\n",
        "\n",
        "for batch in test_dataloader:\n",
        "\n",
        "    input_ids = batch['input_ids'].to(device)\n",
        "    attention_mask = batch['attention_mask'].to(device)\n",
        "\n",
        "    with torch.no_grad():\n",
        "        summary_ids = model.generate(input_ids=input_ids, attention_mask=attention_mask, max_length=150, num_beams=4, early_stopping=True)\n",
        "\n",
        "    generated = tokenizer.batch_decode(summary_ids, skip_special_tokens=True)\n",
        "    generated_summaries.extend(generated)\n",
        "\n",
        "    actual = tokenizer.batch_decode(batch['labels'], skip_special_tokens=True)\n",
        "    actual_summaries.extend(actual)"
      ],
      "metadata": {
        "id": "mPi7v48zhggs"
      },
      "execution_count": null,
      "outputs": []
    },
    {
      "cell_type": "code",
      "source": [
        "!pip install evaluate\n",
        "import evaluate\n",
        "\n",
        "rouge = evaluate.load('rouge')"
      ],
      "metadata": {
        "colab": {
          "base_uri": "https://localhost:8080/"
        },
        "id": "AXa_DTCSnuTX",
        "outputId": "b0f7b5bd-e66d-47ec-d202-78ab34b5a0c3"
      },
      "execution_count": null,
      "outputs": [
        {
          "output_type": "stream",
          "name": "stdout",
          "text": [
            "Requirement already satisfied: evaluate in /usr/local/lib/python3.10/dist-packages (0.4.3)\n",
            "Requirement already satisfied: datasets>=2.0.0 in /usr/local/lib/python3.10/dist-packages (from evaluate) (3.0.1)\n",
            "Requirement already satisfied: numpy>=1.17 in /usr/local/lib/python3.10/dist-packages (from evaluate) (2.1.2)\n",
            "Requirement already satisfied: dill in /usr/local/lib/python3.10/dist-packages (from evaluate) (0.3.8)\n",
            "Requirement already satisfied: pandas in /usr/local/lib/python3.10/dist-packages (from evaluate) (2.2.3)\n",
            "Requirement already satisfied: requests>=2.19.0 in /usr/local/lib/python3.10/dist-packages (from evaluate) (2.32.3)\n",
            "Requirement already satisfied: tqdm>=4.62.1 in /usr/local/lib/python3.10/dist-packages (from evaluate) (4.66.5)\n",
            "Requirement already satisfied: xxhash in /usr/local/lib/python3.10/dist-packages (from evaluate) (3.5.0)\n",
            "Requirement already satisfied: multiprocess in /usr/local/lib/python3.10/dist-packages (from evaluate) (0.70.16)\n",
            "Requirement already satisfied: fsspec>=2021.05.0 in /usr/local/lib/python3.10/dist-packages (from fsspec[http]>=2021.05.0->evaluate) (2024.6.1)\n",
            "Requirement already satisfied: huggingface-hub>=0.7.0 in /usr/local/lib/python3.10/dist-packages (from evaluate) (0.25.2)\n",
            "Requirement already satisfied: packaging in /usr/local/lib/python3.10/dist-packages (from evaluate) (24.1)\n",
            "Requirement already satisfied: filelock in /usr/local/lib/python3.10/dist-packages (from datasets>=2.0.0->evaluate) (3.16.1)\n",
            "Requirement already satisfied: pyarrow>=15.0.0 in /usr/local/lib/python3.10/dist-packages (from datasets>=2.0.0->evaluate) (17.0.0)\n",
            "Requirement already satisfied: aiohttp in /usr/local/lib/python3.10/dist-packages (from datasets>=2.0.0->evaluate) (3.10.10)\n",
            "Requirement already satisfied: pyyaml>=5.1 in /usr/local/lib/python3.10/dist-packages (from datasets>=2.0.0->evaluate) (6.0.2)\n",
            "Requirement already satisfied: typing-extensions>=3.7.4.3 in /usr/local/lib/python3.10/dist-packages (from huggingface-hub>=0.7.0->evaluate) (4.12.2)\n",
            "Requirement already satisfied: charset-normalizer<4,>=2 in /usr/local/lib/python3.10/dist-packages (from requests>=2.19.0->evaluate) (3.4.0)\n",
            "Requirement already satisfied: idna<4,>=2.5 in /usr/local/lib/python3.10/dist-packages (from requests>=2.19.0->evaluate) (3.10)\n",
            "Requirement already satisfied: urllib3<3,>=1.21.1 in /usr/local/lib/python3.10/dist-packages (from requests>=2.19.0->evaluate) (2.2.3)\n",
            "Requirement already satisfied: certifi>=2017.4.17 in /usr/local/lib/python3.10/dist-packages (from requests>=2.19.0->evaluate) (2024.8.30)\n",
            "Requirement already satisfied: python-dateutil>=2.8.2 in /usr/local/lib/python3.10/dist-packages (from pandas->evaluate) (2.9.0.post0)\n",
            "Requirement already satisfied: pytz>=2020.1 in /usr/local/lib/python3.10/dist-packages (from pandas->evaluate) (2024.2)\n",
            "Requirement already satisfied: tzdata>=2022.7 in /usr/local/lib/python3.10/dist-packages (from pandas->evaluate) (2024.2)\n",
            "Requirement already satisfied: aiohappyeyeballs>=2.3.0 in /usr/local/lib/python3.10/dist-packages (from aiohttp->datasets>=2.0.0->evaluate) (2.4.3)\n",
            "Requirement already satisfied: aiosignal>=1.1.2 in /usr/local/lib/python3.10/dist-packages (from aiohttp->datasets>=2.0.0->evaluate) (1.3.1)\n",
            "Requirement already satisfied: attrs>=17.3.0 in /usr/local/lib/python3.10/dist-packages (from aiohttp->datasets>=2.0.0->evaluate) (24.2.0)\n",
            "Requirement already satisfied: frozenlist>=1.1.1 in /usr/local/lib/python3.10/dist-packages (from aiohttp->datasets>=2.0.0->evaluate) (1.4.1)\n",
            "Requirement already satisfied: multidict<7.0,>=4.5 in /usr/local/lib/python3.10/dist-packages (from aiohttp->datasets>=2.0.0->evaluate) (6.1.0)\n",
            "Requirement already satisfied: yarl<2.0,>=1.12.0 in /usr/local/lib/python3.10/dist-packages (from aiohttp->datasets>=2.0.0->evaluate) (1.15.3)\n",
            "Requirement already satisfied: async-timeout<5.0,>=4.0 in /usr/local/lib/python3.10/dist-packages (from aiohttp->datasets>=2.0.0->evaluate) (4.0.3)\n",
            "Requirement already satisfied: six>=1.5 in /usr/local/lib/python3.10/dist-packages (from python-dateutil>=2.8.2->pandas->evaluate) (1.16.0)\n",
            "Requirement already satisfied: propcache>=0.2.0 in /usr/local/lib/python3.10/dist-packages (from yarl<2.0,>=1.12.0->aiohttp->datasets>=2.0.0->evaluate) (0.2.0)\n"
          ]
        }
      ]
    },
    {
      "cell_type": "code",
      "source": [
        "from evaluate import load\n",
        "rouge = load('rouge')\n",
        "from rouge_score import rouge_scorer"
      ],
      "metadata": {
        "id": "dol4Nf0zrEkm"
      },
      "execution_count": null,
      "outputs": []
    },
    {
      "cell_type": "code",
      "source": [
        "!pip install nltk evaluate\n",
        "!pip install --force-reinstall numpy==1.25.2\n",
        "!pip install evaluate --upgrade\n",
        "import nltk\n",
        "!pip install rouge_score\n",
        "from nltk.translate import bleu_score\n",
        "import evaluate\n",
        "\n",
        "nltk.download('punkt')"
      ],
      "metadata": {
        "colab": {
          "base_uri": "https://localhost:8080/",
          "height": 1000
        },
        "id": "ba_QwBUzk3bB",
        "outputId": "69d56dbe-760b-4f52-99a5-c948edccc1e5"
      },
      "execution_count": null,
      "outputs": [
        {
          "output_type": "stream",
          "name": "stdout",
          "text": [
            "Requirement already satisfied: nltk in /usr/local/lib/python3.10/dist-packages (3.8.1)\n",
            "Requirement already satisfied: evaluate in /usr/local/lib/python3.10/dist-packages (0.4.3)\n",
            "Requirement already satisfied: click in /usr/local/lib/python3.10/dist-packages (from nltk) (8.1.7)\n",
            "Requirement already satisfied: joblib in /usr/local/lib/python3.10/dist-packages (from nltk) (1.4.2)\n",
            "Requirement already satisfied: regex>=2021.8.3 in /usr/local/lib/python3.10/dist-packages (from nltk) (2024.9.11)\n",
            "Requirement already satisfied: tqdm in /usr/local/lib/python3.10/dist-packages (from nltk) (4.66.5)\n",
            "Requirement already satisfied: datasets>=2.0.0 in /usr/local/lib/python3.10/dist-packages (from evaluate) (3.0.1)\n",
            "Requirement already satisfied: numpy>=1.17 in /usr/local/lib/python3.10/dist-packages (from evaluate) (2.1.2)\n",
            "Requirement already satisfied: dill in /usr/local/lib/python3.10/dist-packages (from evaluate) (0.3.8)\n",
            "Requirement already satisfied: pandas in /usr/local/lib/python3.10/dist-packages (from evaluate) (2.2.3)\n",
            "Requirement already satisfied: requests>=2.19.0 in /usr/local/lib/python3.10/dist-packages (from evaluate) (2.32.3)\n",
            "Requirement already satisfied: xxhash in /usr/local/lib/python3.10/dist-packages (from evaluate) (3.5.0)\n",
            "Requirement already satisfied: multiprocess in /usr/local/lib/python3.10/dist-packages (from evaluate) (0.70.16)\n",
            "Requirement already satisfied: fsspec>=2021.05.0 in /usr/local/lib/python3.10/dist-packages (from fsspec[http]>=2021.05.0->evaluate) (2024.6.1)\n",
            "Requirement already satisfied: huggingface-hub>=0.7.0 in /usr/local/lib/python3.10/dist-packages (from evaluate) (0.25.2)\n",
            "Requirement already satisfied: packaging in /usr/local/lib/python3.10/dist-packages (from evaluate) (24.1)\n",
            "Requirement already satisfied: filelock in /usr/local/lib/python3.10/dist-packages (from datasets>=2.0.0->evaluate) (3.16.1)\n",
            "Requirement already satisfied: pyarrow>=15.0.0 in /usr/local/lib/python3.10/dist-packages (from datasets>=2.0.0->evaluate) (17.0.0)\n",
            "Requirement already satisfied: aiohttp in /usr/local/lib/python3.10/dist-packages (from datasets>=2.0.0->evaluate) (3.10.10)\n",
            "Requirement already satisfied: pyyaml>=5.1 in /usr/local/lib/python3.10/dist-packages (from datasets>=2.0.0->evaluate) (6.0.2)\n",
            "Requirement already satisfied: typing-extensions>=3.7.4.3 in /usr/local/lib/python3.10/dist-packages (from huggingface-hub>=0.7.0->evaluate) (4.12.2)\n",
            "Requirement already satisfied: charset-normalizer<4,>=2 in /usr/local/lib/python3.10/dist-packages (from requests>=2.19.0->evaluate) (3.4.0)\n",
            "Requirement already satisfied: idna<4,>=2.5 in /usr/local/lib/python3.10/dist-packages (from requests>=2.19.0->evaluate) (3.10)\n",
            "Requirement already satisfied: urllib3<3,>=1.21.1 in /usr/local/lib/python3.10/dist-packages (from requests>=2.19.0->evaluate) (2.2.3)\n",
            "Requirement already satisfied: certifi>=2017.4.17 in /usr/local/lib/python3.10/dist-packages (from requests>=2.19.0->evaluate) (2024.8.30)\n",
            "Requirement already satisfied: python-dateutil>=2.8.2 in /usr/local/lib/python3.10/dist-packages (from pandas->evaluate) (2.9.0.post0)\n",
            "Requirement already satisfied: pytz>=2020.1 in /usr/local/lib/python3.10/dist-packages (from pandas->evaluate) (2024.2)\n",
            "Requirement already satisfied: tzdata>=2022.7 in /usr/local/lib/python3.10/dist-packages (from pandas->evaluate) (2024.2)\n",
            "Requirement already satisfied: aiohappyeyeballs>=2.3.0 in /usr/local/lib/python3.10/dist-packages (from aiohttp->datasets>=2.0.0->evaluate) (2.4.3)\n",
            "Requirement already satisfied: aiosignal>=1.1.2 in /usr/local/lib/python3.10/dist-packages (from aiohttp->datasets>=2.0.0->evaluate) (1.3.1)\n",
            "Requirement already satisfied: attrs>=17.3.0 in /usr/local/lib/python3.10/dist-packages (from aiohttp->datasets>=2.0.0->evaluate) (24.2.0)\n",
            "Requirement already satisfied: frozenlist>=1.1.1 in /usr/local/lib/python3.10/dist-packages (from aiohttp->datasets>=2.0.0->evaluate) (1.4.1)\n",
            "Requirement already satisfied: multidict<7.0,>=4.5 in /usr/local/lib/python3.10/dist-packages (from aiohttp->datasets>=2.0.0->evaluate) (6.1.0)\n",
            "Requirement already satisfied: yarl<2.0,>=1.12.0 in /usr/local/lib/python3.10/dist-packages (from aiohttp->datasets>=2.0.0->evaluate) (1.15.3)\n",
            "Requirement already satisfied: async-timeout<5.0,>=4.0 in /usr/local/lib/python3.10/dist-packages (from aiohttp->datasets>=2.0.0->evaluate) (4.0.3)\n",
            "Requirement already satisfied: six>=1.5 in /usr/local/lib/python3.10/dist-packages (from python-dateutil>=2.8.2->pandas->evaluate) (1.16.0)\n",
            "Requirement already satisfied: propcache>=0.2.0 in /usr/local/lib/python3.10/dist-packages (from yarl<2.0,>=1.12.0->aiohttp->datasets>=2.0.0->evaluate) (0.2.0)\n",
            "Collecting numpy==1.25.2\n",
            "  Using cached numpy-1.25.2-cp310-cp310-manylinux_2_17_x86_64.manylinux2014_x86_64.whl.metadata (5.6 kB)\n",
            "Using cached numpy-1.25.2-cp310-cp310-manylinux_2_17_x86_64.manylinux2014_x86_64.whl (18.2 MB)\n",
            "Installing collected packages: numpy\n",
            "  Attempting uninstall: numpy\n",
            "    Found existing installation: numpy 2.1.2\n",
            "    Uninstalling numpy-2.1.2:\n",
            "      Successfully uninstalled numpy-2.1.2\n",
            "\u001b[31mERROR: pip's dependency resolver does not currently take into account all the packages that are installed. This behaviour is the source of the following dependency conflicts.\n",
            "cudf-cu12 24.6.1 requires pandas<2.2.3dev0,>=2.0, but you have pandas 2.2.3 which is incompatible.\n",
            "cudf-cu12 24.6.1 requires pyarrow<16.2.0a0,>=16.1.0, but you have pyarrow 17.0.0 which is incompatible.\u001b[0m\u001b[31m\n",
            "\u001b[0mSuccessfully installed numpy-1.25.2\n"
          ]
        },
        {
          "output_type": "display_data",
          "data": {
            "application/vnd.colab-display-data+json": {
              "pip_warning": {
                "packages": [
                  "numpy"
                ]
              },
              "id": "9af1194ba12242d596f545627720c4d2"
            }
          },
          "metadata": {}
        },
        {
          "output_type": "stream",
          "name": "stdout",
          "text": [
            "Requirement already satisfied: evaluate in /usr/local/lib/python3.10/dist-packages (0.4.3)\n",
            "Requirement already satisfied: datasets>=2.0.0 in /usr/local/lib/python3.10/dist-packages (from evaluate) (3.0.1)\n",
            "Requirement already satisfied: numpy>=1.17 in /usr/local/lib/python3.10/dist-packages (from evaluate) (1.25.2)\n",
            "Requirement already satisfied: dill in /usr/local/lib/python3.10/dist-packages (from evaluate) (0.3.8)\n",
            "Requirement already satisfied: pandas in /usr/local/lib/python3.10/dist-packages (from evaluate) (2.2.3)\n",
            "Requirement already satisfied: requests>=2.19.0 in /usr/local/lib/python3.10/dist-packages (from evaluate) (2.32.3)\n",
            "Requirement already satisfied: tqdm>=4.62.1 in /usr/local/lib/python3.10/dist-packages (from evaluate) (4.66.5)\n",
            "Requirement already satisfied: xxhash in /usr/local/lib/python3.10/dist-packages (from evaluate) (3.5.0)\n",
            "Requirement already satisfied: multiprocess in /usr/local/lib/python3.10/dist-packages (from evaluate) (0.70.16)\n",
            "Requirement already satisfied: fsspec>=2021.05.0 in /usr/local/lib/python3.10/dist-packages (from fsspec[http]>=2021.05.0->evaluate) (2024.6.1)\n",
            "Requirement already satisfied: huggingface-hub>=0.7.0 in /usr/local/lib/python3.10/dist-packages (from evaluate) (0.25.2)\n",
            "Requirement already satisfied: packaging in /usr/local/lib/python3.10/dist-packages (from evaluate) (24.1)\n",
            "Requirement already satisfied: filelock in /usr/local/lib/python3.10/dist-packages (from datasets>=2.0.0->evaluate) (3.16.1)\n",
            "Requirement already satisfied: pyarrow>=15.0.0 in /usr/local/lib/python3.10/dist-packages (from datasets>=2.0.0->evaluate) (17.0.0)\n",
            "Requirement already satisfied: aiohttp in /usr/local/lib/python3.10/dist-packages (from datasets>=2.0.0->evaluate) (3.10.10)\n",
            "Requirement already satisfied: pyyaml>=5.1 in /usr/local/lib/python3.10/dist-packages (from datasets>=2.0.0->evaluate) (6.0.2)\n",
            "Requirement already satisfied: typing-extensions>=3.7.4.3 in /usr/local/lib/python3.10/dist-packages (from huggingface-hub>=0.7.0->evaluate) (4.12.2)\n",
            "Requirement already satisfied: charset-normalizer<4,>=2 in /usr/local/lib/python3.10/dist-packages (from requests>=2.19.0->evaluate) (3.4.0)\n",
            "Requirement already satisfied: idna<4,>=2.5 in /usr/local/lib/python3.10/dist-packages (from requests>=2.19.0->evaluate) (3.10)\n",
            "Requirement already satisfied: urllib3<3,>=1.21.1 in /usr/local/lib/python3.10/dist-packages (from requests>=2.19.0->evaluate) (2.2.3)\n",
            "Requirement already satisfied: certifi>=2017.4.17 in /usr/local/lib/python3.10/dist-packages (from requests>=2.19.0->evaluate) (2024.8.30)\n",
            "Requirement already satisfied: python-dateutil>=2.8.2 in /usr/local/lib/python3.10/dist-packages (from pandas->evaluate) (2.9.0.post0)\n",
            "Requirement already satisfied: pytz>=2020.1 in /usr/local/lib/python3.10/dist-packages (from pandas->evaluate) (2024.2)\n",
            "Requirement already satisfied: tzdata>=2022.7 in /usr/local/lib/python3.10/dist-packages (from pandas->evaluate) (2024.2)\n",
            "Requirement already satisfied: aiohappyeyeballs>=2.3.0 in /usr/local/lib/python3.10/dist-packages (from aiohttp->datasets>=2.0.0->evaluate) (2.4.3)\n",
            "Requirement already satisfied: aiosignal>=1.1.2 in /usr/local/lib/python3.10/dist-packages (from aiohttp->datasets>=2.0.0->evaluate) (1.3.1)\n",
            "Requirement already satisfied: attrs>=17.3.0 in /usr/local/lib/python3.10/dist-packages (from aiohttp->datasets>=2.0.0->evaluate) (24.2.0)\n",
            "Requirement already satisfied: frozenlist>=1.1.1 in /usr/local/lib/python3.10/dist-packages (from aiohttp->datasets>=2.0.0->evaluate) (1.4.1)\n",
            "Requirement already satisfied: multidict<7.0,>=4.5 in /usr/local/lib/python3.10/dist-packages (from aiohttp->datasets>=2.0.0->evaluate) (6.1.0)\n",
            "Requirement already satisfied: yarl<2.0,>=1.12.0 in /usr/local/lib/python3.10/dist-packages (from aiohttp->datasets>=2.0.0->evaluate) (1.15.3)\n",
            "Requirement already satisfied: async-timeout<5.0,>=4.0 in /usr/local/lib/python3.10/dist-packages (from aiohttp->datasets>=2.0.0->evaluate) (4.0.3)\n",
            "Requirement already satisfied: six>=1.5 in /usr/local/lib/python3.10/dist-packages (from python-dateutil>=2.8.2->pandas->evaluate) (1.16.0)\n",
            "Requirement already satisfied: propcache>=0.2.0 in /usr/local/lib/python3.10/dist-packages (from yarl<2.0,>=1.12.0->aiohttp->datasets>=2.0.0->evaluate) (0.2.0)\n",
            "Requirement already satisfied: rouge_score in /usr/local/lib/python3.10/dist-packages (0.1.2)\n",
            "Requirement already satisfied: absl-py in /usr/local/lib/python3.10/dist-packages (from rouge_score) (1.4.0)\n",
            "Requirement already satisfied: nltk in /usr/local/lib/python3.10/dist-packages (from rouge_score) (3.8.1)\n",
            "Requirement already satisfied: numpy in /usr/local/lib/python3.10/dist-packages (from rouge_score) (1.25.2)\n",
            "Requirement already satisfied: six>=1.14.0 in /usr/local/lib/python3.10/dist-packages (from rouge_score) (1.16.0)\n",
            "Requirement already satisfied: click in /usr/local/lib/python3.10/dist-packages (from nltk->rouge_score) (8.1.7)\n",
            "Requirement already satisfied: joblib in /usr/local/lib/python3.10/dist-packages (from nltk->rouge_score) (1.4.2)\n",
            "Requirement already satisfied: regex>=2021.8.3 in /usr/local/lib/python3.10/dist-packages (from nltk->rouge_score) (2024.9.11)\n",
            "Requirement already satisfied: tqdm in /usr/local/lib/python3.10/dist-packages (from nltk->rouge_score) (4.66.5)\n"
          ]
        },
        {
          "output_type": "stream",
          "name": "stderr",
          "text": [
            "[nltk_data] Downloading package punkt to /root/nltk_data...\n",
            "[nltk_data]   Package punkt is already up-to-date!\n"
          ]
        },
        {
          "output_type": "execute_result",
          "data": {
            "text/plain": [
              "True"
            ]
          },
          "metadata": {},
          "execution_count": 31
        }
      ]
    },
    {
      "cell_type": "code",
      "source": [
        "\n",
        "def calculate_bleu(original, generated):\n",
        "    scores = []\n",
        "    for orig, gen in zip(actual_summaries, generated_summaries):\n",
        "\n",
        "        orig_tokens = nltk.word_tokenize(orig)\n",
        "        gen_tokens = nltk.word_tokenize(gen)\n",
        "\n",
        "\n",
        "        score = bleu_score.sentence_bleu([orig_tokens], gen_tokens)\n",
        "        scores.append(score)\n",
        "    return scores\n",
        "\n",
        "\n",
        "rouge = evaluate.load('rouge')\n",
        "\n",
        "def calculate_rouge(original, generated):\n",
        "    scores = rouge.compute(predictions=generated, references=original)\n",
        "    return scores\n",
        "\n",
        "bleu_scores = calculate_bleu(actual_summaries, generated_summaries)\n",
        "rouge_scores = calculate_rouge(actual_summaries, generated_summaries)\n",
        "\n",
        "\n",
        "print(\"BLEU Scores:\", bleu_scores)\n",
        "print(\"ROUGE Scores:\", rouge_scores)"
      ],
      "metadata": {
        "colab": {
          "base_uri": "https://localhost:8080/"
        },
        "id": "FuJ9pvgEopan",
        "outputId": "ad7f6dcf-0e69-4e1a-947d-f6d1b389cd76"
      },
      "execution_count": null,
      "outputs": [
        {
          "output_type": "stream",
          "name": "stderr",
          "text": [
            "/usr/local/lib/python3.10/dist-packages/nltk/translate/bleu_score.py:552: UserWarning: \n",
            "The hypothesis contains 0 counts of 4-gram overlaps.\n",
            "Therefore the BLEU score evaluates to 0, independently of\n",
            "how many N-gram overlaps of lower order it contains.\n",
            "Consider using lower n-gram order or use SmoothingFunction()\n",
            "  warnings.warn(_msg)\n",
            "/usr/local/lib/python3.10/dist-packages/nltk/translate/bleu_score.py:552: UserWarning: \n",
            "The hypothesis contains 0 counts of 3-gram overlaps.\n",
            "Therefore the BLEU score evaluates to 0, independently of\n",
            "how many N-gram overlaps of lower order it contains.\n",
            "Consider using lower n-gram order or use SmoothingFunction()\n",
            "  warnings.warn(_msg)\n",
            "/usr/local/lib/python3.10/dist-packages/nltk/translate/bleu_score.py:552: UserWarning: \n",
            "The hypothesis contains 0 counts of 2-gram overlaps.\n",
            "Therefore the BLEU score evaluates to 0, independently of\n",
            "how many N-gram overlaps of lower order it contains.\n",
            "Consider using lower n-gram order or use SmoothingFunction()\n",
            "  warnings.warn(_msg)\n"
          ]
        },
        {
          "output_type": "stream",
          "name": "stdout",
          "text": [
            "BLEU Scores: [0.1932885872761737, 0.15806679374127577, 0.2178327857558575, 1.6092139539174812e-78, 0.5431453932735718, 0.0940713539742651, 0.2577307440085172, 0.06515188738820063, 0.2516815734403964, 1.6799713249147274e-78, 0.3000623861750799, 0.16438253419899262, 0.27551401625837396, 0.1151135819433661, 0.08762216398666815, 0.05948639071686123, 4.434755931828925e-155, 0.06057145345713495, 0.5580660686244475, 0.30042319114651783, 2.1504271967054382e-78, 0.09681210625627841, 1.255800910665416e-78, 0.19514631432816512, 0.1510618535913012, 1.752911800224005e-78, 0.07926116415700454, 0.4903294524282231, 0.3037783320572248, 0.44235052712296585, 0.3079512600371864, 0.1516088243570965, 1.3458872190999414e-78, 0.10802011816912092, 0.053802309398893085, 0.1772582120465654, 0.06494951888375101, 0.23031046916638137, 5.723654496146223e-155, 0.15865815419993443, 0.053955663597621, 2.0363030544801795e-78, 0.18434353850016247, 0.2913280138827994, 0.11825001169349016, 0.04625900984155647, 0.40437206812271975, 0.11709921338845747, 4.533086463968084e-155, 0.1613950084180782, 1.4446150405344093e-78, 0.16837501502952912, 0.1352399289933244, 3.2208364377701786e-155, 0.17139234341381263, 0.3370759373213762, 4.831880060174842e-155, 0.30418608000767383, 0.0717514236756446, 0.09098681952312344, 0.13910376573800953, 0.1034180801972501, 0.14977080196475978, 1.5632720244275045e-78, 0.2347934704946878, 0.2773044870025194, 0.2149413666493006, 0.21772163567428915, 0.08283233422563915, 0.09782141596543549, 2.3667453417675176e-78, 0.35686616041557395, 0.17853462595575406, 0.46080005718177475, 5.772673208665528e-155, 0.19741996233532902, 1.632936498736062e-78, 0.08022963484722281, 0.1827669041522176, 5.218381790024649e-155, 0.09825505159578724, 1.0315981400120194e-231, 0.3374430542743561, 0.21284376833500962, 4.922088002769674e-155, 0.13480497688153606, 0.04788228118477925, 0.2525066072841661, 0.10217735011741548, 1.13631817938959e-78, 0.2913749711415567, 1.3600901248760453e-78, 2.9991295067735775e-78, 0.4747826577588376, 0.09342259116609009, 0.22398488468888347, 0.06203700079640945, 0.16987974648063328, 2.0979406822475038e-78, 0.060802042648735184, 0.20304044356283835, 0.3895625481573781, 0.07278230723905438, 0.3418094272586104, 0.05004968521265101, 4.2873470459658165e-155, 0.08759571113730337, 0.28834178391439885, 0.254082443685274, 0.32629449944539335, 0.04699492303755103, 0.1503798509475338, 0.12323475445153678, 0.06414661050401747, 0.18278944364942573, 0.19992895203141936, 0.1035923003188843, 0.06369810666703662, 0.3083035444496935, 0.08093465092035856, 0.08834439005876074, 0.06841608121937082, 1.3739107127321597e-78, 4.879521170109991e-155, 0.4442813095496761, 0.3942671713982985, 0.2796414951510255, 0.1598193639941141, 0.09031266143565046, 0.17467849949201703, 0.2858451575152312, 0.25757791487472065, 0, 0.16965162876371312, 0.044558416581482525, 0.24612908133059228, 6.224633069122851e-155, 0.3463954034794967, 1.698533759771355e-78, 0.24185568829640583, 0.10803939378866051, 0.09255732555437171, 0.0856874790890832, 0.15094118722782046, 0.469393086159674, 0.179898716603355, 0.12797484901820083, 0.4314545124723786, 6.6082516737175035e-155, 0.25617914835718675, 0.06818334194266762, 0.13514217538558632, 0.04927316123437251, 0.30374454720502037, 0.2070648141558418, 0.0414200494458399, 1.908404691994679e-78, 1.4269924697242776e-78, 0.21984613065028252, 0.050649013250316094, 4.151132611750382e-155, 0.27959476389470356, 0.28613786444194467, 0.10028593298099764, 0.16944196620612173, 0.598800678247296, 5.1107048151966984e-155, 3.0827844619818468e-78, 0.04395001227384646, 0.1259454628390947, 0.05353650760408128, 0.3150160408269359, 0.2002630190090658, 0.41455378425175643, 0.10351743384633724, 0.11821728482264325, 0.13675848266787588, 0.08851732081680777, 0.11917322848353729, 4.7375042889412906e-155, 0.07673411165782971, 0.16118732182393355, 0.088147110823494, 1.7347258616232127e-78, 0.2919656241444065, 0.2101983443576319, 1.4302207744633639e-78, 4.212303165997554e-155, 0.14381092027832323, 0.10662284658242678, 0.3566477868605444, 0.15803339247244078, 3.981897812932139e-155, 0.17229578039256851, 0.12151003175175461, 0.2960081148863753, 0.09185777529863207, 0.11844397731252482, 0.1537497139715524, 0.19551459949257788, 5.357895237797952e-155, 0.10101251464744151, 5.4771584153812925e-155, 0.36442489681366624, 4.265702461025784e-155, 0.19745745344778806, 0.06484712703657584, 0.38740949403190567, 1.2939430828380278e-78, 0.3769326823135244, 0.13996760604625888, 0.17259621009551626, 0.20771918121180982, 0.14040321900707187, 4.6644316252602715e-155, 0.05738744826271924, 9.807557348940825e-79, 0.06302530174928503, 0.2550303651676375, 0.04340872850222474, 1.2677332724912832e-78, 0.33579212955160037, 4.292081849136754e-155, 0.17809626199062403, 1.801764984376408e-78, 0.19158265419876033, 0.1092371999065142, 0.14706141008374948, 2.6133855065210454e-78, 0.055968675592728404, 0.08353727198189834, 0.07950894110280342, 0.11386016716127477, 0.12239844150794589, 0.08134468918220059, 0.1937046245953874, 0.20935627742414004, 2.7169901998349077e-78, 0.3410242706534153, 0.23016305393320144, 0.24223794595223827, 0.08198915278088748, 0.5551565854709237, 2.0568094786720224e-78, 0.3580609478998635, 0.29552474725646494, 5.260776998893044e-155, 0.1723756394083971, 0.3735264360080446, 0.10119977355943026, 0.06065967385312479, 4.707142878213473e-155, 1.9632123008821593e-78, 0.3177169536457236, 0.38154867502199896, 0.10387303496429823, 0.5222784181049829, 1.892518848083024e-78, 0.17394607875276794, 0.06358833451001843, 0.5406534445285707, 1.3345568719245925e-78, 0.04521856298373329, 0.2531252663502322, 0.34840713186821437, 0.19322520746775856, 0.08968067903540826, 0.10168630107390682, 0.15144151730481617, 0.2552351975310662, 0.2791841818628717, 0.07439331904857548, 0.1965171522215773, 0.16926122992561418, 0.13833758542667313, 0.1742370637108001, 0.04332730075394869, 0.2854128509193287, 0.111804358873304, 5.734939125263529e-155, 0.19106127642407883, 0.23907895984994296, 5.478310479235809e-155, 0.30885648689527007, 0.16201345477704185, 0.05015395563558039, 0.10436111865090873, 0.14650195877569483, 0.6155644059090049, 4.093656693195303e-155, 0.04700606979275042, 0.09573650382669316, 0.4038219340923106, 0.23343858578113233, 0.09315766322990698, 1.7269198111947483e-78, 0.07594724600530921, 4.807998311965606e-155, 0.27054729171726644, 5.253441210115029e-155, 0.13274033061570156, 0.08785570875601481, 0.20828244718405298, 0.07722193062582534, 0.28301617147576635, 0.15524262293607355, 2.1535568780180754e-78, 0.2620192822306019, 0.1744329782298451, 0.1711959295105451, 0.1415344584111205, 0.06237657308696711, 0.13005039725356196, 3.4539290323188128e-155, 4.212421023080109e-155, 1.5094114763651908e-78, 0.04877418650798555, 0.18994394889036317, 0.36038768111844355, 0.4704332894417627, 0.14132109200379508, 0.08360058736910576, 0.0448189298907735, 0.054583020300053825, 4.994803113241671e-155, 0.1721512395880948, 0.1862672359582918, 0.28969470987813845, 1.1455056843471962e-78, 0.08215909739223486, 0.09273334885767033, 4.7246586929036255e-155, 4.584895596309517e-155, 0.1639064593928471, 0.0953337329962604, 0.19896512824811474, 0.042092637167762154, 0.1500818541114657, 0.17931710599226466, 0.07277799904348728, 4.368048869756373e-155, 0.06359269312399486, 0.39529091498948077, 0.2156856823064808, 4.728796941442346e-155, 0.03490886168574304, 0.061825740544944725, 0.16256319619543166, 0.16299711343436138, 1.6697269724880712e-78, 0.19765496629564291, 0.13530753862084482, 0.2006327927646805, 0.3454361488295174, 0.21386384140664694, 0.2819551085900857, 0.05215095332243106, 1.2204243794056445e-78, 0.07378113701655048, 0.07686003108254455, 0.2245995266206816, 0.22675399911602903, 0.171386677360159, 0.38578831087633475, 5.139505843077844e-155, 0.48542432355736215, 1.866151143365825e-78, 0.1235467047322923, 0.304753099030368, 5.876935367307856e-155, 0.1386634402197918, 1.6605102316678907e-78, 2.3995801109667714e-78, 0.09524462260195535, 2.1630558358515285e-78, 0.09246561079757709, 0.18799650504736948, 1.3691765585696824e-78, 0.12345025750852548, 0.13692636062808303, 0.3721409883565713, 0.11104479005246592, 0.23158856221315452, 0.2544574741430079, 0.1814041030366095, 0.21094369286512818, 0.39403424830245737, 0.10231622504655295, 0.24078030976898618, 0.10676737218672136, 6.088652923783793e-155, 0.07234539969917397, 0.17267412648186456, 0.19845263867714022, 0.0887612794833903, 0.35969659414966776, 0.049739881934800376, 0.2372350162128614, 0.32772843566646276, 0.09028010282074002, 5.088788558612117e-155, 0.08723869062122971, 0.3930171986554486, 0.14455683162952612, 0.10664238352261128, 0.11098462883034825, 5.752115154501478e-155, 0.07641719273709253, 0.2699032826052456, 0.11888422643873697, 1.7550065774933343e-78, 0.20061831474173866, 0.07257355411383636, 4.793315061671714e-155, 0.10401718851352745, 4.366616205694601e-155, 0.28788637206141987, 0.12585698889683172, 0.1538106929522615, 0.21458573358127073, 0.06342879870764748, 0.19197237790795155, 0.18836213660236184, 0.2378625911460677, 0.1666590362824568, 0.2693963044555114, 0.2673669881972678, 0.36780203576605, 1.5606937776698067e-78, 1.7462909665862644e-78, 5.6937104824858e-155, 0.16263045601964365, 0.1314180973841296, 0.23853878611713578, 1.52018576094114e-78, 0.18368229400543856, 0.0906759735034126, 0.35806949458378756, 5.199619974999846e-155, 0.3072624812522378, 0.17572883894082977, 4.921765457514497e-155, 0.11152830158430571, 5.425230030075562e-155, 0.14587976182154636, 0.11206264910809553, 0.047170608056152606, 0.31923876926357725, 1.5247095613463504e-78, 0.14046579268051027, 0.1525823315243838, 0.11997649405139396, 1.2989580901019031e-78, 0.273971867025172, 0.1721957219668327, 4.943593139278472e-155, 4.7753034487398274e-155, 0.2350831220284903, 0.28863331474128007, 0.177659646834783, 0.36549632243104174, 0.28516792848967654, 0.052268689276109837, 3.734286338932729e-155, 0.08345217501675024, 0.0595152910980671, 0.08772485469558462, 0.28087871796334185, 0.37188199355167434, 0.2038558585927781, 0.0665881459819505, 0.12432464976741713, 0.06069438420924982, 0.08470406003656407, 0.10040355451454681, 0.14661576432401083, 0.15253920764035475, 0.10144651236008818, 4.439317159086504e-155, 1.1710551903353398e-78, 2.3884310017602493e-78, 0.1026263205340462, 0.062255452685129324, 0.09405206929864028, 1.5222331350524324e-78, 0.17815284540109544, 0.23047905461603085, 0.21583991748731432, 0.16502346876469734, 0.13511534713966275, 0.2459534916304371, 0.155568056722597, 0.08968874703438949]\n",
            "ROUGE Scores: {'rouge1': 0.46909718438776515, 'rouge2': 0.21290583587263887, 'rougeL': 0.2999746453179917, 'rougeLsum': 0.4106617891810356}\n"
          ]
        }
      ]
    },
    {
      "cell_type": "code",
      "source": [
        "'''BLEU Scores: [0.1932885872761737, 0.15806679374127577, 0.2178327857558575, 1.6092139539174812e-78, 0.5431453932735718, 0.0940713539742651,\n",
        "              0.2577307440085172, 0.06515188738820063, 0.2516815734403964, 1.6799713249147274e-78, 0.3000623861750799, 0.16438253419899262,\n",
        "              0.27551401625837396, 0.1151135819433661, 0.08762216398666815, 0.05948639071686123, 4.434755931828925e-155, 0.06057145345713495,\n",
        "              0.5580660686244475, 0.30042319114651783, 2.1504271967054382e-78, 0.09681210625627841, 1.255800910665416e-78, 0.19514631432816512,\n",
        "              0.1510618535913012, 1.752911800224005e-78, 0.07926116415700454, 0.4903294524282231, 0.3037783320572248, 0.44235052712296585,\n",
        "              0.3079512600371864, 0.1516088243570965, 1.3458872190999414e-78, 0.10802011816912092, 0.053802309398893085, 0.1772582120465654,\n",
        "              0.06494951888375101, 0.23031046916638137, 5.723654496146223e-155, 0.15865815419993443, 0.053955663597621, 2.0363030544801795e-78,\n",
        "              0.18434353850016247, 0.2913280138827994, 0.11825001169349016, 0.04625900984155647, 0.40437206812271975, 0.11709921338845747,\n",
        "              4.533086463968084e-155, 0.1613950084180782, 1.4446150405344093e-78, 0.16837501502952912, 0.1352399289933244,\n",
        "              3.2208364377701786e-155, 0.17139234341381263, 0.3370759373213762, 4.831880060174842e-155, 0.30418608000767383,\n",
        "              0.0717514236756446, 0.09098681952312344, 0.13910376573800953, 0.1034180801972501, 0.14977080196475978, 1.5632720244275045e-78,\n",
        "              0.2347934704946878, 0.2773044870025194, 0.2149413666493006, 0.21772163567428915, 0.08283233422563915, 0.09782141596543549,\n",
        "              2.3667453417675176e-78, 0.35686616041557395, 0.17853462595575406, 0.46080005718177475, 5.772673208665528e-155, 0.19741996233532902,\n",
        "              1.632936498736062e-78, 0.08022963484722281, 0.1827669041522176, 5.218381790024649e-155, 0.09825505159578724, 1.0315981400120194e-231,\n",
        "              0.3374430542743561, 0.21284376833500962, 4.922088002769674e-155, 0.13480497688153606, 0.04788228118477925, 0.2525066072841661,\n",
        "              0.10217735011741548, 1.13631817938959e-78, 0.2913749711415567, 1.3600901248760453e-78, 2.9991295067735775e-78, 0.4747826577588376,\n",
        "              0.09342259116609009, 0.22398488468888347, 0.06203700079640945, 0.16987974648063328, 2.0979406822475038e-78, 0.060802042648735184,\n",
        "              0.20304044356283835, 0.3895625481573781, 0.07278230723905438, 0.3418094272586104, 0.05004968521265101, 4.2873470459658165e-155,\n",
        "              0.08759571113730337, 0.28834178391439885, 0.254082443685274, 0.32629449944539335, 0.04699492303755103, 0.1503798509475338,\n",
        "              0.12323475445153678, 0.06414661050401747, 0.18278944364942573, 0.19992895203141936, 0.1035923003188843, 0.06369810666703662,\n",
        "              0.3083035444496935, 0.08093465092035856, 0.08834439005876074, 0.06841608121937082, 1.3739107127321597e-78, 4.879521170109991e-155,\n",
        "              0.4442813095496761, 0.3942671713982985, 0.2796414951510255, 0.1598193639941141, 0.09031266143565046, 0.17467849949201703,\n",
        "              0.2858451575152312, 0.25757791487472065, 0, 0.16965162876371312, 0.044558416581482525, 0.24612908133059228, 6.224633069122851e-155\n",
        "              , 0.3463954034794967, 1.698533759771355e-78, 0.24185568829640583, 0.10803939378866051, 0.09255732555437171, 0.0856874790890832,\n",
        "              0.15094118722782046, 0.469393086159674, 0.179898716603355, 0.12797484901820083, 0.4314545124723786, 6.6082516737175035e-155,\n",
        "              0.25617914835718675, 0.06818334194266762, 0.13514217538558632, 0.04927316123437251, 0.30374454720502037, 0.2070648141558418,\n",
        "              0.0414200494458399, 1.908404691994679e-78, 1.4269924697242776e-78, 0.21984613065028252, 0.050649013250316094, 4.151132611750382e-155,\n",
        "              0.27959476389470356, 0.28613786444194467, 0.10028593298099764, 0.16944196620612173, 0.598800678247296, 5.1107048151966984e-155,\n",
        "              3.0827844619818468e-78, 0.04395001227384646, 0.1259454628390947, 0.05353650760408128, 0.3150160408269359, 0.2002630190090658,\n",
        "              0.41455378425175643, 0.10351743384633724, 0.11821728482264325, 0.13675848266787588, 0.08851732081680777, 0.11917322848353729,\n",
        "              4.7375042889412906e-155, 0.07673411165782971, 0.16118732182393355, 0.088147110823494, 1.7347258616232127e-78, 0.2919656241444065,\n",
        "              0.2101983443576319, 1.4302207744633639e-78, 4.212303165997554e-155, 0.14381092027832323, 0.10662284658242678, 0.3566477868605444, 0.15803339247244078, 3.981897812932139e-155, 0.17229578039256851, 0.12151003175175461, 0.2960081148863753, 0.09185777529863207, 0.11844397731252482, 0.1537497139715524, 0.19551459949257788, 5.357895237797952e-155, 0.10101251464744151, 5.4771584153812925e-155, 0.36442489681366624, 4.265702461025784e-155, 0.19745745344778806, 0.06484712703657584, 0.38740949403190567, 1.2939430828380278e-78, 0.3769326823135244, 0.13996760604625888, 0.17259621009551626, 0.20771918121180982, 0.14040321900707187, 4.6644316252602715e-155, 0.05738744826271924, 9.807557348940825e-79, 0.06302530174928503, 0.2550303651676375, 0.04340872850222474, 1.2677332724912832e-78, 0.33579212955160037, 4.292081849136754e-155, 0.17809626199062403, 1.801764984376408e-78, 0.19158265419876033, 0.1092371999065142, 0.14706141008374948, 2.6133855065210454e-78, 0.055968675592728404, 0.08353727198189834, 0.07950894110280342, 0.11386016716127477, 0.12239844150794589, 0.08134468918220059, 0.1937046245953874, 0.20935627742414004, 2.7169901998349077e-78, 0.3410242706534153, 0.23016305393320144, 0.24223794595223827, 0.08198915278088748, 0.5551565854709237, 2.0568094786720224e-78, 0.3580609478998635, 0.29552474725646494, 5.260776998893044e-155, 0.1723756394083971, 0.3735264360080446, 0.10119977355943026, 0.06065967385312479, 4.707142878213473e-155, 1.9632123008821593e-78, 0.3177169536457236, 0.38154867502199896, 0.10387303496429823, 0.5222784181049829, 1.892518848083024e-78, 0.17394607875276794, 0.06358833451001843, 0.5406534445285707, 1.3345568719245925e-78, 0.04521856298373329, 0.2531252663502322, 0.34840713186821437, 0.19322520746775856, 0.08968067903540826, 0.10168630107390682, 0.15144151730481617, 0.2552351975310662, 0.2791841818628717, 0.07439331904857548, 0.1965171522215773, 0.16926122992561418, 0.13833758542667313, 0.1742370637108001, 0.04332730075394869, 0.2854128509193287, 0.111804358873304, 5.734939125263529e-155, 0.19106127642407883, 0.23907895984994296, 5.478310479235809e-155, 0.30885648689527007, 0.16201345477704185, 0.05015395563558039, 0.10436111865090873, 0.14650195877569483, 0.6155644059090049, 4.093656693195303e-155, 0.04700606979275042, 0.09573650382669316, 0.4038219340923106, 0.23343858578113233, 0.09315766322990698, 1.7269198111947483e-78, 0.07594724600530921, 4.807998311965606e-155, 0.27054729171726644, 5.253441210115029e-155, 0.13274033061570156, 0.08785570875601481, 0.20828244718405298, 0.07722193062582534, 0.28301617147576635, 0.15524262293607355, 2.1535568780180754e-78, 0.2620192822306019, 0.1744329782298451, 0.1711959295105451, 0.1415344584111205, 0.06237657308696711, 0.13005039725356196, 3.4539290323188128e-155, 4.212421023080109e-155, 1.5094114763651908e-78, 0.04877418650798555, 0.18994394889036317, 0.36038768111844355, 0.4704332894417627, 0.14132109200379508, 0.08360058736910576, 0.0448189298907735, 0.054583020300053825, 4.994803113241671e-155, 0.1721512395880948, 0.1862672359582918, 0.28969470987813845, 1.1455056843471962e-78, 0.08215909739223486, 0.09273334885767033, 4.7246586929036255e-155, 4.584895596309517e-155, 0.1639064593928471, 0.0953337329962604, 0.19896512824811474, 0.042092637167762154, 0.1500818541114657, 0.17931710599226466, 0.07277799904348728, 4.368048869756373e-155, 0.06359269312399486, 0.39529091498948077, 0.2156856823064808, 4.728796941442346e-155, 0.03490886168574304, 0.061825740544944725, 0.16256319619543166, 0.16299711343436138, 1.6697269724880712e-78, 0.19765496629564291, 0.13530753862084482, 0.2006327927646805, 0.3454361488295174, 0.21386384140664694, 0.2819551085900857, 0.05215095332243106, 1.2204243794056445e-78, 0.07378113701655048, 0.07686003108254455, 0.2245995266206816, 0.22675399911602903, 0.171386677360159, 0.38578831087633475, 5.139505843077844e-155, 0.48542432355736215, 1.866151143365825e-78, 0.1235467047322923, 0.304753099030368, 5.876935367307856e-155, 0.1386634402197918, 1.6605102316678907e-78, 2.3995801109667714e-78, 0.09524462260195535, 2.1630558358515285e-78, 0.09246561079757709, 0.18799650504736948, 1.3691765585696824e-78, 0.12345025750852548, 0.13692636062808303, 0.3721409883565713, 0.11104479005246592, 0.23158856221315452, 0.2544574741430079, 0.1814041030366095, 0.21094369286512818, 0.39403424830245737, 0.10231622504655295, 0.24078030976898618, 0.10676737218672136, 6.088652923783793e-155, 0.07234539969917397, 0.17267412648186456, 0.19845263867714022, 0.0887612794833903, 0.35969659414966776, 0.049739881934800376, 0.2372350162128614, 0.32772843566646276, 0.09028010282074002, 5.088788558612117e-155, 0.08723869062122971, 0.3930171986554486, 0.14455683162952612, 0.10664238352261128, 0.11098462883034825, 5.752115154501478e-155, 0.07641719273709253, 0.2699032826052456, 0.11888422643873697, 1.7550065774933343e-78, 0.20061831474173866, 0.07257355411383636, 4.793315061671714e-155, 0.10401718851352745, 4.366616205694601e-155, 0.28788637206141987, 0.12585698889683172, 0.1538106929522615, 0.21458573358127073, 0.06342879870764748, 0.19197237790795155, 0.18836213660236184, 0.2378625911460677, 0.1666590362824568, 0.2693963044555114, 0.2673669881972678, 0.36780203576605, 1.5606937776698067e-78, 1.7462909665862644e-78, 5.6937104824858e-155, 0.16263045601964365, 0.1314180973841296, 0.23853878611713578, 1.52018576094114e-78, 0.18368229400543856, 0.0906759735034126, 0.35806949458378756, 5.199619974999846e-155, 0.3072624812522378, 0.17572883894082977, 4.921765457514497e-155, 0.11152830158430571, 5.425230030075562e-155, 0.14587976182154636, 0.11206264910809553, 0.047170608056152606, 0.31923876926357725, 1.5247095613463504e-78, 0.14046579268051027, 0.1525823315243838, 0.11997649405139396, 1.2989580901019031e-78, 0.273971867025172, 0.1721957219668327, 4.943593139278472e-155, 4.7753034487398274e-155, 0.2350831220284903, 0.28863331474128007, 0.177659646834783, 0.36549632243104174, 0.28516792848967654, 0.052268689276109837, 3.734286338932729e-155, 0.08345217501675024, 0.0595152910980671, 0.08772485469558462, 0.28087871796334185, 0.37188199355167434, 0.2038558585927781, 0.0665881459819505, 0.12432464976741713, 0.06069438420924982, 0.08470406003656407, 0.10040355451454681, 0.14661576432401083, 0.15253920764035475, 0.10144651236008818, 4.439317159086504e-155, 1.1710551903353398e-78, 2.3884310017602493e-78, 0.1026263205340462, 0.062255452685129324, 0.09405206929864028, 1.5222331350524324e-78, 0.17815284540109544, 0.23047905461603085, 0.21583991748731432, 0.16502346876469734, 0.13511534713966275, 0.2459534916304371, 0.155568056722597, 0.08968874703438949]'''\n"
      ],
      "metadata": {
        "colab": {
          "base_uri": "https://localhost:8080/",
          "height": 122
        },
        "id": "nUU6TazppBhm",
        "outputId": "074252f3-4966-42b8-c7ff-703da367c9a4"
      },
      "execution_count": null,
      "outputs": [
        {
          "output_type": "execute_result",
          "data": {
            "text/plain": [
              "'BLEU Scores: [0.1932885872761737, 0.15806679374127577, 0.2178327857558575, 1.6092139539174812e-78, 0.5431453932735718, 0.0940713539742651,\\n              0.2577307440085172, 0.06515188738820063, 0.2516815734403964, 1.6799713249147274e-78, 0.3000623861750799, 0.16438253419899262,\\n              0.27551401625837396, 0.1151135819433661, 0.08762216398666815, 0.05948639071686123, 4.434755931828925e-155, 0.06057145345713495,\\n              0.5580660686244475, 0.30042319114651783, 2.1504271967054382e-78, 0.09681210625627841, 1.255800910665416e-78, 0.19514631432816512,\\n              0.1510618535913012, 1.752911800224005e-78, 0.07926116415700454, 0.4903294524282231, 0.3037783320572248, 0.44235052712296585,\\n              0.3079512600371864, 0.1516088243570965, 1.3458872190999414e-78, 0.10802011816912092, 0.053802309398893085, 0.1772582120465654,\\n              0.06494951888375101, 0.23031046916638137, 5.723654496146223e-155, 0.15865815419993443, 0.053955663597621, 2.0363030544801795e-78,\\n              0.18434353850016247, 0.2913280138827994, 0.11825001169349016, 0.04625900984155647, 0.40437206812271975, 0.11709921338845747,\\n              4.533086463968084e-155, 0.1613950084180782, 1.4446150405344093e-78, 0.16837501502952912, 0.1352399289933244, \\n              3.2208364377701786e-155, 0.17139234341381263, 0.3370759373213762, 4.831880060174842e-155, 0.30418608000767383,\\n              0.0717514236756446, 0.09098681952312344, 0.13910376573800953, 0.1034180801972501, 0.14977080196475978, 1.5632720244275045e-78,\\n              0.2347934704946878, 0.2773044870025194, 0.2149413666493006, 0.21772163567428915, 0.08283233422563915, 0.09782141596543549, \\n              2.3667453417675176e-78, 0.35686616041557395, 0.17853462595575406, 0.46080005718177475, 5.772673208665528e-155, 0.19741996233532902,\\n              1.632936498736062e-78, 0.08022963484722281, 0.1827669041522176, 5.218381790024649e-155, 0.09825505159578724, 1.0315981400120194e-231,\\n              0.3374430542743561, 0.21284376833500962, 4.922088002769674e-155, 0.13480497688153606, 0.04788228118477925, 0.2525066072841661, \\n              0.10217735011741548, 1.13631817938959e-78, 0.2913749711415567, 1.3600901248760453e-78, 2.9991295067735775e-78, 0.4747826577588376,\\n              0.09342259116609009, 0.22398488468888347, 0.06203700079640945, 0.16987974648063328, 2.0979406822475038e-78, 0.060802042648735184,\\n              0.20304044356283835, 0.3895625481573781, 0.07278230723905438, 0.3418094272586104, 0.05004968521265101, 4.2873470459658165e-155, \\n              0.08759571113730337, 0.28834178391439885, 0.254082443685274, 0.32629449944539335, 0.04699492303755103, 0.1503798509475338, \\n              0.12323475445153678, 0.06414661050401747, 0.18278944364942573, 0.19992895203141936, 0.1035923003188843, 0.06369810666703662,\\n              0.3083035444496935, 0.08093465092035856, 0.08834439005876074, 0.06841608121937082, 1.3739107127321597e-78, 4.879521170109991e-155,\\n              0.4442813095496761, 0.3942671713982985, 0.2796414951510255, 0.1598193639941141, 0.09031266143565046, 0.17467849949201703,\\n              0.2858451575152312, 0.25757791487472065, 0, 0.16965162876371312, 0.044558416581482525, 0.24612908133059228, 6.224633069122851e-155\\n              , 0.3463954034794967, 1.698533759771355e-78, 0.24185568829640583, 0.10803939378866051, 0.09255732555437171, 0.0856874790890832, \\n              0.15094118722782046, 0.469393086159674, 0.179898716603355, 0.12797484901820083, 0.4314545124723786, 6.6082516737175035e-155,\\n              0.25617914835718675, 0.06818334194266762, 0.13514217538558632, 0.04927316123437251, 0.30374454720502037, 0.2070648141558418,\\n              0.0414200494458399, 1.908404691994679e-78, 1.4269924697242776e-78, 0.21984613065028252, 0.050649013250316094, 4.151132611750382e-155,\\n              0.27959476389470356, 0.28613786444194467, 0.10028593298099764, 0.16944196620612173, 0.598800678247296, 5.1107048151966984e-155, \\n              3.0827844619818468e-78, 0.04395001227384646, 0.1259454628390947, 0.05353650760408128, 0.3150160408269359, 0.2002630190090658, \\n              0.41455378425175643, 0.10351743384633724, 0.11821728482264325, 0.13675848266787588, 0.08851732081680777, 0.11917322848353729, \\n              4.7375042889412906e-155, 0.07673411165782971, 0.16118732182393355, 0.088147110823494, 1.7347258616232127e-78, 0.2919656241444065,\\n              0.2101983443576319, 1.4302207744633639e-78, 4.212303165997554e-155, 0.14381092027832323, 0.10662284658242678, 0.3566477868605444, 0.15803339247244078, 3.981897812932139e-155, 0.17229578039256851, 0.12151003175175461, 0.2960081148863753, 0.09185777529863207, 0.11844397731252482, 0.1537497139715524, 0.19551459949257788, 5.357895237797952e-155, 0.10101251464744151, 5.4771584153812925e-155, 0.36442489681366624, 4.265702461025784e-155, 0.19745745344778806, 0.06484712703657584, 0.38740949403190567, 1.2939430828380278e-78, 0.3769326823135244, 0.13996760604625888, 0.17259621009551626, 0.20771918121180982, 0.14040321900707187, 4.6644316252602715e-155, 0.05738744826271924, 9.807557348940825e-79, 0.06302530174928503, 0.2550303651676375, 0.04340872850222474, 1.2677332724912832e-78, 0.33579212955160037, 4.292081849136754e-155, 0.17809626199062403, 1.801764984376408e-78, 0.19158265419876033, 0.1092371999065142, 0.14706141008374948, 2.6133855065210454e-78, 0.055968675592728404, 0.08353727198189834, 0.07950894110280342, 0.11386016716127477, 0.12239844150794589, 0.08134468918220059, 0.1937046245953874, 0.20935627742414004, 2.7169901998349077e-78, 0.3410242706534153, 0.23016305393320144, 0.24223794595223827, 0.08198915278088748, 0.5551565854709237, 2.0568094786720224e-78, 0.3580609478998635, 0.29552474725646494, 5.260776998893044e-155, 0.1723756394083971, 0.3735264360080446, 0.10119977355943026, 0.06065967385312479, 4.707142878213473e-155, 1.9632123008821593e-78, 0.3177169536457236, 0.38154867502199896, 0.10387303496429823, 0.5222784181049829, 1.892518848083024e-78, 0.17394607875276794, 0.06358833451001843, 0.5406534445285707, 1.3345568719245925e-78, 0.04521856298373329, 0.2531252663502322, 0.34840713186821437, 0.19322520746775856, 0.08968067903540826, 0.10168630107390682, 0.15144151730481617, 0.2552351975310662, 0.2791841818628717, 0.07439331904857548, 0.1965171522215773, 0.16926122992561418, 0.13833758542667313, 0.1742370637108001, 0.04332730075394869, 0.2854128509193287, 0.111804358873304, 5.734939125263529e-155, 0.19106127642407883, 0.23907895984994296, 5.478310479235809e-155, 0.30885648689527007, 0.16201345477704185, 0.05015395563558039, 0.10436111865090873, 0.14650195877569483, 0.6155644059090049, 4.093656693195303e-155, 0.04700606979275042, 0.09573650382669316, 0.4038219340923106, 0.23343858578113233, 0.09315766322990698, 1.7269198111947483e-78, 0.07594724600530921, 4.807998311965606e-155, 0.27054729171726644, 5.253441210115029e-155, 0.13274033061570156, 0.08785570875601481, 0.20828244718405298, 0.07722193062582534, 0.28301617147576635, 0.15524262293607355, 2.1535568780180754e-78, 0.2620192822306019, 0.1744329782298451, 0.1711959295105451, 0.1415344584111205, 0.06237657308696711, 0.13005039725356196, 3.4539290323188128e-155, 4.212421023080109e-155, 1.5094114763651908e-78, 0.04877418650798555, 0.18994394889036317, 0.36038768111844355, 0.4704332894417627, 0.14132109200379508, 0.08360058736910576, 0.0448189298907735, 0.054583020300053825, 4.994803113241671e-155, 0.1721512395880948, 0.1862672359582918, 0.28969470987813845, 1.1455056843471962e-78, 0.08215909739223486, 0.09273334885767033, 4.7246586929036255e-155, 4.584895596309517e-155, 0.1639064593928471, 0.0953337329962604, 0.19896512824811474, 0.042092637167762154, 0.1500818541114657, 0.17931710599226466, 0.07277799904348728, 4.368048869756373e-155, 0.06359269312399486, 0.39529091498948077, 0.2156856823064808, 4.728796941442346e-155, 0.03490886168574304, 0.061825740544944725, 0.16256319619543166, 0.16299711343436138, 1.6697269724880712e-78, 0.19765496629564291, 0.13530753862084482, 0.2006327927646805, 0.3454361488295174, 0.21386384140664694, 0.2819551085900857, 0.05215095332243106, 1.2204243794056445e-78, 0.07378113701655048, 0.07686003108254455, 0.2245995266206816, 0.22675399911602903, 0.171386677360159, 0.38578831087633475, 5.139505843077844e-155, 0.48542432355736215, 1.866151143365825e-78, 0.1235467047322923, 0.304753099030368, 5.876935367307856e-155, 0.1386634402197918, 1.6605102316678907e-78, 2.3995801109667714e-78, 0.09524462260195535, 2.1630558358515285e-78, 0.09246561079757709, 0.18799650504736948, 1.3691765585696824e-78, 0.12345025750852548, 0.13692636062808303, 0.3721409883565713, 0.11104479005246592, 0.23158856221315452, 0.2544574741430079, 0.1814041030366095, 0.21094369286512818, 0.39403424830245737, 0.10231622504655295, 0.24078030976898618, 0.10676737218672136, 6.088652923783793e-155, 0.07234539969917397, 0.17267412648186456, 0.19845263867714022, 0.0887612794833903, 0.35969659414966776, 0.049739881934800376, 0.2372350162128614, 0.32772843566646276, 0.09028010282074002, 5.088788558612117e-155, 0.08723869062122971, 0.3930171986554486, 0.14455683162952612, 0.10664238352261128, 0.11098462883034825, 5.752115154501478e-155, 0.07641719273709253, 0.2699032826052456, 0.11888422643873697, 1.7550065774933343e-78, 0.20061831474173866, 0.07257355411383636, 4.793315061671714e-155, 0.10401718851352745, 4.366616205694601e-155, 0.28788637206141987, 0.12585698889683172, 0.1538106929522615, 0.21458573358127073, 0.06342879870764748, 0.19197237790795155, 0.18836213660236184, 0.2378625911460677, 0.1666590362824568, 0.2693963044555114, 0.2673669881972678, 0.36780203576605, 1.5606937776698067e-78, 1.7462909665862644e-78, 5.6937104824858e-155, 0.16263045601964365, 0.1314180973841296, 0.23853878611713578, 1.52018576094114e-78, 0.18368229400543856, 0.0906759735034126, 0.35806949458378756, 5.199619974999846e-155, 0.3072624812522378, 0.17572883894082977, 4.921765457514497e-155, 0.11152830158430571, 5.425230030075562e-155, 0.14587976182154636, 0.11206264910809553, 0.047170608056152606, 0.31923876926357725, 1.5247095613463504e-78, 0.14046579268051027, 0.1525823315243838, 0.11997649405139396, 1.2989580901019031e-78, 0.273971867025172, 0.1721957219668327, 4.943593139278472e-155, 4.7753034487398274e-155, 0.2350831220284903, 0.28863331474128007, 0.177659646834783, 0.36549632243104174, 0.28516792848967654, 0.052268689276109837, 3.734286338932729e-155, 0.08345217501675024, 0.0595152910980671, 0.08772485469558462, 0.28087871796334185, 0.37188199355167434, 0.2038558585927781, 0.0665881459819505, 0.12432464976741713, 0.06069438420924982, 0.08470406003656407, 0.10040355451454681, 0.14661576432401083, 0.15253920764035475, 0.10144651236008818, 4.439317159086504e-155, 1.1710551903353398e-78, 2.3884310017602493e-78, 0.1026263205340462, 0.062255452685129324, 0.09405206929864028, 1.5222331350524324e-78, 0.17815284540109544, 0.23047905461603085, 0.21583991748731432, 0.16502346876469734, 0.13511534713966275, 0.2459534916304371, 0.155568056722597, 0.08968874703438949]'"
            ],
            "application/vnd.google.colaboratory.intrinsic+json": {
              "type": "string"
            }
          },
          "metadata": {},
          "execution_count": 37
        }
      ]
    },
    {
      "cell_type": "code",
      "source": [
        "actual_summaries[0]"
      ],
      "metadata": {
        "colab": {
          "base_uri": "https://localhost:8080/",
          "height": 87
        },
        "id": "UBwBoGtYw-PC",
        "outputId": "a4aa40b4-344a-4f9b-dd5a-e0919c695c34"
      },
      "execution_count": null,
      "outputs": [
        {
          "output_type": "execute_result",
          "data": {
            "text/plain": [
              "'A Sub Inspcctor of Police, Enforcement Branch, filed a report before the Police Officer in charge of a Police Station alleging that the respondent along with three others committed offences under ss.420, 120B read with s.420 Indian Penal Code.\\nThereupon a First Information Report was drawn up and investigation was started.\\nThe respondent surrendered before the judicial Magistrate and he was released on bail.\\nSubsequently he filed an application in the High Court under sections 439 and 561 A of the Criminal Procedure Code to get the case pending before the judicial Magistrate arising out of the 53 case registered in the Police Station'"
            ],
            "application/vnd.google.colaboratory.intrinsic+json": {
              "type": "string"
            }
          },
          "metadata": {},
          "execution_count": 33
        }
      ]
    },
    {
      "cell_type": "code",
      "source": [
        "generated_summaries[0]"
      ],
      "metadata": {
        "colab": {
          "base_uri": "https://localhost:8080/",
          "height": 87
        },
        "id": "2eMrF5FWxA-E",
        "outputId": "8565651e-fa3d-401c-aaba-b672b8c14f8c"
      },
      "execution_count": null,
      "outputs": [
        {
          "output_type": "execute_result",
          "data": {
            "text/plain": [
              "'The respondent was an Assistant cum Executive Engineer, Kancbrapara Development Area, Kalyani Division.\\nOn March 26, 1960, Sub Inspector. Gbose of Police Inforcement Branch filed a written report before the Officer in charge of the Chakdah Police Station alleging that the respondent in conspiracy with three others had cheated the Government of West Bengal of a sum of Rs. 20,000.\\nThe police started investigation and the respondent surrendered in the court of the Judicial Magistrate at Ranaghat and was released on bail.\\nHe filed a petition under sections 439 and 561A of the Criminal Procedure Code and prayed for a rule against the District Magistrate, Nadia, to show cause why the judicial'"
            ],
            "application/vnd.google.colaboratory.intrinsic+json": {
              "type": "string"
            }
          },
          "metadata": {},
          "execution_count": 38
        }
      ]
    },
    {
      "cell_type": "code",
      "source": [],
      "metadata": {
        "id": "PUlTv_0PxDVQ"
      },
      "execution_count": null,
      "outputs": []
    }
  ],
  "metadata": {
    "colab": {
      "provenance": []
    },
    "kernelspec": {
      "display_name": "Python 3",
      "name": "python3"
    },
    "language_info": {
      "name": "python"
    },
    "widgets": {
      "application/vnd.jupyter.widget-state+json": {
        "d61a23357e8a4625992a08a8afaf622d": {
          "model_module": "@jupyter-widgets/controls",
          "model_name": "HBoxModel",
          "model_module_version": "1.5.0",
          "state": {
            "_dom_classes": [],
            "_model_module": "@jupyter-widgets/controls",
            "_model_module_version": "1.5.0",
            "_model_name": "HBoxModel",
            "_view_count": null,
            "_view_module": "@jupyter-widgets/controls",
            "_view_module_version": "1.5.0",
            "_view_name": "HBoxView",
            "box_style": "",
            "children": [
              "IPY_MODEL_8c60b6aa032c4d34bf8a55cbe0a8c203",
              "IPY_MODEL_99ce9e892a0f4a08b225fc7a9a2d4863",
              "IPY_MODEL_ca0c917c33e842f68da787915696948c"
            ],
            "layout": "IPY_MODEL_e86dc4cd7176463783ea49a0380dd5fd"
          }
        },
        "8c60b6aa032c4d34bf8a55cbe0a8c203": {
          "model_module": "@jupyter-widgets/controls",
          "model_name": "HTMLModel",
          "model_module_version": "1.5.0",
          "state": {
            "_dom_classes": [],
            "_model_module": "@jupyter-widgets/controls",
            "_model_module_version": "1.5.0",
            "_model_name": "HTMLModel",
            "_view_count": null,
            "_view_module": "@jupyter-widgets/controls",
            "_view_module_version": "1.5.0",
            "_view_name": "HTMLView",
            "description": "",
            "description_tooltip": null,
            "layout": "IPY_MODEL_f89e6faa64d64141aea6fa22914659b8",
            "placeholder": "​",
            "style": "IPY_MODEL_5471e3a3adf64dc5a8721437cbff242a",
            "value": "pytorch_model.bin: 100%"
          }
        },
        "99ce9e892a0f4a08b225fc7a9a2d4863": {
          "model_module": "@jupyter-widgets/controls",
          "model_name": "FloatProgressModel",
          "model_module_version": "1.5.0",
          "state": {
            "_dom_classes": [],
            "_model_module": "@jupyter-widgets/controls",
            "_model_module_version": "1.5.0",
            "_model_name": "FloatProgressModel",
            "_view_count": null,
            "_view_module": "@jupyter-widgets/controls",
            "_view_module_version": "1.5.0",
            "_view_name": "ProgressView",
            "bar_style": "success",
            "description": "",
            "description_tooltip": null,
            "layout": "IPY_MODEL_93370dfb4d894863bde616ba5a3ca804",
            "max": 440474526,
            "min": 0,
            "orientation": "horizontal",
            "style": "IPY_MODEL_a4fb5e3afd4f4362b5158fe9c935cd05",
            "value": 440474526
          }
        },
        "ca0c917c33e842f68da787915696948c": {
          "model_module": "@jupyter-widgets/controls",
          "model_name": "HTMLModel",
          "model_module_version": "1.5.0",
          "state": {
            "_dom_classes": [],
            "_model_module": "@jupyter-widgets/controls",
            "_model_module_version": "1.5.0",
            "_model_name": "HTMLModel",
            "_view_count": null,
            "_view_module": "@jupyter-widgets/controls",
            "_view_module_version": "1.5.0",
            "_view_name": "HTMLView",
            "description": "",
            "description_tooltip": null,
            "layout": "IPY_MODEL_a21c3349feaf4f688781223fa427d006",
            "placeholder": "​",
            "style": "IPY_MODEL_40a3d64156b94771a2591a5556b24703",
            "value": " 440M/440M [00:03&lt;00:00, 114MB/s]"
          }
        },
        "e86dc4cd7176463783ea49a0380dd5fd": {
          "model_module": "@jupyter-widgets/base",
          "model_name": "LayoutModel",
          "model_module_version": "1.2.0",
          "state": {
            "_model_module": "@jupyter-widgets/base",
            "_model_module_version": "1.2.0",
            "_model_name": "LayoutModel",
            "_view_count": null,
            "_view_module": "@jupyter-widgets/base",
            "_view_module_version": "1.2.0",
            "_view_name": "LayoutView",
            "align_content": null,
            "align_items": null,
            "align_self": null,
            "border": null,
            "bottom": null,
            "display": null,
            "flex": null,
            "flex_flow": null,
            "grid_area": null,
            "grid_auto_columns": null,
            "grid_auto_flow": null,
            "grid_auto_rows": null,
            "grid_column": null,
            "grid_gap": null,
            "grid_row": null,
            "grid_template_areas": null,
            "grid_template_columns": null,
            "grid_template_rows": null,
            "height": null,
            "justify_content": null,
            "justify_items": null,
            "left": null,
            "margin": null,
            "max_height": null,
            "max_width": null,
            "min_height": null,
            "min_width": null,
            "object_fit": null,
            "object_position": null,
            "order": null,
            "overflow": null,
            "overflow_x": null,
            "overflow_y": null,
            "padding": null,
            "right": null,
            "top": null,
            "visibility": null,
            "width": null
          }
        },
        "f89e6faa64d64141aea6fa22914659b8": {
          "model_module": "@jupyter-widgets/base",
          "model_name": "LayoutModel",
          "model_module_version": "1.2.0",
          "state": {
            "_model_module": "@jupyter-widgets/base",
            "_model_module_version": "1.2.0",
            "_model_name": "LayoutModel",
            "_view_count": null,
            "_view_module": "@jupyter-widgets/base",
            "_view_module_version": "1.2.0",
            "_view_name": "LayoutView",
            "align_content": null,
            "align_items": null,
            "align_self": null,
            "border": null,
            "bottom": null,
            "display": null,
            "flex": null,
            "flex_flow": null,
            "grid_area": null,
            "grid_auto_columns": null,
            "grid_auto_flow": null,
            "grid_auto_rows": null,
            "grid_column": null,
            "grid_gap": null,
            "grid_row": null,
            "grid_template_areas": null,
            "grid_template_columns": null,
            "grid_template_rows": null,
            "height": null,
            "justify_content": null,
            "justify_items": null,
            "left": null,
            "margin": null,
            "max_height": null,
            "max_width": null,
            "min_height": null,
            "min_width": null,
            "object_fit": null,
            "object_position": null,
            "order": null,
            "overflow": null,
            "overflow_x": null,
            "overflow_y": null,
            "padding": null,
            "right": null,
            "top": null,
            "visibility": null,
            "width": null
          }
        },
        "5471e3a3adf64dc5a8721437cbff242a": {
          "model_module": "@jupyter-widgets/controls",
          "model_name": "DescriptionStyleModel",
          "model_module_version": "1.5.0",
          "state": {
            "_model_module": "@jupyter-widgets/controls",
            "_model_module_version": "1.5.0",
            "_model_name": "DescriptionStyleModel",
            "_view_count": null,
            "_view_module": "@jupyter-widgets/base",
            "_view_module_version": "1.2.0",
            "_view_name": "StyleView",
            "description_width": ""
          }
        },
        "93370dfb4d894863bde616ba5a3ca804": {
          "model_module": "@jupyter-widgets/base",
          "model_name": "LayoutModel",
          "model_module_version": "1.2.0",
          "state": {
            "_model_module": "@jupyter-widgets/base",
            "_model_module_version": "1.2.0",
            "_model_name": "LayoutModel",
            "_view_count": null,
            "_view_module": "@jupyter-widgets/base",
            "_view_module_version": "1.2.0",
            "_view_name": "LayoutView",
            "align_content": null,
            "align_items": null,
            "align_self": null,
            "border": null,
            "bottom": null,
            "display": null,
            "flex": null,
            "flex_flow": null,
            "grid_area": null,
            "grid_auto_columns": null,
            "grid_auto_flow": null,
            "grid_auto_rows": null,
            "grid_column": null,
            "grid_gap": null,
            "grid_row": null,
            "grid_template_areas": null,
            "grid_template_columns": null,
            "grid_template_rows": null,
            "height": null,
            "justify_content": null,
            "justify_items": null,
            "left": null,
            "margin": null,
            "max_height": null,
            "max_width": null,
            "min_height": null,
            "min_width": null,
            "object_fit": null,
            "object_position": null,
            "order": null,
            "overflow": null,
            "overflow_x": null,
            "overflow_y": null,
            "padding": null,
            "right": null,
            "top": null,
            "visibility": null,
            "width": null
          }
        },
        "a4fb5e3afd4f4362b5158fe9c935cd05": {
          "model_module": "@jupyter-widgets/controls",
          "model_name": "ProgressStyleModel",
          "model_module_version": "1.5.0",
          "state": {
            "_model_module": "@jupyter-widgets/controls",
            "_model_module_version": "1.5.0",
            "_model_name": "ProgressStyleModel",
            "_view_count": null,
            "_view_module": "@jupyter-widgets/base",
            "_view_module_version": "1.2.0",
            "_view_name": "StyleView",
            "bar_color": null,
            "description_width": ""
          }
        },
        "a21c3349feaf4f688781223fa427d006": {
          "model_module": "@jupyter-widgets/base",
          "model_name": "LayoutModel",
          "model_module_version": "1.2.0",
          "state": {
            "_model_module": "@jupyter-widgets/base",
            "_model_module_version": "1.2.0",
            "_model_name": "LayoutModel",
            "_view_count": null,
            "_view_module": "@jupyter-widgets/base",
            "_view_module_version": "1.2.0",
            "_view_name": "LayoutView",
            "align_content": null,
            "align_items": null,
            "align_self": null,
            "border": null,
            "bottom": null,
            "display": null,
            "flex": null,
            "flex_flow": null,
            "grid_area": null,
            "grid_auto_columns": null,
            "grid_auto_flow": null,
            "grid_auto_rows": null,
            "grid_column": null,
            "grid_gap": null,
            "grid_row": null,
            "grid_template_areas": null,
            "grid_template_columns": null,
            "grid_template_rows": null,
            "height": null,
            "justify_content": null,
            "justify_items": null,
            "left": null,
            "margin": null,
            "max_height": null,
            "max_width": null,
            "min_height": null,
            "min_width": null,
            "object_fit": null,
            "object_position": null,
            "order": null,
            "overflow": null,
            "overflow_x": null,
            "overflow_y": null,
            "padding": null,
            "right": null,
            "top": null,
            "visibility": null,
            "width": null
          }
        },
        "40a3d64156b94771a2591a5556b24703": {
          "model_module": "@jupyter-widgets/controls",
          "model_name": "DescriptionStyleModel",
          "model_module_version": "1.5.0",
          "state": {
            "_model_module": "@jupyter-widgets/controls",
            "_model_module_version": "1.5.0",
            "_model_name": "DescriptionStyleModel",
            "_view_count": null,
            "_view_module": "@jupyter-widgets/base",
            "_view_module_version": "1.2.0",
            "_view_name": "StyleView",
            "description_width": ""
          }
        },
        "d6249a115e9d481185fd4a5e457b8d08": {
          "model_module": "@jupyter-widgets/controls",
          "model_name": "HBoxModel",
          "model_module_version": "1.5.0",
          "state": {
            "_dom_classes": [],
            "_model_module": "@jupyter-widgets/controls",
            "_model_module_version": "1.5.0",
            "_model_name": "HBoxModel",
            "_view_count": null,
            "_view_module": "@jupyter-widgets/controls",
            "_view_module_version": "1.5.0",
            "_view_name": "HBoxView",
            "box_style": "",
            "children": [
              "IPY_MODEL_15b2ae7b2f90491391a3f6fcc2f75f3c",
              "IPY_MODEL_6b4ec16526194d21895908e3584d2345",
              "IPY_MODEL_fcf659d97d2f400a8ae47bb332fb5ea2"
            ],
            "layout": "IPY_MODEL_525c1cc70c0644559194793b6abdb3c4"
          }
        },
        "15b2ae7b2f90491391a3f6fcc2f75f3c": {
          "model_module": "@jupyter-widgets/controls",
          "model_name": "HTMLModel",
          "model_module_version": "1.5.0",
          "state": {
            "_dom_classes": [],
            "_model_module": "@jupyter-widgets/controls",
            "_model_module_version": "1.5.0",
            "_model_name": "HTMLModel",
            "_view_count": null,
            "_view_module": "@jupyter-widgets/controls",
            "_view_module_version": "1.5.0",
            "_view_name": "HTMLView",
            "description": "",
            "description_tooltip": null,
            "layout": "IPY_MODEL_10490755f18740b78cd586e2eecfe5e8",
            "placeholder": "​",
            "style": "IPY_MODEL_3e8381874d174de7855e16ddbec4aa46",
            "value": "config.json: 100%"
          }
        },
        "6b4ec16526194d21895908e3584d2345": {
          "model_module": "@jupyter-widgets/controls",
          "model_name": "FloatProgressModel",
          "model_module_version": "1.5.0",
          "state": {
            "_dom_classes": [],
            "_model_module": "@jupyter-widgets/controls",
            "_model_module_version": "1.5.0",
            "_model_name": "FloatProgressModel",
            "_view_count": null,
            "_view_module": "@jupyter-widgets/controls",
            "_view_module_version": "1.5.0",
            "_view_name": "ProgressView",
            "bar_style": "success",
            "description": "",
            "description_tooltip": null,
            "layout": "IPY_MODEL_9a4fce9c397f45aa8b5531adff4fe426",
            "max": 1585,
            "min": 0,
            "orientation": "horizontal",
            "style": "IPY_MODEL_3d3e60a1f3a446098a43a89fa9e7c5cb",
            "value": 1585
          }
        },
        "fcf659d97d2f400a8ae47bb332fb5ea2": {
          "model_module": "@jupyter-widgets/controls",
          "model_name": "HTMLModel",
          "model_module_version": "1.5.0",
          "state": {
            "_dom_classes": [],
            "_model_module": "@jupyter-widgets/controls",
            "_model_module_version": "1.5.0",
            "_model_name": "HTMLModel",
            "_view_count": null,
            "_view_module": "@jupyter-widgets/controls",
            "_view_module_version": "1.5.0",
            "_view_name": "HTMLView",
            "description": "",
            "description_tooltip": null,
            "layout": "IPY_MODEL_1b461099de984ec79442b3ed89189d40",
            "placeholder": "​",
            "style": "IPY_MODEL_7b799a7e6d964a588e88d7f2ea84f557",
            "value": " 1.58k/1.58k [00:00&lt;00:00, 23.1kB/s]"
          }
        },
        "525c1cc70c0644559194793b6abdb3c4": {
          "model_module": "@jupyter-widgets/base",
          "model_name": "LayoutModel",
          "model_module_version": "1.2.0",
          "state": {
            "_model_module": "@jupyter-widgets/base",
            "_model_module_version": "1.2.0",
            "_model_name": "LayoutModel",
            "_view_count": null,
            "_view_module": "@jupyter-widgets/base",
            "_view_module_version": "1.2.0",
            "_view_name": "LayoutView",
            "align_content": null,
            "align_items": null,
            "align_self": null,
            "border": null,
            "bottom": null,
            "display": null,
            "flex": null,
            "flex_flow": null,
            "grid_area": null,
            "grid_auto_columns": null,
            "grid_auto_flow": null,
            "grid_auto_rows": null,
            "grid_column": null,
            "grid_gap": null,
            "grid_row": null,
            "grid_template_areas": null,
            "grid_template_columns": null,
            "grid_template_rows": null,
            "height": null,
            "justify_content": null,
            "justify_items": null,
            "left": null,
            "margin": null,
            "max_height": null,
            "max_width": null,
            "min_height": null,
            "min_width": null,
            "object_fit": null,
            "object_position": null,
            "order": null,
            "overflow": null,
            "overflow_x": null,
            "overflow_y": null,
            "padding": null,
            "right": null,
            "top": null,
            "visibility": null,
            "width": null
          }
        },
        "10490755f18740b78cd586e2eecfe5e8": {
          "model_module": "@jupyter-widgets/base",
          "model_name": "LayoutModel",
          "model_module_version": "1.2.0",
          "state": {
            "_model_module": "@jupyter-widgets/base",
            "_model_module_version": "1.2.0",
            "_model_name": "LayoutModel",
            "_view_count": null,
            "_view_module": "@jupyter-widgets/base",
            "_view_module_version": "1.2.0",
            "_view_name": "LayoutView",
            "align_content": null,
            "align_items": null,
            "align_self": null,
            "border": null,
            "bottom": null,
            "display": null,
            "flex": null,
            "flex_flow": null,
            "grid_area": null,
            "grid_auto_columns": null,
            "grid_auto_flow": null,
            "grid_auto_rows": null,
            "grid_column": null,
            "grid_gap": null,
            "grid_row": null,
            "grid_template_areas": null,
            "grid_template_columns": null,
            "grid_template_rows": null,
            "height": null,
            "justify_content": null,
            "justify_items": null,
            "left": null,
            "margin": null,
            "max_height": null,
            "max_width": null,
            "min_height": null,
            "min_width": null,
            "object_fit": null,
            "object_position": null,
            "order": null,
            "overflow": null,
            "overflow_x": null,
            "overflow_y": null,
            "padding": null,
            "right": null,
            "top": null,
            "visibility": null,
            "width": null
          }
        },
        "3e8381874d174de7855e16ddbec4aa46": {
          "model_module": "@jupyter-widgets/controls",
          "model_name": "DescriptionStyleModel",
          "model_module_version": "1.5.0",
          "state": {
            "_model_module": "@jupyter-widgets/controls",
            "_model_module_version": "1.5.0",
            "_model_name": "DescriptionStyleModel",
            "_view_count": null,
            "_view_module": "@jupyter-widgets/base",
            "_view_module_version": "1.2.0",
            "_view_name": "StyleView",
            "description_width": ""
          }
        },
        "9a4fce9c397f45aa8b5531adff4fe426": {
          "model_module": "@jupyter-widgets/base",
          "model_name": "LayoutModel",
          "model_module_version": "1.2.0",
          "state": {
            "_model_module": "@jupyter-widgets/base",
            "_model_module_version": "1.2.0",
            "_model_name": "LayoutModel",
            "_view_count": null,
            "_view_module": "@jupyter-widgets/base",
            "_view_module_version": "1.2.0",
            "_view_name": "LayoutView",
            "align_content": null,
            "align_items": null,
            "align_self": null,
            "border": null,
            "bottom": null,
            "display": null,
            "flex": null,
            "flex_flow": null,
            "grid_area": null,
            "grid_auto_columns": null,
            "grid_auto_flow": null,
            "grid_auto_rows": null,
            "grid_column": null,
            "grid_gap": null,
            "grid_row": null,
            "grid_template_areas": null,
            "grid_template_columns": null,
            "grid_template_rows": null,
            "height": null,
            "justify_content": null,
            "justify_items": null,
            "left": null,
            "margin": null,
            "max_height": null,
            "max_width": null,
            "min_height": null,
            "min_width": null,
            "object_fit": null,
            "object_position": null,
            "order": null,
            "overflow": null,
            "overflow_x": null,
            "overflow_y": null,
            "padding": null,
            "right": null,
            "top": null,
            "visibility": null,
            "width": null
          }
        },
        "3d3e60a1f3a446098a43a89fa9e7c5cb": {
          "model_module": "@jupyter-widgets/controls",
          "model_name": "ProgressStyleModel",
          "model_module_version": "1.5.0",
          "state": {
            "_model_module": "@jupyter-widgets/controls",
            "_model_module_version": "1.5.0",
            "_model_name": "ProgressStyleModel",
            "_view_count": null,
            "_view_module": "@jupyter-widgets/base",
            "_view_module_version": "1.2.0",
            "_view_name": "StyleView",
            "bar_color": null,
            "description_width": ""
          }
        },
        "1b461099de984ec79442b3ed89189d40": {
          "model_module": "@jupyter-widgets/base",
          "model_name": "LayoutModel",
          "model_module_version": "1.2.0",
          "state": {
            "_model_module": "@jupyter-widgets/base",
            "_model_module_version": "1.2.0",
            "_model_name": "LayoutModel",
            "_view_count": null,
            "_view_module": "@jupyter-widgets/base",
            "_view_module_version": "1.2.0",
            "_view_name": "LayoutView",
            "align_content": null,
            "align_items": null,
            "align_self": null,
            "border": null,
            "bottom": null,
            "display": null,
            "flex": null,
            "flex_flow": null,
            "grid_area": null,
            "grid_auto_columns": null,
            "grid_auto_flow": null,
            "grid_auto_rows": null,
            "grid_column": null,
            "grid_gap": null,
            "grid_row": null,
            "grid_template_areas": null,
            "grid_template_columns": null,
            "grid_template_rows": null,
            "height": null,
            "justify_content": null,
            "justify_items": null,
            "left": null,
            "margin": null,
            "max_height": null,
            "max_width": null,
            "min_height": null,
            "min_width": null,
            "object_fit": null,
            "object_position": null,
            "order": null,
            "overflow": null,
            "overflow_x": null,
            "overflow_y": null,
            "padding": null,
            "right": null,
            "top": null,
            "visibility": null,
            "width": null
          }
        },
        "7b799a7e6d964a588e88d7f2ea84f557": {
          "model_module": "@jupyter-widgets/controls",
          "model_name": "DescriptionStyleModel",
          "model_module_version": "1.5.0",
          "state": {
            "_model_module": "@jupyter-widgets/controls",
            "_model_module_version": "1.5.0",
            "_model_name": "DescriptionStyleModel",
            "_view_count": null,
            "_view_module": "@jupyter-widgets/base",
            "_view_module_version": "1.2.0",
            "_view_name": "StyleView",
            "description_width": ""
          }
        },
        "867b0ea463ae4cd7beff52d2bfc7fccc": {
          "model_module": "@jupyter-widgets/controls",
          "model_name": "HBoxModel",
          "model_module_version": "1.5.0",
          "state": {
            "_dom_classes": [],
            "_model_module": "@jupyter-widgets/controls",
            "_model_module_version": "1.5.0",
            "_model_name": "HBoxModel",
            "_view_count": null,
            "_view_module": "@jupyter-widgets/controls",
            "_view_module_version": "1.5.0",
            "_view_name": "HBoxView",
            "box_style": "",
            "children": [
              "IPY_MODEL_4a9ca16772ea4bfd958105db3aaeffb3",
              "IPY_MODEL_1dbdfc1a33b14f7d99c94b461542ccc7",
              "IPY_MODEL_23dad37965e64208b2780b395b456ef9"
            ],
            "layout": "IPY_MODEL_2f37e43377464442b0d30aa002c55a3d"
          }
        },
        "4a9ca16772ea4bfd958105db3aaeffb3": {
          "model_module": "@jupyter-widgets/controls",
          "model_name": "HTMLModel",
          "model_module_version": "1.5.0",
          "state": {
            "_dom_classes": [],
            "_model_module": "@jupyter-widgets/controls",
            "_model_module_version": "1.5.0",
            "_model_name": "HTMLModel",
            "_view_count": null,
            "_view_module": "@jupyter-widgets/controls",
            "_view_module_version": "1.5.0",
            "_view_name": "HTMLView",
            "description": "",
            "description_tooltip": null,
            "layout": "IPY_MODEL_61965b2f75184b99959119c15bf879ef",
            "placeholder": "​",
            "style": "IPY_MODEL_30be0e36b6364a1a91e12bb7d3b9c115",
            "value": "vocab.json: 100%"
          }
        },
        "1dbdfc1a33b14f7d99c94b461542ccc7": {
          "model_module": "@jupyter-widgets/controls",
          "model_name": "FloatProgressModel",
          "model_module_version": "1.5.0",
          "state": {
            "_dom_classes": [],
            "_model_module": "@jupyter-widgets/controls",
            "_model_module_version": "1.5.0",
            "_model_name": "FloatProgressModel",
            "_view_count": null,
            "_view_module": "@jupyter-widgets/controls",
            "_view_module_version": "1.5.0",
            "_view_name": "ProgressView",
            "bar_style": "success",
            "description": "",
            "description_tooltip": null,
            "layout": "IPY_MODEL_5a8b3809f7454b9f87ddaa51464b9efd",
            "max": 898823,
            "min": 0,
            "orientation": "horizontal",
            "style": "IPY_MODEL_24b5cd7a98f64e13bc52786fe0f98f5e",
            "value": 898823
          }
        },
        "23dad37965e64208b2780b395b456ef9": {
          "model_module": "@jupyter-widgets/controls",
          "model_name": "HTMLModel",
          "model_module_version": "1.5.0",
          "state": {
            "_dom_classes": [],
            "_model_module": "@jupyter-widgets/controls",
            "_model_module_version": "1.5.0",
            "_model_name": "HTMLModel",
            "_view_count": null,
            "_view_module": "@jupyter-widgets/controls",
            "_view_module_version": "1.5.0",
            "_view_name": "HTMLView",
            "description": "",
            "description_tooltip": null,
            "layout": "IPY_MODEL_27caf9eaffe4431584c67e061dbf4b19",
            "placeholder": "​",
            "style": "IPY_MODEL_b7686990093741bca50d5bacd76033d9",
            "value": " 899k/899k [00:00&lt;00:00, 5.75MB/s]"
          }
        },
        "2f37e43377464442b0d30aa002c55a3d": {
          "model_module": "@jupyter-widgets/base",
          "model_name": "LayoutModel",
          "model_module_version": "1.2.0",
          "state": {
            "_model_module": "@jupyter-widgets/base",
            "_model_module_version": "1.2.0",
            "_model_name": "LayoutModel",
            "_view_count": null,
            "_view_module": "@jupyter-widgets/base",
            "_view_module_version": "1.2.0",
            "_view_name": "LayoutView",
            "align_content": null,
            "align_items": null,
            "align_self": null,
            "border": null,
            "bottom": null,
            "display": null,
            "flex": null,
            "flex_flow": null,
            "grid_area": null,
            "grid_auto_columns": null,
            "grid_auto_flow": null,
            "grid_auto_rows": null,
            "grid_column": null,
            "grid_gap": null,
            "grid_row": null,
            "grid_template_areas": null,
            "grid_template_columns": null,
            "grid_template_rows": null,
            "height": null,
            "justify_content": null,
            "justify_items": null,
            "left": null,
            "margin": null,
            "max_height": null,
            "max_width": null,
            "min_height": null,
            "min_width": null,
            "object_fit": null,
            "object_position": null,
            "order": null,
            "overflow": null,
            "overflow_x": null,
            "overflow_y": null,
            "padding": null,
            "right": null,
            "top": null,
            "visibility": null,
            "width": null
          }
        },
        "61965b2f75184b99959119c15bf879ef": {
          "model_module": "@jupyter-widgets/base",
          "model_name": "LayoutModel",
          "model_module_version": "1.2.0",
          "state": {
            "_model_module": "@jupyter-widgets/base",
            "_model_module_version": "1.2.0",
            "_model_name": "LayoutModel",
            "_view_count": null,
            "_view_module": "@jupyter-widgets/base",
            "_view_module_version": "1.2.0",
            "_view_name": "LayoutView",
            "align_content": null,
            "align_items": null,
            "align_self": null,
            "border": null,
            "bottom": null,
            "display": null,
            "flex": null,
            "flex_flow": null,
            "grid_area": null,
            "grid_auto_columns": null,
            "grid_auto_flow": null,
            "grid_auto_rows": null,
            "grid_column": null,
            "grid_gap": null,
            "grid_row": null,
            "grid_template_areas": null,
            "grid_template_columns": null,
            "grid_template_rows": null,
            "height": null,
            "justify_content": null,
            "justify_items": null,
            "left": null,
            "margin": null,
            "max_height": null,
            "max_width": null,
            "min_height": null,
            "min_width": null,
            "object_fit": null,
            "object_position": null,
            "order": null,
            "overflow": null,
            "overflow_x": null,
            "overflow_y": null,
            "padding": null,
            "right": null,
            "top": null,
            "visibility": null,
            "width": null
          }
        },
        "30be0e36b6364a1a91e12bb7d3b9c115": {
          "model_module": "@jupyter-widgets/controls",
          "model_name": "DescriptionStyleModel",
          "model_module_version": "1.5.0",
          "state": {
            "_model_module": "@jupyter-widgets/controls",
            "_model_module_version": "1.5.0",
            "_model_name": "DescriptionStyleModel",
            "_view_count": null,
            "_view_module": "@jupyter-widgets/base",
            "_view_module_version": "1.2.0",
            "_view_name": "StyleView",
            "description_width": ""
          }
        },
        "5a8b3809f7454b9f87ddaa51464b9efd": {
          "model_module": "@jupyter-widgets/base",
          "model_name": "LayoutModel",
          "model_module_version": "1.2.0",
          "state": {
            "_model_module": "@jupyter-widgets/base",
            "_model_module_version": "1.2.0",
            "_model_name": "LayoutModel",
            "_view_count": null,
            "_view_module": "@jupyter-widgets/base",
            "_view_module_version": "1.2.0",
            "_view_name": "LayoutView",
            "align_content": null,
            "align_items": null,
            "align_self": null,
            "border": null,
            "bottom": null,
            "display": null,
            "flex": null,
            "flex_flow": null,
            "grid_area": null,
            "grid_auto_columns": null,
            "grid_auto_flow": null,
            "grid_auto_rows": null,
            "grid_column": null,
            "grid_gap": null,
            "grid_row": null,
            "grid_template_areas": null,
            "grid_template_columns": null,
            "grid_template_rows": null,
            "height": null,
            "justify_content": null,
            "justify_items": null,
            "left": null,
            "margin": null,
            "max_height": null,
            "max_width": null,
            "min_height": null,
            "min_width": null,
            "object_fit": null,
            "object_position": null,
            "order": null,
            "overflow": null,
            "overflow_x": null,
            "overflow_y": null,
            "padding": null,
            "right": null,
            "top": null,
            "visibility": null,
            "width": null
          }
        },
        "24b5cd7a98f64e13bc52786fe0f98f5e": {
          "model_module": "@jupyter-widgets/controls",
          "model_name": "ProgressStyleModel",
          "model_module_version": "1.5.0",
          "state": {
            "_model_module": "@jupyter-widgets/controls",
            "_model_module_version": "1.5.0",
            "_model_name": "ProgressStyleModel",
            "_view_count": null,
            "_view_module": "@jupyter-widgets/base",
            "_view_module_version": "1.2.0",
            "_view_name": "StyleView",
            "bar_color": null,
            "description_width": ""
          }
        },
        "27caf9eaffe4431584c67e061dbf4b19": {
          "model_module": "@jupyter-widgets/base",
          "model_name": "LayoutModel",
          "model_module_version": "1.2.0",
          "state": {
            "_model_module": "@jupyter-widgets/base",
            "_model_module_version": "1.2.0",
            "_model_name": "LayoutModel",
            "_view_count": null,
            "_view_module": "@jupyter-widgets/base",
            "_view_module_version": "1.2.0",
            "_view_name": "LayoutView",
            "align_content": null,
            "align_items": null,
            "align_self": null,
            "border": null,
            "bottom": null,
            "display": null,
            "flex": null,
            "flex_flow": null,
            "grid_area": null,
            "grid_auto_columns": null,
            "grid_auto_flow": null,
            "grid_auto_rows": null,
            "grid_column": null,
            "grid_gap": null,
            "grid_row": null,
            "grid_template_areas": null,
            "grid_template_columns": null,
            "grid_template_rows": null,
            "height": null,
            "justify_content": null,
            "justify_items": null,
            "left": null,
            "margin": null,
            "max_height": null,
            "max_width": null,
            "min_height": null,
            "min_width": null,
            "object_fit": null,
            "object_position": null,
            "order": null,
            "overflow": null,
            "overflow_x": null,
            "overflow_y": null,
            "padding": null,
            "right": null,
            "top": null,
            "visibility": null,
            "width": null
          }
        },
        "b7686990093741bca50d5bacd76033d9": {
          "model_module": "@jupyter-widgets/controls",
          "model_name": "DescriptionStyleModel",
          "model_module_version": "1.5.0",
          "state": {
            "_model_module": "@jupyter-widgets/controls",
            "_model_module_version": "1.5.0",
            "_model_name": "DescriptionStyleModel",
            "_view_count": null,
            "_view_module": "@jupyter-widgets/base",
            "_view_module_version": "1.2.0",
            "_view_name": "StyleView",
            "description_width": ""
          }
        },
        "0374559fddf8420d87479d69ad7440e9": {
          "model_module": "@jupyter-widgets/controls",
          "model_name": "HBoxModel",
          "model_module_version": "1.5.0",
          "state": {
            "_dom_classes": [],
            "_model_module": "@jupyter-widgets/controls",
            "_model_module_version": "1.5.0",
            "_model_name": "HBoxModel",
            "_view_count": null,
            "_view_module": "@jupyter-widgets/controls",
            "_view_module_version": "1.5.0",
            "_view_name": "HBoxView",
            "box_style": "",
            "children": [
              "IPY_MODEL_e1eac4322a9c45ff903771f79637219c",
              "IPY_MODEL_69fea59adaf5460eb5343f1e6e5e327c",
              "IPY_MODEL_ddbffe9158d046e8b8dc73dd7a88a769"
            ],
            "layout": "IPY_MODEL_bf6e1436b1d947219eff4a924d945145"
          }
        },
        "e1eac4322a9c45ff903771f79637219c": {
          "model_module": "@jupyter-widgets/controls",
          "model_name": "HTMLModel",
          "model_module_version": "1.5.0",
          "state": {
            "_dom_classes": [],
            "_model_module": "@jupyter-widgets/controls",
            "_model_module_version": "1.5.0",
            "_model_name": "HTMLModel",
            "_view_count": null,
            "_view_module": "@jupyter-widgets/controls",
            "_view_module_version": "1.5.0",
            "_view_name": "HTMLView",
            "description": "",
            "description_tooltip": null,
            "layout": "IPY_MODEL_9560951d935045d5bc66beec6c0f8351",
            "placeholder": "​",
            "style": "IPY_MODEL_7c25fec152124e028255b52df5089571",
            "value": "merges.txt: 100%"
          }
        },
        "69fea59adaf5460eb5343f1e6e5e327c": {
          "model_module": "@jupyter-widgets/controls",
          "model_name": "FloatProgressModel",
          "model_module_version": "1.5.0",
          "state": {
            "_dom_classes": [],
            "_model_module": "@jupyter-widgets/controls",
            "_model_module_version": "1.5.0",
            "_model_name": "FloatProgressModel",
            "_view_count": null,
            "_view_module": "@jupyter-widgets/controls",
            "_view_module_version": "1.5.0",
            "_view_name": "ProgressView",
            "bar_style": "success",
            "description": "",
            "description_tooltip": null,
            "layout": "IPY_MODEL_d96ac654202e459c8f42668236af47a4",
            "max": 456318,
            "min": 0,
            "orientation": "horizontal",
            "style": "IPY_MODEL_bdca2a29a4424f658223b810355bfab9",
            "value": 456318
          }
        },
        "ddbffe9158d046e8b8dc73dd7a88a769": {
          "model_module": "@jupyter-widgets/controls",
          "model_name": "HTMLModel",
          "model_module_version": "1.5.0",
          "state": {
            "_dom_classes": [],
            "_model_module": "@jupyter-widgets/controls",
            "_model_module_version": "1.5.0",
            "_model_name": "HTMLModel",
            "_view_count": null,
            "_view_module": "@jupyter-widgets/controls",
            "_view_module_version": "1.5.0",
            "_view_name": "HTMLView",
            "description": "",
            "description_tooltip": null,
            "layout": "IPY_MODEL_2fb57845be8c49b3b2b54f5e8a190abe",
            "placeholder": "​",
            "style": "IPY_MODEL_0a8defc612c14e298f4884632582e3da",
            "value": " 456k/456k [00:00&lt;00:00, 7.41MB/s]"
          }
        },
        "bf6e1436b1d947219eff4a924d945145": {
          "model_module": "@jupyter-widgets/base",
          "model_name": "LayoutModel",
          "model_module_version": "1.2.0",
          "state": {
            "_model_module": "@jupyter-widgets/base",
            "_model_module_version": "1.2.0",
            "_model_name": "LayoutModel",
            "_view_count": null,
            "_view_module": "@jupyter-widgets/base",
            "_view_module_version": "1.2.0",
            "_view_name": "LayoutView",
            "align_content": null,
            "align_items": null,
            "align_self": null,
            "border": null,
            "bottom": null,
            "display": null,
            "flex": null,
            "flex_flow": null,
            "grid_area": null,
            "grid_auto_columns": null,
            "grid_auto_flow": null,
            "grid_auto_rows": null,
            "grid_column": null,
            "grid_gap": null,
            "grid_row": null,
            "grid_template_areas": null,
            "grid_template_columns": null,
            "grid_template_rows": null,
            "height": null,
            "justify_content": null,
            "justify_items": null,
            "left": null,
            "margin": null,
            "max_height": null,
            "max_width": null,
            "min_height": null,
            "min_width": null,
            "object_fit": null,
            "object_position": null,
            "order": null,
            "overflow": null,
            "overflow_x": null,
            "overflow_y": null,
            "padding": null,
            "right": null,
            "top": null,
            "visibility": null,
            "width": null
          }
        },
        "9560951d935045d5bc66beec6c0f8351": {
          "model_module": "@jupyter-widgets/base",
          "model_name": "LayoutModel",
          "model_module_version": "1.2.0",
          "state": {
            "_model_module": "@jupyter-widgets/base",
            "_model_module_version": "1.2.0",
            "_model_name": "LayoutModel",
            "_view_count": null,
            "_view_module": "@jupyter-widgets/base",
            "_view_module_version": "1.2.0",
            "_view_name": "LayoutView",
            "align_content": null,
            "align_items": null,
            "align_self": null,
            "border": null,
            "bottom": null,
            "display": null,
            "flex": null,
            "flex_flow": null,
            "grid_area": null,
            "grid_auto_columns": null,
            "grid_auto_flow": null,
            "grid_auto_rows": null,
            "grid_column": null,
            "grid_gap": null,
            "grid_row": null,
            "grid_template_areas": null,
            "grid_template_columns": null,
            "grid_template_rows": null,
            "height": null,
            "justify_content": null,
            "justify_items": null,
            "left": null,
            "margin": null,
            "max_height": null,
            "max_width": null,
            "min_height": null,
            "min_width": null,
            "object_fit": null,
            "object_position": null,
            "order": null,
            "overflow": null,
            "overflow_x": null,
            "overflow_y": null,
            "padding": null,
            "right": null,
            "top": null,
            "visibility": null,
            "width": null
          }
        },
        "7c25fec152124e028255b52df5089571": {
          "model_module": "@jupyter-widgets/controls",
          "model_name": "DescriptionStyleModel",
          "model_module_version": "1.5.0",
          "state": {
            "_model_module": "@jupyter-widgets/controls",
            "_model_module_version": "1.5.0",
            "_model_name": "DescriptionStyleModel",
            "_view_count": null,
            "_view_module": "@jupyter-widgets/base",
            "_view_module_version": "1.2.0",
            "_view_name": "StyleView",
            "description_width": ""
          }
        },
        "d96ac654202e459c8f42668236af47a4": {
          "model_module": "@jupyter-widgets/base",
          "model_name": "LayoutModel",
          "model_module_version": "1.2.0",
          "state": {
            "_model_module": "@jupyter-widgets/base",
            "_model_module_version": "1.2.0",
            "_model_name": "LayoutModel",
            "_view_count": null,
            "_view_module": "@jupyter-widgets/base",
            "_view_module_version": "1.2.0",
            "_view_name": "LayoutView",
            "align_content": null,
            "align_items": null,
            "align_self": null,
            "border": null,
            "bottom": null,
            "display": null,
            "flex": null,
            "flex_flow": null,
            "grid_area": null,
            "grid_auto_columns": null,
            "grid_auto_flow": null,
            "grid_auto_rows": null,
            "grid_column": null,
            "grid_gap": null,
            "grid_row": null,
            "grid_template_areas": null,
            "grid_template_columns": null,
            "grid_template_rows": null,
            "height": null,
            "justify_content": null,
            "justify_items": null,
            "left": null,
            "margin": null,
            "max_height": null,
            "max_width": null,
            "min_height": null,
            "min_width": null,
            "object_fit": null,
            "object_position": null,
            "order": null,
            "overflow": null,
            "overflow_x": null,
            "overflow_y": null,
            "padding": null,
            "right": null,
            "top": null,
            "visibility": null,
            "width": null
          }
        },
        "bdca2a29a4424f658223b810355bfab9": {
          "model_module": "@jupyter-widgets/controls",
          "model_name": "ProgressStyleModel",
          "model_module_version": "1.5.0",
          "state": {
            "_model_module": "@jupyter-widgets/controls",
            "_model_module_version": "1.5.0",
            "_model_name": "ProgressStyleModel",
            "_view_count": null,
            "_view_module": "@jupyter-widgets/base",
            "_view_module_version": "1.2.0",
            "_view_name": "StyleView",
            "bar_color": null,
            "description_width": ""
          }
        },
        "2fb57845be8c49b3b2b54f5e8a190abe": {
          "model_module": "@jupyter-widgets/base",
          "model_name": "LayoutModel",
          "model_module_version": "1.2.0",
          "state": {
            "_model_module": "@jupyter-widgets/base",
            "_model_module_version": "1.2.0",
            "_model_name": "LayoutModel",
            "_view_count": null,
            "_view_module": "@jupyter-widgets/base",
            "_view_module_version": "1.2.0",
            "_view_name": "LayoutView",
            "align_content": null,
            "align_items": null,
            "align_self": null,
            "border": null,
            "bottom": null,
            "display": null,
            "flex": null,
            "flex_flow": null,
            "grid_area": null,
            "grid_auto_columns": null,
            "grid_auto_flow": null,
            "grid_auto_rows": null,
            "grid_column": null,
            "grid_gap": null,
            "grid_row": null,
            "grid_template_areas": null,
            "grid_template_columns": null,
            "grid_template_rows": null,
            "height": null,
            "justify_content": null,
            "justify_items": null,
            "left": null,
            "margin": null,
            "max_height": null,
            "max_width": null,
            "min_height": null,
            "min_width": null,
            "object_fit": null,
            "object_position": null,
            "order": null,
            "overflow": null,
            "overflow_x": null,
            "overflow_y": null,
            "padding": null,
            "right": null,
            "top": null,
            "visibility": null,
            "width": null
          }
        },
        "0a8defc612c14e298f4884632582e3da": {
          "model_module": "@jupyter-widgets/controls",
          "model_name": "DescriptionStyleModel",
          "model_module_version": "1.5.0",
          "state": {
            "_model_module": "@jupyter-widgets/controls",
            "_model_module_version": "1.5.0",
            "_model_name": "DescriptionStyleModel",
            "_view_count": null,
            "_view_module": "@jupyter-widgets/base",
            "_view_module_version": "1.2.0",
            "_view_name": "StyleView",
            "description_width": ""
          }
        },
        "a8b678ac548747ee8b781e1497b600ee": {
          "model_module": "@jupyter-widgets/controls",
          "model_name": "HBoxModel",
          "model_module_version": "1.5.0",
          "state": {
            "_dom_classes": [],
            "_model_module": "@jupyter-widgets/controls",
            "_model_module_version": "1.5.0",
            "_model_name": "HBoxModel",
            "_view_count": null,
            "_view_module": "@jupyter-widgets/controls",
            "_view_module_version": "1.5.0",
            "_view_name": "HBoxView",
            "box_style": "",
            "children": [
              "IPY_MODEL_22080656efb24981b923c7703e5940c5",
              "IPY_MODEL_74deba0a41c24737b265f6536e0cd91f",
              "IPY_MODEL_751ce9c80d7041aabaaabd52419b464a"
            ],
            "layout": "IPY_MODEL_d495cf65b19241d9aca4d33526c8b8c6"
          }
        },
        "22080656efb24981b923c7703e5940c5": {
          "model_module": "@jupyter-widgets/controls",
          "model_name": "HTMLModel",
          "model_module_version": "1.5.0",
          "state": {
            "_dom_classes": [],
            "_model_module": "@jupyter-widgets/controls",
            "_model_module_version": "1.5.0",
            "_model_name": "HTMLModel",
            "_view_count": null,
            "_view_module": "@jupyter-widgets/controls",
            "_view_module_version": "1.5.0",
            "_view_name": "HTMLView",
            "description": "",
            "description_tooltip": null,
            "layout": "IPY_MODEL_9be877e5a4b74f2c9d9733a56e40e2cb",
            "placeholder": "​",
            "style": "IPY_MODEL_ae38d75147a9474ea12bf6a3515081fe",
            "value": "tokenizer.json: 100%"
          }
        },
        "74deba0a41c24737b265f6536e0cd91f": {
          "model_module": "@jupyter-widgets/controls",
          "model_name": "FloatProgressModel",
          "model_module_version": "1.5.0",
          "state": {
            "_dom_classes": [],
            "_model_module": "@jupyter-widgets/controls",
            "_model_module_version": "1.5.0",
            "_model_name": "FloatProgressModel",
            "_view_count": null,
            "_view_module": "@jupyter-widgets/controls",
            "_view_module_version": "1.5.0",
            "_view_name": "ProgressView",
            "bar_style": "success",
            "description": "",
            "description_tooltip": null,
            "layout": "IPY_MODEL_600b4ca74e554b3f8a3b768e1f1290c6",
            "max": 1355863,
            "min": 0,
            "orientation": "horizontal",
            "style": "IPY_MODEL_98bb63fa52e84d2581bf3a4aba80249a",
            "value": 1355863
          }
        },
        "751ce9c80d7041aabaaabd52419b464a": {
          "model_module": "@jupyter-widgets/controls",
          "model_name": "HTMLModel",
          "model_module_version": "1.5.0",
          "state": {
            "_dom_classes": [],
            "_model_module": "@jupyter-widgets/controls",
            "_model_module_version": "1.5.0",
            "_model_name": "HTMLModel",
            "_view_count": null,
            "_view_module": "@jupyter-widgets/controls",
            "_view_module_version": "1.5.0",
            "_view_name": "HTMLView",
            "description": "",
            "description_tooltip": null,
            "layout": "IPY_MODEL_a661e4795f19417da5bea254d8afd150",
            "placeholder": "​",
            "style": "IPY_MODEL_502cbe88a1df45a58db99590aae8f385",
            "value": " 1.36M/1.36M [00:00&lt;00:00, 9.67MB/s]"
          }
        },
        "d495cf65b19241d9aca4d33526c8b8c6": {
          "model_module": "@jupyter-widgets/base",
          "model_name": "LayoutModel",
          "model_module_version": "1.2.0",
          "state": {
            "_model_module": "@jupyter-widgets/base",
            "_model_module_version": "1.2.0",
            "_model_name": "LayoutModel",
            "_view_count": null,
            "_view_module": "@jupyter-widgets/base",
            "_view_module_version": "1.2.0",
            "_view_name": "LayoutView",
            "align_content": null,
            "align_items": null,
            "align_self": null,
            "border": null,
            "bottom": null,
            "display": null,
            "flex": null,
            "flex_flow": null,
            "grid_area": null,
            "grid_auto_columns": null,
            "grid_auto_flow": null,
            "grid_auto_rows": null,
            "grid_column": null,
            "grid_gap": null,
            "grid_row": null,
            "grid_template_areas": null,
            "grid_template_columns": null,
            "grid_template_rows": null,
            "height": null,
            "justify_content": null,
            "justify_items": null,
            "left": null,
            "margin": null,
            "max_height": null,
            "max_width": null,
            "min_height": null,
            "min_width": null,
            "object_fit": null,
            "object_position": null,
            "order": null,
            "overflow": null,
            "overflow_x": null,
            "overflow_y": null,
            "padding": null,
            "right": null,
            "top": null,
            "visibility": null,
            "width": null
          }
        },
        "9be877e5a4b74f2c9d9733a56e40e2cb": {
          "model_module": "@jupyter-widgets/base",
          "model_name": "LayoutModel",
          "model_module_version": "1.2.0",
          "state": {
            "_model_module": "@jupyter-widgets/base",
            "_model_module_version": "1.2.0",
            "_model_name": "LayoutModel",
            "_view_count": null,
            "_view_module": "@jupyter-widgets/base",
            "_view_module_version": "1.2.0",
            "_view_name": "LayoutView",
            "align_content": null,
            "align_items": null,
            "align_self": null,
            "border": null,
            "bottom": null,
            "display": null,
            "flex": null,
            "flex_flow": null,
            "grid_area": null,
            "grid_auto_columns": null,
            "grid_auto_flow": null,
            "grid_auto_rows": null,
            "grid_column": null,
            "grid_gap": null,
            "grid_row": null,
            "grid_template_areas": null,
            "grid_template_columns": null,
            "grid_template_rows": null,
            "height": null,
            "justify_content": null,
            "justify_items": null,
            "left": null,
            "margin": null,
            "max_height": null,
            "max_width": null,
            "min_height": null,
            "min_width": null,
            "object_fit": null,
            "object_position": null,
            "order": null,
            "overflow": null,
            "overflow_x": null,
            "overflow_y": null,
            "padding": null,
            "right": null,
            "top": null,
            "visibility": null,
            "width": null
          }
        },
        "ae38d75147a9474ea12bf6a3515081fe": {
          "model_module": "@jupyter-widgets/controls",
          "model_name": "DescriptionStyleModel",
          "model_module_version": "1.5.0",
          "state": {
            "_model_module": "@jupyter-widgets/controls",
            "_model_module_version": "1.5.0",
            "_model_name": "DescriptionStyleModel",
            "_view_count": null,
            "_view_module": "@jupyter-widgets/base",
            "_view_module_version": "1.2.0",
            "_view_name": "StyleView",
            "description_width": ""
          }
        },
        "600b4ca74e554b3f8a3b768e1f1290c6": {
          "model_module": "@jupyter-widgets/base",
          "model_name": "LayoutModel",
          "model_module_version": "1.2.0",
          "state": {
            "_model_module": "@jupyter-widgets/base",
            "_model_module_version": "1.2.0",
            "_model_name": "LayoutModel",
            "_view_count": null,
            "_view_module": "@jupyter-widgets/base",
            "_view_module_version": "1.2.0",
            "_view_name": "LayoutView",
            "align_content": null,
            "align_items": null,
            "align_self": null,
            "border": null,
            "bottom": null,
            "display": null,
            "flex": null,
            "flex_flow": null,
            "grid_area": null,
            "grid_auto_columns": null,
            "grid_auto_flow": null,
            "grid_auto_rows": null,
            "grid_column": null,
            "grid_gap": null,
            "grid_row": null,
            "grid_template_areas": null,
            "grid_template_columns": null,
            "grid_template_rows": null,
            "height": null,
            "justify_content": null,
            "justify_items": null,
            "left": null,
            "margin": null,
            "max_height": null,
            "max_width": null,
            "min_height": null,
            "min_width": null,
            "object_fit": null,
            "object_position": null,
            "order": null,
            "overflow": null,
            "overflow_x": null,
            "overflow_y": null,
            "padding": null,
            "right": null,
            "top": null,
            "visibility": null,
            "width": null
          }
        },
        "98bb63fa52e84d2581bf3a4aba80249a": {
          "model_module": "@jupyter-widgets/controls",
          "model_name": "ProgressStyleModel",
          "model_module_version": "1.5.0",
          "state": {
            "_model_module": "@jupyter-widgets/controls",
            "_model_module_version": "1.5.0",
            "_model_name": "ProgressStyleModel",
            "_view_count": null,
            "_view_module": "@jupyter-widgets/base",
            "_view_module_version": "1.2.0",
            "_view_name": "StyleView",
            "bar_color": null,
            "description_width": ""
          }
        },
        "a661e4795f19417da5bea254d8afd150": {
          "model_module": "@jupyter-widgets/base",
          "model_name": "LayoutModel",
          "model_module_version": "1.2.0",
          "state": {
            "_model_module": "@jupyter-widgets/base",
            "_model_module_version": "1.2.0",
            "_model_name": "LayoutModel",
            "_view_count": null,
            "_view_module": "@jupyter-widgets/base",
            "_view_module_version": "1.2.0",
            "_view_name": "LayoutView",
            "align_content": null,
            "align_items": null,
            "align_self": null,
            "border": null,
            "bottom": null,
            "display": null,
            "flex": null,
            "flex_flow": null,
            "grid_area": null,
            "grid_auto_columns": null,
            "grid_auto_flow": null,
            "grid_auto_rows": null,
            "grid_column": null,
            "grid_gap": null,
            "grid_row": null,
            "grid_template_areas": null,
            "grid_template_columns": null,
            "grid_template_rows": null,
            "height": null,
            "justify_content": null,
            "justify_items": null,
            "left": null,
            "margin": null,
            "max_height": null,
            "max_width": null,
            "min_height": null,
            "min_width": null,
            "object_fit": null,
            "object_position": null,
            "order": null,
            "overflow": null,
            "overflow_x": null,
            "overflow_y": null,
            "padding": null,
            "right": null,
            "top": null,
            "visibility": null,
            "width": null
          }
        },
        "502cbe88a1df45a58db99590aae8f385": {
          "model_module": "@jupyter-widgets/controls",
          "model_name": "DescriptionStyleModel",
          "model_module_version": "1.5.0",
          "state": {
            "_model_module": "@jupyter-widgets/controls",
            "_model_module_version": "1.5.0",
            "_model_name": "DescriptionStyleModel",
            "_view_count": null,
            "_view_module": "@jupyter-widgets/base",
            "_view_module_version": "1.2.0",
            "_view_name": "StyleView",
            "description_width": ""
          }
        },
        "8ad5e3f852894053837dab68a5ab3103": {
          "model_module": "@jupyter-widgets/controls",
          "model_name": "HBoxModel",
          "model_module_version": "1.5.0",
          "state": {
            "_dom_classes": [],
            "_model_module": "@jupyter-widgets/controls",
            "_model_module_version": "1.5.0",
            "_model_name": "HBoxModel",
            "_view_count": null,
            "_view_module": "@jupyter-widgets/controls",
            "_view_module_version": "1.5.0",
            "_view_name": "HBoxView",
            "box_style": "",
            "children": [
              "IPY_MODEL_bed049427cd445b7a8ba866555112dcf",
              "IPY_MODEL_837c515fb9c749aca4b49a5f4e9f757e",
              "IPY_MODEL_06f5cd35636c4dfca4d48c6b6814e489"
            ],
            "layout": "IPY_MODEL_4cd8f0018e844aa5a8146c6aa2761640"
          }
        },
        "bed049427cd445b7a8ba866555112dcf": {
          "model_module": "@jupyter-widgets/controls",
          "model_name": "HTMLModel",
          "model_module_version": "1.5.0",
          "state": {
            "_dom_classes": [],
            "_model_module": "@jupyter-widgets/controls",
            "_model_module_version": "1.5.0",
            "_model_name": "HTMLModel",
            "_view_count": null,
            "_view_module": "@jupyter-widgets/controls",
            "_view_module_version": "1.5.0",
            "_view_name": "HTMLView",
            "description": "",
            "description_tooltip": null,
            "layout": "IPY_MODEL_a0ab5eac70af458da92e5b779461b52c",
            "placeholder": "​",
            "style": "IPY_MODEL_6d0bdf4b33f241179fe2d6a478307e9b",
            "value": "model.safetensors: 100%"
          }
        },
        "837c515fb9c749aca4b49a5f4e9f757e": {
          "model_module": "@jupyter-widgets/controls",
          "model_name": "FloatProgressModel",
          "model_module_version": "1.5.0",
          "state": {
            "_dom_classes": [],
            "_model_module": "@jupyter-widgets/controls",
            "_model_module_version": "1.5.0",
            "_model_name": "FloatProgressModel",
            "_view_count": null,
            "_view_module": "@jupyter-widgets/controls",
            "_view_module_version": "1.5.0",
            "_view_name": "ProgressView",
            "bar_style": "success",
            "description": "",
            "description_tooltip": null,
            "layout": "IPY_MODEL_c406352d92a84f8195f50ecbd95dd874",
            "max": 1625222120,
            "min": 0,
            "orientation": "horizontal",
            "style": "IPY_MODEL_9be8bc6142d6494f80479ddd617dd26d",
            "value": 1625222120
          }
        },
        "06f5cd35636c4dfca4d48c6b6814e489": {
          "model_module": "@jupyter-widgets/controls",
          "model_name": "HTMLModel",
          "model_module_version": "1.5.0",
          "state": {
            "_dom_classes": [],
            "_model_module": "@jupyter-widgets/controls",
            "_model_module_version": "1.5.0",
            "_model_name": "HTMLModel",
            "_view_count": null,
            "_view_module": "@jupyter-widgets/controls",
            "_view_module_version": "1.5.0",
            "_view_name": "HTMLView",
            "description": "",
            "description_tooltip": null,
            "layout": "IPY_MODEL_def612a8a59541cea1dfc7eb9f002bfd",
            "placeholder": "​",
            "style": "IPY_MODEL_0b8283fbc482441f9ba6b610459cbe64",
            "value": " 1.63G/1.63G [00:18&lt;00:00, 100MB/s]"
          }
        },
        "4cd8f0018e844aa5a8146c6aa2761640": {
          "model_module": "@jupyter-widgets/base",
          "model_name": "LayoutModel",
          "model_module_version": "1.2.0",
          "state": {
            "_model_module": "@jupyter-widgets/base",
            "_model_module_version": "1.2.0",
            "_model_name": "LayoutModel",
            "_view_count": null,
            "_view_module": "@jupyter-widgets/base",
            "_view_module_version": "1.2.0",
            "_view_name": "LayoutView",
            "align_content": null,
            "align_items": null,
            "align_self": null,
            "border": null,
            "bottom": null,
            "display": null,
            "flex": null,
            "flex_flow": null,
            "grid_area": null,
            "grid_auto_columns": null,
            "grid_auto_flow": null,
            "grid_auto_rows": null,
            "grid_column": null,
            "grid_gap": null,
            "grid_row": null,
            "grid_template_areas": null,
            "grid_template_columns": null,
            "grid_template_rows": null,
            "height": null,
            "justify_content": null,
            "justify_items": null,
            "left": null,
            "margin": null,
            "max_height": null,
            "max_width": null,
            "min_height": null,
            "min_width": null,
            "object_fit": null,
            "object_position": null,
            "order": null,
            "overflow": null,
            "overflow_x": null,
            "overflow_y": null,
            "padding": null,
            "right": null,
            "top": null,
            "visibility": null,
            "width": null
          }
        },
        "a0ab5eac70af458da92e5b779461b52c": {
          "model_module": "@jupyter-widgets/base",
          "model_name": "LayoutModel",
          "model_module_version": "1.2.0",
          "state": {
            "_model_module": "@jupyter-widgets/base",
            "_model_module_version": "1.2.0",
            "_model_name": "LayoutModel",
            "_view_count": null,
            "_view_module": "@jupyter-widgets/base",
            "_view_module_version": "1.2.0",
            "_view_name": "LayoutView",
            "align_content": null,
            "align_items": null,
            "align_self": null,
            "border": null,
            "bottom": null,
            "display": null,
            "flex": null,
            "flex_flow": null,
            "grid_area": null,
            "grid_auto_columns": null,
            "grid_auto_flow": null,
            "grid_auto_rows": null,
            "grid_column": null,
            "grid_gap": null,
            "grid_row": null,
            "grid_template_areas": null,
            "grid_template_columns": null,
            "grid_template_rows": null,
            "height": null,
            "justify_content": null,
            "justify_items": null,
            "left": null,
            "margin": null,
            "max_height": null,
            "max_width": null,
            "min_height": null,
            "min_width": null,
            "object_fit": null,
            "object_position": null,
            "order": null,
            "overflow": null,
            "overflow_x": null,
            "overflow_y": null,
            "padding": null,
            "right": null,
            "top": null,
            "visibility": null,
            "width": null
          }
        },
        "6d0bdf4b33f241179fe2d6a478307e9b": {
          "model_module": "@jupyter-widgets/controls",
          "model_name": "DescriptionStyleModel",
          "model_module_version": "1.5.0",
          "state": {
            "_model_module": "@jupyter-widgets/controls",
            "_model_module_version": "1.5.0",
            "_model_name": "DescriptionStyleModel",
            "_view_count": null,
            "_view_module": "@jupyter-widgets/base",
            "_view_module_version": "1.2.0",
            "_view_name": "StyleView",
            "description_width": ""
          }
        },
        "c406352d92a84f8195f50ecbd95dd874": {
          "model_module": "@jupyter-widgets/base",
          "model_name": "LayoutModel",
          "model_module_version": "1.2.0",
          "state": {
            "_model_module": "@jupyter-widgets/base",
            "_model_module_version": "1.2.0",
            "_model_name": "LayoutModel",
            "_view_count": null,
            "_view_module": "@jupyter-widgets/base",
            "_view_module_version": "1.2.0",
            "_view_name": "LayoutView",
            "align_content": null,
            "align_items": null,
            "align_self": null,
            "border": null,
            "bottom": null,
            "display": null,
            "flex": null,
            "flex_flow": null,
            "grid_area": null,
            "grid_auto_columns": null,
            "grid_auto_flow": null,
            "grid_auto_rows": null,
            "grid_column": null,
            "grid_gap": null,
            "grid_row": null,
            "grid_template_areas": null,
            "grid_template_columns": null,
            "grid_template_rows": null,
            "height": null,
            "justify_content": null,
            "justify_items": null,
            "left": null,
            "margin": null,
            "max_height": null,
            "max_width": null,
            "min_height": null,
            "min_width": null,
            "object_fit": null,
            "object_position": null,
            "order": null,
            "overflow": null,
            "overflow_x": null,
            "overflow_y": null,
            "padding": null,
            "right": null,
            "top": null,
            "visibility": null,
            "width": null
          }
        },
        "9be8bc6142d6494f80479ddd617dd26d": {
          "model_module": "@jupyter-widgets/controls",
          "model_name": "ProgressStyleModel",
          "model_module_version": "1.5.0",
          "state": {
            "_model_module": "@jupyter-widgets/controls",
            "_model_module_version": "1.5.0",
            "_model_name": "ProgressStyleModel",
            "_view_count": null,
            "_view_module": "@jupyter-widgets/base",
            "_view_module_version": "1.2.0",
            "_view_name": "StyleView",
            "bar_color": null,
            "description_width": ""
          }
        },
        "def612a8a59541cea1dfc7eb9f002bfd": {
          "model_module": "@jupyter-widgets/base",
          "model_name": "LayoutModel",
          "model_module_version": "1.2.0",
          "state": {
            "_model_module": "@jupyter-widgets/base",
            "_model_module_version": "1.2.0",
            "_model_name": "LayoutModel",
            "_view_count": null,
            "_view_module": "@jupyter-widgets/base",
            "_view_module_version": "1.2.0",
            "_view_name": "LayoutView",
            "align_content": null,
            "align_items": null,
            "align_self": null,
            "border": null,
            "bottom": null,
            "display": null,
            "flex": null,
            "flex_flow": null,
            "grid_area": null,
            "grid_auto_columns": null,
            "grid_auto_flow": null,
            "grid_auto_rows": null,
            "grid_column": null,
            "grid_gap": null,
            "grid_row": null,
            "grid_template_areas": null,
            "grid_template_columns": null,
            "grid_template_rows": null,
            "height": null,
            "justify_content": null,
            "justify_items": null,
            "left": null,
            "margin": null,
            "max_height": null,
            "max_width": null,
            "min_height": null,
            "min_width": null,
            "object_fit": null,
            "object_position": null,
            "order": null,
            "overflow": null,
            "overflow_x": null,
            "overflow_y": null,
            "padding": null,
            "right": null,
            "top": null,
            "visibility": null,
            "width": null
          }
        },
        "0b8283fbc482441f9ba6b610459cbe64": {
          "model_module": "@jupyter-widgets/controls",
          "model_name": "DescriptionStyleModel",
          "model_module_version": "1.5.0",
          "state": {
            "_model_module": "@jupyter-widgets/controls",
            "_model_module_version": "1.5.0",
            "_model_name": "DescriptionStyleModel",
            "_view_count": null,
            "_view_module": "@jupyter-widgets/base",
            "_view_module_version": "1.2.0",
            "_view_name": "StyleView",
            "description_width": ""
          }
        },
        "6860d8639bdc4d60ae48b5fd216037a3": {
          "model_module": "@jupyter-widgets/controls",
          "model_name": "HBoxModel",
          "model_module_version": "1.5.0",
          "state": {
            "_dom_classes": [],
            "_model_module": "@jupyter-widgets/controls",
            "_model_module_version": "1.5.0",
            "_model_name": "HBoxModel",
            "_view_count": null,
            "_view_module": "@jupyter-widgets/controls",
            "_view_module_version": "1.5.0",
            "_view_name": "HBoxView",
            "box_style": "",
            "children": [
              "IPY_MODEL_2b0badc2719d4a579913e7e1bb5fbdca",
              "IPY_MODEL_1952c2d8268248bdbd5cbc66da9d300a",
              "IPY_MODEL_050cf7aa67b34aa1acce640906d58c91"
            ],
            "layout": "IPY_MODEL_a1f6d25bae224ced83f51f056c7043a4"
          }
        },
        "2b0badc2719d4a579913e7e1bb5fbdca": {
          "model_module": "@jupyter-widgets/controls",
          "model_name": "HTMLModel",
          "model_module_version": "1.5.0",
          "state": {
            "_dom_classes": [],
            "_model_module": "@jupyter-widgets/controls",
            "_model_module_version": "1.5.0",
            "_model_name": "HTMLModel",
            "_view_count": null,
            "_view_module": "@jupyter-widgets/controls",
            "_view_module_version": "1.5.0",
            "_view_name": "HTMLView",
            "description": "",
            "description_tooltip": null,
            "layout": "IPY_MODEL_5202cd72ebbd44d2ad4d928e3d75510b",
            "placeholder": "​",
            "style": "IPY_MODEL_24f2473dda504fb08bae50880d59c558",
            "value": "generation_config.json: 100%"
          }
        },
        "1952c2d8268248bdbd5cbc66da9d300a": {
          "model_module": "@jupyter-widgets/controls",
          "model_name": "FloatProgressModel",
          "model_module_version": "1.5.0",
          "state": {
            "_dom_classes": [],
            "_model_module": "@jupyter-widgets/controls",
            "_model_module_version": "1.5.0",
            "_model_name": "FloatProgressModel",
            "_view_count": null,
            "_view_module": "@jupyter-widgets/controls",
            "_view_module_version": "1.5.0",
            "_view_name": "ProgressView",
            "bar_style": "success",
            "description": "",
            "description_tooltip": null,
            "layout": "IPY_MODEL_06cd91baf2234eb6bbb6becdb93ca77b",
            "max": 363,
            "min": 0,
            "orientation": "horizontal",
            "style": "IPY_MODEL_351e9068220f45f3868215510d5f7961",
            "value": 363
          }
        },
        "050cf7aa67b34aa1acce640906d58c91": {
          "model_module": "@jupyter-widgets/controls",
          "model_name": "HTMLModel",
          "model_module_version": "1.5.0",
          "state": {
            "_dom_classes": [],
            "_model_module": "@jupyter-widgets/controls",
            "_model_module_version": "1.5.0",
            "_model_name": "HTMLModel",
            "_view_count": null,
            "_view_module": "@jupyter-widgets/controls",
            "_view_module_version": "1.5.0",
            "_view_name": "HTMLView",
            "description": "",
            "description_tooltip": null,
            "layout": "IPY_MODEL_407f14647eea4b7eacd16dd057a72bf1",
            "placeholder": "​",
            "style": "IPY_MODEL_a53813365eea4a0380510c0d14cc9e7d",
            "value": " 363/363 [00:00&lt;00:00, 9.18kB/s]"
          }
        },
        "a1f6d25bae224ced83f51f056c7043a4": {
          "model_module": "@jupyter-widgets/base",
          "model_name": "LayoutModel",
          "model_module_version": "1.2.0",
          "state": {
            "_model_module": "@jupyter-widgets/base",
            "_model_module_version": "1.2.0",
            "_model_name": "LayoutModel",
            "_view_count": null,
            "_view_module": "@jupyter-widgets/base",
            "_view_module_version": "1.2.0",
            "_view_name": "LayoutView",
            "align_content": null,
            "align_items": null,
            "align_self": null,
            "border": null,
            "bottom": null,
            "display": null,
            "flex": null,
            "flex_flow": null,
            "grid_area": null,
            "grid_auto_columns": null,
            "grid_auto_flow": null,
            "grid_auto_rows": null,
            "grid_column": null,
            "grid_gap": null,
            "grid_row": null,
            "grid_template_areas": null,
            "grid_template_columns": null,
            "grid_template_rows": null,
            "height": null,
            "justify_content": null,
            "justify_items": null,
            "left": null,
            "margin": null,
            "max_height": null,
            "max_width": null,
            "min_height": null,
            "min_width": null,
            "object_fit": null,
            "object_position": null,
            "order": null,
            "overflow": null,
            "overflow_x": null,
            "overflow_y": null,
            "padding": null,
            "right": null,
            "top": null,
            "visibility": null,
            "width": null
          }
        },
        "5202cd72ebbd44d2ad4d928e3d75510b": {
          "model_module": "@jupyter-widgets/base",
          "model_name": "LayoutModel",
          "model_module_version": "1.2.0",
          "state": {
            "_model_module": "@jupyter-widgets/base",
            "_model_module_version": "1.2.0",
            "_model_name": "LayoutModel",
            "_view_count": null,
            "_view_module": "@jupyter-widgets/base",
            "_view_module_version": "1.2.0",
            "_view_name": "LayoutView",
            "align_content": null,
            "align_items": null,
            "align_self": null,
            "border": null,
            "bottom": null,
            "display": null,
            "flex": null,
            "flex_flow": null,
            "grid_area": null,
            "grid_auto_columns": null,
            "grid_auto_flow": null,
            "grid_auto_rows": null,
            "grid_column": null,
            "grid_gap": null,
            "grid_row": null,
            "grid_template_areas": null,
            "grid_template_columns": null,
            "grid_template_rows": null,
            "height": null,
            "justify_content": null,
            "justify_items": null,
            "left": null,
            "margin": null,
            "max_height": null,
            "max_width": null,
            "min_height": null,
            "min_width": null,
            "object_fit": null,
            "object_position": null,
            "order": null,
            "overflow": null,
            "overflow_x": null,
            "overflow_y": null,
            "padding": null,
            "right": null,
            "top": null,
            "visibility": null,
            "width": null
          }
        },
        "24f2473dda504fb08bae50880d59c558": {
          "model_module": "@jupyter-widgets/controls",
          "model_name": "DescriptionStyleModel",
          "model_module_version": "1.5.0",
          "state": {
            "_model_module": "@jupyter-widgets/controls",
            "_model_module_version": "1.5.0",
            "_model_name": "DescriptionStyleModel",
            "_view_count": null,
            "_view_module": "@jupyter-widgets/base",
            "_view_module_version": "1.2.0",
            "_view_name": "StyleView",
            "description_width": ""
          }
        },
        "06cd91baf2234eb6bbb6becdb93ca77b": {
          "model_module": "@jupyter-widgets/base",
          "model_name": "LayoutModel",
          "model_module_version": "1.2.0",
          "state": {
            "_model_module": "@jupyter-widgets/base",
            "_model_module_version": "1.2.0",
            "_model_name": "LayoutModel",
            "_view_count": null,
            "_view_module": "@jupyter-widgets/base",
            "_view_module_version": "1.2.0",
            "_view_name": "LayoutView",
            "align_content": null,
            "align_items": null,
            "align_self": null,
            "border": null,
            "bottom": null,
            "display": null,
            "flex": null,
            "flex_flow": null,
            "grid_area": null,
            "grid_auto_columns": null,
            "grid_auto_flow": null,
            "grid_auto_rows": null,
            "grid_column": null,
            "grid_gap": null,
            "grid_row": null,
            "grid_template_areas": null,
            "grid_template_columns": null,
            "grid_template_rows": null,
            "height": null,
            "justify_content": null,
            "justify_items": null,
            "left": null,
            "margin": null,
            "max_height": null,
            "max_width": null,
            "min_height": null,
            "min_width": null,
            "object_fit": null,
            "object_position": null,
            "order": null,
            "overflow": null,
            "overflow_x": null,
            "overflow_y": null,
            "padding": null,
            "right": null,
            "top": null,
            "visibility": null,
            "width": null
          }
        },
        "351e9068220f45f3868215510d5f7961": {
          "model_module": "@jupyter-widgets/controls",
          "model_name": "ProgressStyleModel",
          "model_module_version": "1.5.0",
          "state": {
            "_model_module": "@jupyter-widgets/controls",
            "_model_module_version": "1.5.0",
            "_model_name": "ProgressStyleModel",
            "_view_count": null,
            "_view_module": "@jupyter-widgets/base",
            "_view_module_version": "1.2.0",
            "_view_name": "StyleView",
            "bar_color": null,
            "description_width": ""
          }
        },
        "407f14647eea4b7eacd16dd057a72bf1": {
          "model_module": "@jupyter-widgets/base",
          "model_name": "LayoutModel",
          "model_module_version": "1.2.0",
          "state": {
            "_model_module": "@jupyter-widgets/base",
            "_model_module_version": "1.2.0",
            "_model_name": "LayoutModel",
            "_view_count": null,
            "_view_module": "@jupyter-widgets/base",
            "_view_module_version": "1.2.0",
            "_view_name": "LayoutView",
            "align_content": null,
            "align_items": null,
            "align_self": null,
            "border": null,
            "bottom": null,
            "display": null,
            "flex": null,
            "flex_flow": null,
            "grid_area": null,
            "grid_auto_columns": null,
            "grid_auto_flow": null,
            "grid_auto_rows": null,
            "grid_column": null,
            "grid_gap": null,
            "grid_row": null,
            "grid_template_areas": null,
            "grid_template_columns": null,
            "grid_template_rows": null,
            "height": null,
            "justify_content": null,
            "justify_items": null,
            "left": null,
            "margin": null,
            "max_height": null,
            "max_width": null,
            "min_height": null,
            "min_width": null,
            "object_fit": null,
            "object_position": null,
            "order": null,
            "overflow": null,
            "overflow_x": null,
            "overflow_y": null,
            "padding": null,
            "right": null,
            "top": null,
            "visibility": null,
            "width": null
          }
        },
        "a53813365eea4a0380510c0d14cc9e7d": {
          "model_module": "@jupyter-widgets/controls",
          "model_name": "DescriptionStyleModel",
          "model_module_version": "1.5.0",
          "state": {
            "_model_module": "@jupyter-widgets/controls",
            "_model_module_version": "1.5.0",
            "_model_name": "DescriptionStyleModel",
            "_view_count": null,
            "_view_module": "@jupyter-widgets/base",
            "_view_module_version": "1.2.0",
            "_view_name": "StyleView",
            "description_width": ""
          }
        }
      }
    }
  },
  "nbformat": 4,
  "nbformat_minor": 0
}